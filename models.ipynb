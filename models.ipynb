{
 "cells": [
  {
   "attachments": {},
   "cell_type": "markdown",
   "metadata": {},
   "source": [
    "# Model Exploration\n",
    "* This notebook is broken into two sections; Pre-Campaign Modeling, Post-Campaign modeling.\n",
    "* The first section trains models using pre-campaign features of the dataset and then uses the whole dataset to try and predict which customers are likely to subscribe to a term deposit product \n",
    "* The second section looks at the dataset as a whole and attempts to minimize the call time that employees have to spend calling customers that are in actuality NOT going to subscribe to the product. Feature extraction is also implemented to see if model performance increases."
   ]
  },
  {
   "cell_type": "code",
   "execution_count": 1502,
   "metadata": {},
   "outputs": [],
   "source": [
    "import pandas as pd\n",
    "import pycaret\n",
    "from sklearn.model_selection import train_test_split, GridSearchCV, RandomizedSearchCV\n",
    "from sklearn.metrics import classification_report, confusion_matrix, roc_curve, roc_auc_score\n",
    "from sklearn.compose import ColumnTransformer, make_column_transformer\n",
    "import warnings\n",
    "warnings.filterwarnings(action='ignore')"
   ]
  },
  {
   "cell_type": "code",
   "execution_count": 1503,
   "metadata": {},
   "outputs": [
    {
     "data": {
      "text/html": [
       "<div>\n",
       "<style scoped>\n",
       "    .dataframe tbody tr th:only-of-type {\n",
       "        vertical-align: middle;\n",
       "    }\n",
       "\n",
       "    .dataframe tbody tr th {\n",
       "        vertical-align: top;\n",
       "    }\n",
       "\n",
       "    .dataframe thead th {\n",
       "        text-align: right;\n",
       "    }\n",
       "</style>\n",
       "<table border=\"1\" class=\"dataframe\">\n",
       "  <thead>\n",
       "    <tr style=\"text-align: right;\">\n",
       "      <th></th>\n",
       "      <th>age</th>\n",
       "      <th>job</th>\n",
       "      <th>marital</th>\n",
       "      <th>education</th>\n",
       "      <th>default</th>\n",
       "      <th>balance</th>\n",
       "      <th>housing</th>\n",
       "      <th>loan</th>\n",
       "      <th>contact</th>\n",
       "      <th>day</th>\n",
       "      <th>month</th>\n",
       "      <th>campaign</th>\n",
       "      <th>y</th>\n",
       "      <th>duration_in_minutes</th>\n",
       "    </tr>\n",
       "  </thead>\n",
       "  <tbody>\n",
       "    <tr>\n",
       "      <th>0</th>\n",
       "      <td>58</td>\n",
       "      <td>management</td>\n",
       "      <td>married</td>\n",
       "      <td>tertiary</td>\n",
       "      <td>0</td>\n",
       "      <td>2143</td>\n",
       "      <td>1</td>\n",
       "      <td>0</td>\n",
       "      <td>unknown</td>\n",
       "      <td>5</td>\n",
       "      <td>may</td>\n",
       "      <td>1</td>\n",
       "      <td>0</td>\n",
       "      <td>4.350000</td>\n",
       "    </tr>\n",
       "    <tr>\n",
       "      <th>1</th>\n",
       "      <td>44</td>\n",
       "      <td>technician</td>\n",
       "      <td>single</td>\n",
       "      <td>secondary</td>\n",
       "      <td>0</td>\n",
       "      <td>29</td>\n",
       "      <td>1</td>\n",
       "      <td>0</td>\n",
       "      <td>unknown</td>\n",
       "      <td>5</td>\n",
       "      <td>may</td>\n",
       "      <td>1</td>\n",
       "      <td>0</td>\n",
       "      <td>2.516667</td>\n",
       "    </tr>\n",
       "    <tr>\n",
       "      <th>2</th>\n",
       "      <td>33</td>\n",
       "      <td>entrepreneur</td>\n",
       "      <td>married</td>\n",
       "      <td>secondary</td>\n",
       "      <td>0</td>\n",
       "      <td>2</td>\n",
       "      <td>1</td>\n",
       "      <td>1</td>\n",
       "      <td>unknown</td>\n",
       "      <td>5</td>\n",
       "      <td>may</td>\n",
       "      <td>1</td>\n",
       "      <td>0</td>\n",
       "      <td>1.266667</td>\n",
       "    </tr>\n",
       "    <tr>\n",
       "      <th>3</th>\n",
       "      <td>47</td>\n",
       "      <td>blue-collar</td>\n",
       "      <td>married</td>\n",
       "      <td>unknown</td>\n",
       "      <td>0</td>\n",
       "      <td>1506</td>\n",
       "      <td>1</td>\n",
       "      <td>0</td>\n",
       "      <td>unknown</td>\n",
       "      <td>5</td>\n",
       "      <td>may</td>\n",
       "      <td>1</td>\n",
       "      <td>0</td>\n",
       "      <td>1.533333</td>\n",
       "    </tr>\n",
       "    <tr>\n",
       "      <th>4</th>\n",
       "      <td>33</td>\n",
       "      <td>unknown</td>\n",
       "      <td>single</td>\n",
       "      <td>unknown</td>\n",
       "      <td>0</td>\n",
       "      <td>1</td>\n",
       "      <td>0</td>\n",
       "      <td>0</td>\n",
       "      <td>unknown</td>\n",
       "      <td>5</td>\n",
       "      <td>may</td>\n",
       "      <td>1</td>\n",
       "      <td>0</td>\n",
       "      <td>3.300000</td>\n",
       "    </tr>\n",
       "  </tbody>\n",
       "</table>\n",
       "</div>"
      ],
      "text/plain": [
       "   age           job  marital  education  default  balance  housing  loan  \\\n",
       "0   58    management  married   tertiary        0     2143        1     0   \n",
       "1   44    technician   single  secondary        0       29        1     0   \n",
       "2   33  entrepreneur  married  secondary        0        2        1     1   \n",
       "3   47   blue-collar  married    unknown        0     1506        1     0   \n",
       "4   33       unknown   single    unknown        0        1        0     0   \n",
       "\n",
       "   contact  day month  campaign  y  duration_in_minutes  \n",
       "0  unknown    5   may         1  0             4.350000  \n",
       "1  unknown    5   may         1  0             2.516667  \n",
       "2  unknown    5   may         1  0             1.266667  \n",
       "3  unknown    5   may         1  0             1.533333  \n",
       "4  unknown    5   may         1  0             3.300000  "
      ]
     },
     "execution_count": 1503,
     "metadata": {},
     "output_type": "execute_result"
    }
   ],
   "source": [
    "df_ = pd.read_parquet('Data/model-ready-term-deposit-marketing-2020.parquet')\n",
    "df_.head()"
   ]
  },
  {
   "cell_type": "code",
   "execution_count": 1658,
   "metadata": {},
   "outputs": [
    {
     "name": "stdout",
     "output_type": "stream",
     "text": [
      "<class 'pandas.core.frame.DataFrame'>\n",
      "RangeIndex: 40000 entries, 0 to 39999\n",
      "Data columns (total 14 columns):\n",
      " #   Column               Non-Null Count  Dtype   \n",
      "---  ------               --------------  -----   \n",
      " 0   age                  40000 non-null  int64   \n",
      " 1   job                  40000 non-null  category\n",
      " 2   marital              40000 non-null  category\n",
      " 3   education            40000 non-null  category\n",
      " 4   default              40000 non-null  int32   \n",
      " 5   balance              40000 non-null  int64   \n",
      " 6   housing              40000 non-null  int32   \n",
      " 7   loan                 40000 non-null  int32   \n",
      " 8   contact              40000 non-null  category\n",
      " 9   day                  40000 non-null  int64   \n",
      " 10  month                40000 non-null  category\n",
      " 11  campaign             40000 non-null  int64   \n",
      " 12  y                    40000 non-null  int32   \n",
      " 13  duration_in_minutes  40000 non-null  float64 \n",
      "dtypes: category(5), float64(1), int32(4), int64(4)\n",
      "memory usage: 2.3 MB\n"
     ]
    }
   ],
   "source": [
    "df_.info()"
   ]
  },
  {
   "cell_type": "code",
   "execution_count": 1659,
   "metadata": {},
   "outputs": [
    {
     "data": {
      "text/html": [
       "<div>\n",
       "<style scoped>\n",
       "    .dataframe tbody tr th:only-of-type {\n",
       "        vertical-align: middle;\n",
       "    }\n",
       "\n",
       "    .dataframe tbody tr th {\n",
       "        vertical-align: top;\n",
       "    }\n",
       "\n",
       "    .dataframe thead th {\n",
       "        text-align: right;\n",
       "    }\n",
       "</style>\n",
       "<table border=\"1\" class=\"dataframe\">\n",
       "  <thead>\n",
       "    <tr style=\"text-align: right;\">\n",
       "      <th></th>\n",
       "      <th>age</th>\n",
       "      <th>job</th>\n",
       "      <th>marital</th>\n",
       "      <th>education</th>\n",
       "      <th>default</th>\n",
       "      <th>balance</th>\n",
       "      <th>housing</th>\n",
       "      <th>loan</th>\n",
       "      <th>contact</th>\n",
       "      <th>day</th>\n",
       "      <th>month</th>\n",
       "      <th>campaign</th>\n",
       "      <th>duration_in_minutes</th>\n",
       "    </tr>\n",
       "  </thead>\n",
       "  <tbody>\n",
       "    <tr>\n",
       "      <th>0</th>\n",
       "      <td>58</td>\n",
       "      <td>management</td>\n",
       "      <td>married</td>\n",
       "      <td>tertiary</td>\n",
       "      <td>0</td>\n",
       "      <td>2143</td>\n",
       "      <td>1</td>\n",
       "      <td>0</td>\n",
       "      <td>unknown</td>\n",
       "      <td>5</td>\n",
       "      <td>may</td>\n",
       "      <td>1</td>\n",
       "      <td>4.350000</td>\n",
       "    </tr>\n",
       "    <tr>\n",
       "      <th>1</th>\n",
       "      <td>44</td>\n",
       "      <td>technician</td>\n",
       "      <td>single</td>\n",
       "      <td>secondary</td>\n",
       "      <td>0</td>\n",
       "      <td>29</td>\n",
       "      <td>1</td>\n",
       "      <td>0</td>\n",
       "      <td>unknown</td>\n",
       "      <td>5</td>\n",
       "      <td>may</td>\n",
       "      <td>1</td>\n",
       "      <td>2.516667</td>\n",
       "    </tr>\n",
       "    <tr>\n",
       "      <th>2</th>\n",
       "      <td>33</td>\n",
       "      <td>entrepreneur</td>\n",
       "      <td>married</td>\n",
       "      <td>secondary</td>\n",
       "      <td>0</td>\n",
       "      <td>2</td>\n",
       "      <td>1</td>\n",
       "      <td>1</td>\n",
       "      <td>unknown</td>\n",
       "      <td>5</td>\n",
       "      <td>may</td>\n",
       "      <td>1</td>\n",
       "      <td>1.266667</td>\n",
       "    </tr>\n",
       "    <tr>\n",
       "      <th>3</th>\n",
       "      <td>47</td>\n",
       "      <td>blue-collar</td>\n",
       "      <td>married</td>\n",
       "      <td>unknown</td>\n",
       "      <td>0</td>\n",
       "      <td>1506</td>\n",
       "      <td>1</td>\n",
       "      <td>0</td>\n",
       "      <td>unknown</td>\n",
       "      <td>5</td>\n",
       "      <td>may</td>\n",
       "      <td>1</td>\n",
       "      <td>1.533333</td>\n",
       "    </tr>\n",
       "    <tr>\n",
       "      <th>4</th>\n",
       "      <td>33</td>\n",
       "      <td>unknown</td>\n",
       "      <td>single</td>\n",
       "      <td>unknown</td>\n",
       "      <td>0</td>\n",
       "      <td>1</td>\n",
       "      <td>0</td>\n",
       "      <td>0</td>\n",
       "      <td>unknown</td>\n",
       "      <td>5</td>\n",
       "      <td>may</td>\n",
       "      <td>1</td>\n",
       "      <td>3.300000</td>\n",
       "    </tr>\n",
       "  </tbody>\n",
       "</table>\n",
       "</div>"
      ],
      "text/plain": [
       "   age           job  marital  education  default  balance  housing  loan  \\\n",
       "0   58    management  married   tertiary        0     2143        1     0   \n",
       "1   44    technician   single  secondary        0       29        1     0   \n",
       "2   33  entrepreneur  married  secondary        0        2        1     1   \n",
       "3   47   blue-collar  married    unknown        0     1506        1     0   \n",
       "4   33       unknown   single    unknown        0        1        0     0   \n",
       "\n",
       "   contact  day month  campaign  duration_in_minutes  \n",
       "0  unknown    5   may         1             4.350000  \n",
       "1  unknown    5   may         1             2.516667  \n",
       "2  unknown    5   may         1             1.266667  \n",
       "3  unknown    5   may         1             1.533333  \n",
       "4  unknown    5   may         1             3.300000  "
      ]
     },
     "execution_count": 1659,
     "metadata": {},
     "output_type": "execute_result"
    }
   ],
   "source": [
    "target_variable = df_['y']\n",
    "\n",
    "X = df_.drop(columns='y', axis=1)\n",
    "\n",
    "X.head()"
   ]
  },
  {
   "attachments": {},
   "cell_type": "markdown",
   "metadata": {},
   "source": [
    "## Pre-Campaign Modeling\n",
    "* Looking at the first 8 columns of features this section looks at obtaining the highest recall score for class 1\n",
    "* Pycaret will be used to look for optimal models to look at more closely\n",
    "* RandomizedSearch and Optuna will be used for hyperparameter tuning"
   ]
  },
  {
   "cell_type": "code",
   "execution_count": 1660,
   "metadata": {},
   "outputs": [
    {
     "data": {
      "text/html": [
       "<div>\n",
       "<style scoped>\n",
       "    .dataframe tbody tr th:only-of-type {\n",
       "        vertical-align: middle;\n",
       "    }\n",
       "\n",
       "    .dataframe tbody tr th {\n",
       "        vertical-align: top;\n",
       "    }\n",
       "\n",
       "    .dataframe thead th {\n",
       "        text-align: right;\n",
       "    }\n",
       "</style>\n",
       "<table border=\"1\" class=\"dataframe\">\n",
       "  <thead>\n",
       "    <tr style=\"text-align: right;\">\n",
       "      <th></th>\n",
       "      <th>age</th>\n",
       "      <th>job</th>\n",
       "      <th>marital</th>\n",
       "      <th>education</th>\n",
       "      <th>default</th>\n",
       "      <th>balance</th>\n",
       "      <th>housing</th>\n",
       "      <th>loan</th>\n",
       "    </tr>\n",
       "  </thead>\n",
       "  <tbody>\n",
       "    <tr>\n",
       "      <th>0</th>\n",
       "      <td>58</td>\n",
       "      <td>management</td>\n",
       "      <td>married</td>\n",
       "      <td>tertiary</td>\n",
       "      <td>0</td>\n",
       "      <td>2143</td>\n",
       "      <td>1</td>\n",
       "      <td>0</td>\n",
       "    </tr>\n",
       "    <tr>\n",
       "      <th>1</th>\n",
       "      <td>44</td>\n",
       "      <td>technician</td>\n",
       "      <td>single</td>\n",
       "      <td>secondary</td>\n",
       "      <td>0</td>\n",
       "      <td>29</td>\n",
       "      <td>1</td>\n",
       "      <td>0</td>\n",
       "    </tr>\n",
       "    <tr>\n",
       "      <th>2</th>\n",
       "      <td>33</td>\n",
       "      <td>entrepreneur</td>\n",
       "      <td>married</td>\n",
       "      <td>secondary</td>\n",
       "      <td>0</td>\n",
       "      <td>2</td>\n",
       "      <td>1</td>\n",
       "      <td>1</td>\n",
       "    </tr>\n",
       "    <tr>\n",
       "      <th>3</th>\n",
       "      <td>47</td>\n",
       "      <td>blue-collar</td>\n",
       "      <td>married</td>\n",
       "      <td>unknown</td>\n",
       "      <td>0</td>\n",
       "      <td>1506</td>\n",
       "      <td>1</td>\n",
       "      <td>0</td>\n",
       "    </tr>\n",
       "    <tr>\n",
       "      <th>4</th>\n",
       "      <td>33</td>\n",
       "      <td>unknown</td>\n",
       "      <td>single</td>\n",
       "      <td>unknown</td>\n",
       "      <td>0</td>\n",
       "      <td>1</td>\n",
       "      <td>0</td>\n",
       "      <td>0</td>\n",
       "    </tr>\n",
       "  </tbody>\n",
       "</table>\n",
       "</div>"
      ],
      "text/plain": [
       "   age           job  marital  education  default  balance  housing  loan\n",
       "0   58    management  married   tertiary        0     2143        1     0\n",
       "1   44    technician   single  secondary        0       29        1     0\n",
       "2   33  entrepreneur  married  secondary        0        2        1     1\n",
       "3   47   blue-collar  married    unknown        0     1506        1     0\n",
       "4   33       unknown   single    unknown        0        1        0     0"
      ]
     },
     "execution_count": 1660,
     "metadata": {},
     "output_type": "execute_result"
    }
   ],
   "source": [
    "pre_campaign_df = X.iloc[:, 0:8]\n",
    "pre_campaign_df.head()"
   ]
  },
  {
   "cell_type": "code",
   "execution_count": 1661,
   "metadata": {},
   "outputs": [
    {
     "name": "stdout",
     "output_type": "stream",
     "text": [
      "Numerical features:   ['age', 'default', 'balance', 'housing', 'loan']\n",
      "Categorical features: ['job', 'marital', 'education']\n"
     ]
    }
   ],
   "source": [
    "num_features = [col for col in pre_campaign_df.columns if X[col].dtype != 'category']\n",
    "print(f\"Numerical features:   {num_features}\")\n",
    "categ_features = [col for col in pre_campaign_df.columns if X[col].dtype == 'category']\n",
    "print(f\"Categorical features: {categ_features}\")"
   ]
  },
  {
   "cell_type": "code",
   "execution_count": 1508,
   "metadata": {},
   "outputs": [
    {
     "name": "stdout",
     "output_type": "stream",
     "text": [
      "Type of imbalance technique: randomoversampler\n"
     ]
    },
    {
     "data": {
      "text/html": [
       "<style type=\"text/css\">\n",
       "#T_d9c65_row9_col1, #T_d9c65_row15_col1 {\n",
       "  background-color: lightgreen;\n",
       "}\n",
       "</style>\n",
       "<table id=\"T_d9c65\">\n",
       "  <thead>\n",
       "    <tr>\n",
       "      <th class=\"blank level0\" >&nbsp;</th>\n",
       "      <th id=\"T_d9c65_level0_col0\" class=\"col_heading level0 col0\" >Description</th>\n",
       "      <th id=\"T_d9c65_level0_col1\" class=\"col_heading level0 col1\" >Value</th>\n",
       "    </tr>\n",
       "  </thead>\n",
       "  <tbody>\n",
       "    <tr>\n",
       "      <th id=\"T_d9c65_level0_row0\" class=\"row_heading level0 row0\" >0</th>\n",
       "      <td id=\"T_d9c65_row0_col0\" class=\"data row0 col0\" >Session id</td>\n",
       "      <td id=\"T_d9c65_row0_col1\" class=\"data row0 col1\" >3046</td>\n",
       "    </tr>\n",
       "    <tr>\n",
       "      <th id=\"T_d9c65_level0_row1\" class=\"row_heading level0 row1\" >1</th>\n",
       "      <td id=\"T_d9c65_row1_col0\" class=\"data row1 col0\" >Target</td>\n",
       "      <td id=\"T_d9c65_row1_col1\" class=\"data row1 col1\" >y</td>\n",
       "    </tr>\n",
       "    <tr>\n",
       "      <th id=\"T_d9c65_level0_row2\" class=\"row_heading level0 row2\" >2</th>\n",
       "      <td id=\"T_d9c65_row2_col0\" class=\"data row2 col0\" >Target type</td>\n",
       "      <td id=\"T_d9c65_row2_col1\" class=\"data row2 col1\" >Binary</td>\n",
       "    </tr>\n",
       "    <tr>\n",
       "      <th id=\"T_d9c65_level0_row3\" class=\"row_heading level0 row3\" >3</th>\n",
       "      <td id=\"T_d9c65_row3_col0\" class=\"data row3 col0\" >Original data shape</td>\n",
       "      <td id=\"T_d9c65_row3_col1\" class=\"data row3 col1\" >(40000, 9)</td>\n",
       "    </tr>\n",
       "    <tr>\n",
       "      <th id=\"T_d9c65_level0_row4\" class=\"row_heading level0 row4\" >4</th>\n",
       "      <td id=\"T_d9c65_row4_col0\" class=\"data row4 col0\" >Transformed data shape</td>\n",
       "      <td id=\"T_d9c65_row4_col1\" class=\"data row4 col1\" >(67366, 25)</td>\n",
       "    </tr>\n",
       "    <tr>\n",
       "      <th id=\"T_d9c65_level0_row5\" class=\"row_heading level0 row5\" >5</th>\n",
       "      <td id=\"T_d9c65_row5_col0\" class=\"data row5 col0\" >Transformed train set shape</td>\n",
       "      <td id=\"T_d9c65_row5_col1\" class=\"data row5 col1\" >(59366, 25)</td>\n",
       "    </tr>\n",
       "    <tr>\n",
       "      <th id=\"T_d9c65_level0_row6\" class=\"row_heading level0 row6\" >6</th>\n",
       "      <td id=\"T_d9c65_row6_col0\" class=\"data row6 col0\" >Transformed test set shape</td>\n",
       "      <td id=\"T_d9c65_row6_col1\" class=\"data row6 col1\" >(8000, 25)</td>\n",
       "    </tr>\n",
       "    <tr>\n",
       "      <th id=\"T_d9c65_level0_row7\" class=\"row_heading level0 row7\" >7</th>\n",
       "      <td id=\"T_d9c65_row7_col0\" class=\"data row7 col0\" >Numeric features</td>\n",
       "      <td id=\"T_d9c65_row7_col1\" class=\"data row7 col1\" >5</td>\n",
       "    </tr>\n",
       "    <tr>\n",
       "      <th id=\"T_d9c65_level0_row8\" class=\"row_heading level0 row8\" >8</th>\n",
       "      <td id=\"T_d9c65_row8_col0\" class=\"data row8 col0\" >Categorical features</td>\n",
       "      <td id=\"T_d9c65_row8_col1\" class=\"data row8 col1\" >3</td>\n",
       "    </tr>\n",
       "    <tr>\n",
       "      <th id=\"T_d9c65_level0_row9\" class=\"row_heading level0 row9\" >9</th>\n",
       "      <td id=\"T_d9c65_row9_col0\" class=\"data row9 col0\" >Preprocess</td>\n",
       "      <td id=\"T_d9c65_row9_col1\" class=\"data row9 col1\" >True</td>\n",
       "    </tr>\n",
       "    <tr>\n",
       "      <th id=\"T_d9c65_level0_row10\" class=\"row_heading level0 row10\" >10</th>\n",
       "      <td id=\"T_d9c65_row10_col0\" class=\"data row10 col0\" >Imputation type</td>\n",
       "      <td id=\"T_d9c65_row10_col1\" class=\"data row10 col1\" >simple</td>\n",
       "    </tr>\n",
       "    <tr>\n",
       "      <th id=\"T_d9c65_level0_row11\" class=\"row_heading level0 row11\" >11</th>\n",
       "      <td id=\"T_d9c65_row11_col0\" class=\"data row11 col0\" >Numeric imputation</td>\n",
       "      <td id=\"T_d9c65_row11_col1\" class=\"data row11 col1\" >mean</td>\n",
       "    </tr>\n",
       "    <tr>\n",
       "      <th id=\"T_d9c65_level0_row12\" class=\"row_heading level0 row12\" >12</th>\n",
       "      <td id=\"T_d9c65_row12_col0\" class=\"data row12 col0\" >Categorical imputation</td>\n",
       "      <td id=\"T_d9c65_row12_col1\" class=\"data row12 col1\" >mode</td>\n",
       "    </tr>\n",
       "    <tr>\n",
       "      <th id=\"T_d9c65_level0_row13\" class=\"row_heading level0 row13\" >13</th>\n",
       "      <td id=\"T_d9c65_row13_col0\" class=\"data row13 col0\" >Maximum one-hot encoding</td>\n",
       "      <td id=\"T_d9c65_row13_col1\" class=\"data row13 col1\" >25</td>\n",
       "    </tr>\n",
       "    <tr>\n",
       "      <th id=\"T_d9c65_level0_row14\" class=\"row_heading level0 row14\" >14</th>\n",
       "      <td id=\"T_d9c65_row14_col0\" class=\"data row14 col0\" >Encoding method</td>\n",
       "      <td id=\"T_d9c65_row14_col1\" class=\"data row14 col1\" >None</td>\n",
       "    </tr>\n",
       "    <tr>\n",
       "      <th id=\"T_d9c65_level0_row15\" class=\"row_heading level0 row15\" >15</th>\n",
       "      <td id=\"T_d9c65_row15_col0\" class=\"data row15 col0\" >Fix imbalance</td>\n",
       "      <td id=\"T_d9c65_row15_col1\" class=\"data row15 col1\" >True</td>\n",
       "    </tr>\n",
       "    <tr>\n",
       "      <th id=\"T_d9c65_level0_row16\" class=\"row_heading level0 row16\" >16</th>\n",
       "      <td id=\"T_d9c65_row16_col0\" class=\"data row16 col0\" >Fix imbalance method</td>\n",
       "      <td id=\"T_d9c65_row16_col1\" class=\"data row16 col1\" >randomoversampler</td>\n",
       "    </tr>\n",
       "    <tr>\n",
       "      <th id=\"T_d9c65_level0_row17\" class=\"row_heading level0 row17\" >17</th>\n",
       "      <td id=\"T_d9c65_row17_col0\" class=\"data row17 col0\" >Fold Generator</td>\n",
       "      <td id=\"T_d9c65_row17_col1\" class=\"data row17 col1\" >StratifiedKFold</td>\n",
       "    </tr>\n",
       "    <tr>\n",
       "      <th id=\"T_d9c65_level0_row18\" class=\"row_heading level0 row18\" >18</th>\n",
       "      <td id=\"T_d9c65_row18_col0\" class=\"data row18 col0\" >Fold Number</td>\n",
       "      <td id=\"T_d9c65_row18_col1\" class=\"data row18 col1\" >10</td>\n",
       "    </tr>\n",
       "    <tr>\n",
       "      <th id=\"T_d9c65_level0_row19\" class=\"row_heading level0 row19\" >19</th>\n",
       "      <td id=\"T_d9c65_row19_col0\" class=\"data row19 col0\" >CPU Jobs</td>\n",
       "      <td id=\"T_d9c65_row19_col1\" class=\"data row19 col1\" >-1</td>\n",
       "    </tr>\n",
       "    <tr>\n",
       "      <th id=\"T_d9c65_level0_row20\" class=\"row_heading level0 row20\" >20</th>\n",
       "      <td id=\"T_d9c65_row20_col0\" class=\"data row20 col0\" >Use GPU</td>\n",
       "      <td id=\"T_d9c65_row20_col1\" class=\"data row20 col1\" >False</td>\n",
       "    </tr>\n",
       "    <tr>\n",
       "      <th id=\"T_d9c65_level0_row21\" class=\"row_heading level0 row21\" >21</th>\n",
       "      <td id=\"T_d9c65_row21_col0\" class=\"data row21 col0\" >Log Experiment</td>\n",
       "      <td id=\"T_d9c65_row21_col1\" class=\"data row21 col1\" >False</td>\n",
       "    </tr>\n",
       "    <tr>\n",
       "      <th id=\"T_d9c65_level0_row22\" class=\"row_heading level0 row22\" >22</th>\n",
       "      <td id=\"T_d9c65_row22_col0\" class=\"data row22 col0\" >Experiment Name</td>\n",
       "      <td id=\"T_d9c65_row22_col1\" class=\"data row22 col1\" >clf-default-name</td>\n",
       "    </tr>\n",
       "    <tr>\n",
       "      <th id=\"T_d9c65_level0_row23\" class=\"row_heading level0 row23\" >23</th>\n",
       "      <td id=\"T_d9c65_row23_col0\" class=\"data row23 col0\" >USI</td>\n",
       "      <td id=\"T_d9c65_row23_col1\" class=\"data row23 col1\" >6c28</td>\n",
       "    </tr>\n",
       "  </tbody>\n",
       "</table>\n"
      ],
      "text/plain": [
       "<pandas.io.formats.style.Styler at 0x387d5a550>"
      ]
     },
     "metadata": {},
     "output_type": "display_data"
    },
    {
     "name": "stdout",
     "output_type": "stream",
     "text": [
      "\n"
     ]
    },
    {
     "data": {
      "text/html": [],
      "text/plain": [
       "<IPython.core.display.HTML object>"
      ]
     },
     "metadata": {},
     "output_type": "display_data"
    },
    {
     "data": {
      "text/html": [
       "<style type=\"text/css\">\n",
       "#T_53169 th {\n",
       "  text-align: left;\n",
       "}\n",
       "#T_53169_row0_col0, #T_53169_row0_col1, #T_53169_row0_col2, #T_53169_row0_col4, #T_53169_row0_col5, #T_53169_row0_col6, #T_53169_row0_col7, #T_53169_row1_col0, #T_53169_row1_col1, #T_53169_row1_col2, #T_53169_row1_col3, #T_53169_row1_col4, #T_53169_row1_col5, #T_53169_row1_col6, #T_53169_row1_col7, #T_53169_row2_col0, #T_53169_row2_col1, #T_53169_row2_col2, #T_53169_row2_col3, #T_53169_row2_col4, #T_53169_row2_col5, #T_53169_row2_col6, #T_53169_row2_col7, #T_53169_row3_col0, #T_53169_row3_col1, #T_53169_row3_col2, #T_53169_row3_col3, #T_53169_row3_col4, #T_53169_row3_col5, #T_53169_row3_col6, #T_53169_row3_col7, #T_53169_row4_col0, #T_53169_row4_col1, #T_53169_row4_col2, #T_53169_row4_col3, #T_53169_row4_col4, #T_53169_row4_col5, #T_53169_row4_col6, #T_53169_row4_col7, #T_53169_row5_col0, #T_53169_row5_col1, #T_53169_row5_col2, #T_53169_row5_col3, #T_53169_row5_col4, #T_53169_row5_col5, #T_53169_row5_col6, #T_53169_row5_col7, #T_53169_row6_col0, #T_53169_row6_col1, #T_53169_row6_col3, #T_53169_row6_col4, #T_53169_row6_col5, #T_53169_row6_col6, #T_53169_row6_col7, #T_53169_row7_col0, #T_53169_row7_col1, #T_53169_row7_col2, #T_53169_row7_col3, #T_53169_row7_col4, #T_53169_row7_col5, #T_53169_row7_col6, #T_53169_row7_col7, #T_53169_row8_col0, #T_53169_row8_col1, #T_53169_row8_col2, #T_53169_row8_col3, #T_53169_row8_col4, #T_53169_row8_col6, #T_53169_row9_col0, #T_53169_row9_col1, #T_53169_row9_col2, #T_53169_row9_col3, #T_53169_row9_col4, #T_53169_row9_col5, #T_53169_row9_col6, #T_53169_row9_col7, #T_53169_row10_col0, #T_53169_row10_col1, #T_53169_row10_col2, #T_53169_row10_col3, #T_53169_row10_col4, #T_53169_row10_col5, #T_53169_row10_col6, #T_53169_row10_col7, #T_53169_row11_col0, #T_53169_row11_col1, #T_53169_row11_col2, #T_53169_row11_col3, #T_53169_row11_col4, #T_53169_row11_col5, #T_53169_row11_col6, #T_53169_row11_col7, #T_53169_row12_col0, #T_53169_row12_col1, #T_53169_row12_col2, #T_53169_row12_col3, #T_53169_row12_col5, #T_53169_row12_col7, #T_53169_row13_col0, #T_53169_row13_col1, #T_53169_row13_col2, #T_53169_row13_col3, #T_53169_row13_col4, #T_53169_row13_col5, #T_53169_row13_col6, #T_53169_row13_col7, #T_53169_row14_col0, #T_53169_row14_col2, #T_53169_row14_col3, #T_53169_row14_col4, #T_53169_row14_col5, #T_53169_row14_col6, #T_53169_row14_col7 {\n",
       "  text-align: left;\n",
       "}\n",
       "#T_53169_row0_col3, #T_53169_row6_col2, #T_53169_row8_col5, #T_53169_row8_col7, #T_53169_row12_col4, #T_53169_row12_col6, #T_53169_row14_col1 {\n",
       "  text-align: left;\n",
       "  background-color: yellow;\n",
       "}\n",
       "#T_53169_row0_col8, #T_53169_row1_col8, #T_53169_row2_col8, #T_53169_row3_col8, #T_53169_row5_col8, #T_53169_row6_col8, #T_53169_row7_col8, #T_53169_row8_col8, #T_53169_row9_col8, #T_53169_row10_col8, #T_53169_row11_col8, #T_53169_row12_col8, #T_53169_row13_col8, #T_53169_row14_col8 {\n",
       "  text-align: left;\n",
       "  background-color: lightgrey;\n",
       "}\n",
       "#T_53169_row4_col8 {\n",
       "  text-align: left;\n",
       "  background-color: yellow;\n",
       "  background-color: lightgrey;\n",
       "}\n",
       "</style>\n",
       "<table id=\"T_53169\">\n",
       "  <thead>\n",
       "    <tr>\n",
       "      <th class=\"blank level0\" >&nbsp;</th>\n",
       "      <th id=\"T_53169_level0_col0\" class=\"col_heading level0 col0\" >Model</th>\n",
       "      <th id=\"T_53169_level0_col1\" class=\"col_heading level0 col1\" >Accuracy</th>\n",
       "      <th id=\"T_53169_level0_col2\" class=\"col_heading level0 col2\" >AUC</th>\n",
       "      <th id=\"T_53169_level0_col3\" class=\"col_heading level0 col3\" >Recall</th>\n",
       "      <th id=\"T_53169_level0_col4\" class=\"col_heading level0 col4\" >Prec.</th>\n",
       "      <th id=\"T_53169_level0_col5\" class=\"col_heading level0 col5\" >F1</th>\n",
       "      <th id=\"T_53169_level0_col6\" class=\"col_heading level0 col6\" >Kappa</th>\n",
       "      <th id=\"T_53169_level0_col7\" class=\"col_heading level0 col7\" >MCC</th>\n",
       "      <th id=\"T_53169_level0_col8\" class=\"col_heading level0 col8\" >TT (Sec)</th>\n",
       "    </tr>\n",
       "  </thead>\n",
       "  <tbody>\n",
       "    <tr>\n",
       "      <th id=\"T_53169_level0_row0\" class=\"row_heading level0 row0\" >svm</th>\n",
       "      <td id=\"T_53169_row0_col0\" class=\"data row0 col0\" >SVM - Linear Kernel</td>\n",
       "      <td id=\"T_53169_row0_col1\" class=\"data row0 col1\" >0.4641</td>\n",
       "      <td id=\"T_53169_row0_col2\" class=\"data row0 col2\" >0.5341</td>\n",
       "      <td id=\"T_53169_row0_col3\" class=\"data row0 col3\" >0.6028</td>\n",
       "      <td id=\"T_53169_row0_col4\" class=\"data row0 col4\" >0.0754</td>\n",
       "      <td id=\"T_53169_row0_col5\" class=\"data row0 col5\" >0.1245</td>\n",
       "      <td id=\"T_53169_row0_col6\" class=\"data row0 col6\" >0.0085</td>\n",
       "      <td id=\"T_53169_row0_col7\" class=\"data row0 col7\" >0.0320</td>\n",
       "      <td id=\"T_53169_row0_col8\" class=\"data row0 col8\" >0.5990</td>\n",
       "    </tr>\n",
       "    <tr>\n",
       "      <th id=\"T_53169_level0_row1\" class=\"row_heading level0 row1\" >lr</th>\n",
       "      <td id=\"T_53169_row1_col0\" class=\"data row1 col0\" >Logistic Regression</td>\n",
       "      <td id=\"T_53169_row1_col1\" class=\"data row1 col1\" >0.5923</td>\n",
       "      <td id=\"T_53169_row1_col2\" class=\"data row1 col2\" >0.6033</td>\n",
       "      <td id=\"T_53169_row1_col3\" class=\"data row1 col3\" >0.5615</td>\n",
       "      <td id=\"T_53169_row1_col4\" class=\"data row1 col4\" >0.0976</td>\n",
       "      <td id=\"T_53169_row1_col5\" class=\"data row1 col5\" >0.1663</td>\n",
       "      <td id=\"T_53169_row1_col6\" class=\"data row1 col6\" >0.0489</td>\n",
       "      <td id=\"T_53169_row1_col7\" class=\"data row1 col7\" >0.0821</td>\n",
       "      <td id=\"T_53169_row1_col8\" class=\"data row1 col8\" >2.1790</td>\n",
       "    </tr>\n",
       "    <tr>\n",
       "      <th id=\"T_53169_level0_row2\" class=\"row_heading level0 row2\" >ridge</th>\n",
       "      <td id=\"T_53169_row2_col0\" class=\"data row2 col0\" >Ridge Classifier</td>\n",
       "      <td id=\"T_53169_row2_col1\" class=\"data row2 col1\" >0.5930</td>\n",
       "      <td id=\"T_53169_row2_col2\" class=\"data row2 col2\" >0.6031</td>\n",
       "      <td id=\"T_53169_row2_col3\" class=\"data row2 col3\" >0.5615</td>\n",
       "      <td id=\"T_53169_row2_col4\" class=\"data row2 col4\" >0.0977</td>\n",
       "      <td id=\"T_53169_row2_col5\" class=\"data row2 col5\" >0.1665</td>\n",
       "      <td id=\"T_53169_row2_col6\" class=\"data row2 col6\" >0.0492</td>\n",
       "      <td id=\"T_53169_row2_col7\" class=\"data row2 col7\" >0.0825</td>\n",
       "      <td id=\"T_53169_row2_col8\" class=\"data row2 col8\" >0.1190</td>\n",
       "    </tr>\n",
       "    <tr>\n",
       "      <th id=\"T_53169_level0_row3\" class=\"row_heading level0 row3\" >lda</th>\n",
       "      <td id=\"T_53169_row3_col0\" class=\"data row3 col0\" >Linear Discriminant Analysis</td>\n",
       "      <td id=\"T_53169_row3_col1\" class=\"data row3 col1\" >0.5930</td>\n",
       "      <td id=\"T_53169_row3_col2\" class=\"data row3 col2\" >0.6031</td>\n",
       "      <td id=\"T_53169_row3_col3\" class=\"data row3 col3\" >0.5615</td>\n",
       "      <td id=\"T_53169_row3_col4\" class=\"data row3 col4\" >0.0977</td>\n",
       "      <td id=\"T_53169_row3_col5\" class=\"data row3 col5\" >0.1665</td>\n",
       "      <td id=\"T_53169_row3_col6\" class=\"data row3 col6\" >0.0492</td>\n",
       "      <td id=\"T_53169_row3_col7\" class=\"data row3 col7\" >0.0825</td>\n",
       "      <td id=\"T_53169_row3_col8\" class=\"data row3 col8\" >0.2810</td>\n",
       "    </tr>\n",
       "    <tr>\n",
       "      <th id=\"T_53169_level0_row4\" class=\"row_heading level0 row4\" >nb</th>\n",
       "      <td id=\"T_53169_row4_col0\" class=\"data row4 col0\" >Naive Bayes</td>\n",
       "      <td id=\"T_53169_row4_col1\" class=\"data row4 col1\" >0.5807</td>\n",
       "      <td id=\"T_53169_row4_col2\" class=\"data row4 col2\" >0.5924</td>\n",
       "      <td id=\"T_53169_row4_col3\" class=\"data row4 col3\" >0.5528</td>\n",
       "      <td id=\"T_53169_row4_col4\" class=\"data row4 col4\" >0.0937</td>\n",
       "      <td id=\"T_53169_row4_col5\" class=\"data row4 col5\" >0.1603</td>\n",
       "      <td id=\"T_53169_row4_col6\" class=\"data row4 col6\" >0.0416</td>\n",
       "      <td id=\"T_53169_row4_col7\" class=\"data row4 col7\" >0.0711</td>\n",
       "      <td id=\"T_53169_row4_col8\" class=\"data row4 col8\" >0.0880</td>\n",
       "    </tr>\n",
       "    <tr>\n",
       "      <th id=\"T_53169_level0_row5\" class=\"row_heading level0 row5\" >ada</th>\n",
       "      <td id=\"T_53169_row5_col0\" class=\"data row5 col0\" >Ada Boost Classifier</td>\n",
       "      <td id=\"T_53169_row5_col1\" class=\"data row5 col1\" >0.6196</td>\n",
       "      <td id=\"T_53169_row5_col2\" class=\"data row5 col2\" >0.6140</td>\n",
       "      <td id=\"T_53169_row5_col3\" class=\"data row5 col3\" >0.5261</td>\n",
       "      <td id=\"T_53169_row5_col4\" class=\"data row5 col4\" >0.0992</td>\n",
       "      <td id=\"T_53169_row5_col5\" class=\"data row5 col5\" >0.1669</td>\n",
       "      <td id=\"T_53169_row5_col6\" class=\"data row5 col6\" >0.0513</td>\n",
       "      <td id=\"T_53169_row5_col7\" class=\"data row5 col7\" >0.0816</td>\n",
       "      <td id=\"T_53169_row5_col8\" class=\"data row5 col8\" >1.2380</td>\n",
       "    </tr>\n",
       "    <tr>\n",
       "      <th id=\"T_53169_level0_row6\" class=\"row_heading level0 row6\" >gbc</th>\n",
       "      <td id=\"T_53169_row6_col0\" class=\"data row6 col0\" >Gradient Boosting Classifier</td>\n",
       "      <td id=\"T_53169_row6_col1\" class=\"data row6 col1\" >0.6504</td>\n",
       "      <td id=\"T_53169_row6_col2\" class=\"data row6 col2\" >0.6144</td>\n",
       "      <td id=\"T_53169_row6_col3\" class=\"data row6 col3\" >0.4894</td>\n",
       "      <td id=\"T_53169_row6_col4\" class=\"data row6 col4\" >0.1019</td>\n",
       "      <td id=\"T_53169_row6_col5\" class=\"data row6 col5\" >0.1687</td>\n",
       "      <td id=\"T_53169_row6_col6\" class=\"data row6 col6\" >0.0554</td>\n",
       "      <td id=\"T_53169_row6_col7\" class=\"data row6 col7\" >0.0830</td>\n",
       "      <td id=\"T_53169_row6_col8\" class=\"data row6 col8\" >3.3040</td>\n",
       "    </tr>\n",
       "    <tr>\n",
       "      <th id=\"T_53169_level0_row7\" class=\"row_heading level0 row7\" >qda</th>\n",
       "      <td id=\"T_53169_row7_col0\" class=\"data row7 col0\" >Quadratic Discriminant Analysis</td>\n",
       "      <td id=\"T_53169_row7_col1\" class=\"data row7 col1\" >0.5704</td>\n",
       "      <td id=\"T_53169_row7_col2\" class=\"data row7 col2\" >0.5211</td>\n",
       "      <td id=\"T_53169_row7_col3\" class=\"data row7 col3\" >0.4564</td>\n",
       "      <td id=\"T_53169_row7_col4\" class=\"data row7 col4\" >0.0787</td>\n",
       "      <td id=\"T_53169_row7_col5\" class=\"data row7 col5\" >0.1274</td>\n",
       "      <td id=\"T_53169_row7_col6\" class=\"data row7 col6\" >0.0113</td>\n",
       "      <td id=\"T_53169_row7_col7\" class=\"data row7 col7\" >0.0197</td>\n",
       "      <td id=\"T_53169_row7_col8\" class=\"data row7 col8\" >0.2480</td>\n",
       "    </tr>\n",
       "    <tr>\n",
       "      <th id=\"T_53169_level0_row8\" class=\"row_heading level0 row8\" >lightgbm</th>\n",
       "      <td id=\"T_53169_row8_col0\" class=\"data row8 col0\" >Light Gradient Boosting Machine</td>\n",
       "      <td id=\"T_53169_row8_col1\" class=\"data row8 col1\" >0.6989</td>\n",
       "      <td id=\"T_53169_row8_col2\" class=\"data row8 col2\" >0.6091</td>\n",
       "      <td id=\"T_53169_row8_col3\" class=\"data row8 col3\" >0.4346</td>\n",
       "      <td id=\"T_53169_row8_col4\" class=\"data row8 col4\" >0.1078</td>\n",
       "      <td id=\"T_53169_row8_col5\" class=\"data row8 col5\" >0.1726</td>\n",
       "      <td id=\"T_53169_row8_col6\" class=\"data row8 col6\" >0.0641</td>\n",
       "      <td id=\"T_53169_row8_col7\" class=\"data row8 col7\" >0.0878</td>\n",
       "      <td id=\"T_53169_row8_col8\" class=\"data row8 col8\" >1.0850</td>\n",
       "    </tr>\n",
       "    <tr>\n",
       "      <th id=\"T_53169_level0_row9\" class=\"row_heading level0 row9\" >xgboost</th>\n",
       "      <td id=\"T_53169_row9_col0\" class=\"data row9 col0\" >Extreme Gradient Boosting</td>\n",
       "      <td id=\"T_53169_row9_col1\" class=\"data row9 col1\" >0.7412</td>\n",
       "      <td id=\"T_53169_row9_col2\" class=\"data row9 col2\" >0.5834</td>\n",
       "      <td id=\"T_53169_row9_col3\" class=\"data row9 col3\" >0.3599</td>\n",
       "      <td id=\"T_53169_row9_col4\" class=\"data row9 col4\" >0.1092</td>\n",
       "      <td id=\"T_53169_row9_col5\" class=\"data row9 col5\" >0.1676</td>\n",
       "      <td id=\"T_53169_row9_col6\" class=\"data row9 col6\" >0.0636</td>\n",
       "      <td id=\"T_53169_row9_col7\" class=\"data row9 col7\" >0.0796</td>\n",
       "      <td id=\"T_53169_row9_col8\" class=\"data row9 col8\" >0.8140</td>\n",
       "    </tr>\n",
       "    <tr>\n",
       "      <th id=\"T_53169_level0_row10\" class=\"row_heading level0 row10\" >knn</th>\n",
       "      <td id=\"T_53169_row10_col0\" class=\"data row10 col0\" >K Neighbors Classifier</td>\n",
       "      <td id=\"T_53169_row10_col1\" class=\"data row10 col1\" >0.7965</td>\n",
       "      <td id=\"T_53169_row10_col2\" class=\"data row10 col2\" >0.5405</td>\n",
       "      <td id=\"T_53169_row10_col3\" class=\"data row10 col3\" >0.2304</td>\n",
       "      <td id=\"T_53169_row10_col4\" class=\"data row10 col4\" >0.1017</td>\n",
       "      <td id=\"T_53169_row10_col5\" class=\"data row10 col5\" >0.1411</td>\n",
       "      <td id=\"T_53169_row10_col6\" class=\"data row10 col6\" >0.0451</td>\n",
       "      <td id=\"T_53169_row10_col7\" class=\"data row10 col7\" >0.0499</td>\n",
       "      <td id=\"T_53169_row10_col8\" class=\"data row10 col8\" >1.1750</td>\n",
       "    </tr>\n",
       "    <tr>\n",
       "      <th id=\"T_53169_level0_row11\" class=\"row_heading level0 row11\" >dt</th>\n",
       "      <td id=\"T_53169_row11_col0\" class=\"data row11 col0\" >Decision Tree Classifier</td>\n",
       "      <td id=\"T_53169_row11_col1\" class=\"data row11 col1\" >0.8682</td>\n",
       "      <td id=\"T_53169_row11_col2\" class=\"data row11 col2\" >0.5315</td>\n",
       "      <td id=\"T_53169_row11_col3\" class=\"data row11 col3\" >0.1372</td>\n",
       "      <td id=\"T_53169_row11_col4\" class=\"data row11 col4\" >0.1258</td>\n",
       "      <td id=\"T_53169_row11_col5\" class=\"data row11 col5\" >0.1311</td>\n",
       "      <td id=\"T_53169_row11_col6\" class=\"data row11 col6\" >0.0600</td>\n",
       "      <td id=\"T_53169_row11_col7\" class=\"data row11 col7\" >0.0602</td>\n",
       "      <td id=\"T_53169_row11_col8\" class=\"data row11 col8\" >0.1460</td>\n",
       "    </tr>\n",
       "    <tr>\n",
       "      <th id=\"T_53169_level0_row12\" class=\"row_heading level0 row12\" >rf</th>\n",
       "      <td id=\"T_53169_row12_col0\" class=\"data row12 col0\" >Random Forest Classifier</td>\n",
       "      <td id=\"T_53169_row12_col1\" class=\"data row12 col1\" >0.8855</td>\n",
       "      <td id=\"T_53169_row12_col2\" class=\"data row12 col2\" >0.5855</td>\n",
       "      <td id=\"T_53169_row12_col3\" class=\"data row12 col3\" >0.1252</td>\n",
       "      <td id=\"T_53169_row12_col4\" class=\"data row12 col4\" >0.1507</td>\n",
       "      <td id=\"T_53169_row12_col5\" class=\"data row12 col5\" >0.1366</td>\n",
       "      <td id=\"T_53169_row12_col6\" class=\"data row12 col6\" >0.0759</td>\n",
       "      <td id=\"T_53169_row12_col7\" class=\"data row12 col7\" >0.0763</td>\n",
       "      <td id=\"T_53169_row12_col8\" class=\"data row12 col8\" >1.9460</td>\n",
       "    </tr>\n",
       "    <tr>\n",
       "      <th id=\"T_53169_level0_row13\" class=\"row_heading level0 row13\" >et</th>\n",
       "      <td id=\"T_53169_row13_col0\" class=\"data row13 col0\" >Extra Trees Classifier</td>\n",
       "      <td id=\"T_53169_row13_col1\" class=\"data row13 col1\" >0.8881</td>\n",
       "      <td id=\"T_53169_row13_col2\" class=\"data row13 col2\" >0.5670</td>\n",
       "      <td id=\"T_53169_row13_col3\" class=\"data row13 col3\" >0.1101</td>\n",
       "      <td id=\"T_53169_row13_col4\" class=\"data row13 col4\" >0.1442</td>\n",
       "      <td id=\"T_53169_row13_col5\" class=\"data row13 col5\" >0.1247</td>\n",
       "      <td id=\"T_53169_row13_col6\" class=\"data row13 col6\" >0.0661</td>\n",
       "      <td id=\"T_53169_row13_col7\" class=\"data row13 col7\" >0.0668</td>\n",
       "      <td id=\"T_53169_row13_col8\" class=\"data row13 col8\" >2.1900</td>\n",
       "    </tr>\n",
       "    <tr>\n",
       "      <th id=\"T_53169_level0_row14\" class=\"row_heading level0 row14\" >dummy</th>\n",
       "      <td id=\"T_53169_row14_col0\" class=\"data row14 col0\" >Dummy Classifier</td>\n",
       "      <td id=\"T_53169_row14_col1\" class=\"data row14 col1\" >0.9276</td>\n",
       "      <td id=\"T_53169_row14_col2\" class=\"data row14 col2\" >0.5000</td>\n",
       "      <td id=\"T_53169_row14_col3\" class=\"data row14 col3\" >0.0000</td>\n",
       "      <td id=\"T_53169_row14_col4\" class=\"data row14 col4\" >0.0000</td>\n",
       "      <td id=\"T_53169_row14_col5\" class=\"data row14 col5\" >0.0000</td>\n",
       "      <td id=\"T_53169_row14_col6\" class=\"data row14 col6\" >0.0000</td>\n",
       "      <td id=\"T_53169_row14_col7\" class=\"data row14 col7\" >0.0000</td>\n",
       "      <td id=\"T_53169_row14_col8\" class=\"data row14 col8\" >0.1610</td>\n",
       "    </tr>\n",
       "  </tbody>\n",
       "</table>\n"
      ],
      "text/plain": [
       "<pandas.io.formats.style.Styler at 0x387074370>"
      ]
     },
     "metadata": {},
     "output_type": "display_data"
    },
    {
     "data": {
      "text/html": [],
      "text/plain": [
       "<IPython.core.display.HTML object>"
      ]
     },
     "metadata": {},
     "output_type": "display_data"
    },
    {
     "name": "stdout",
     "output_type": "stream",
     "text": [
      "{'randomoversampler': {'svm': 0.6028, 'lr': 0.5615, 'ridge': 0.5615, 'lda': 0.5615, 'nb': 0.5528}}\n"
     ]
    },
    {
     "data": {
      "application/vnd.jupyter.widget-view+json": {
       "model_id": "a6469ca676ec4dccae1bc64d61475122",
       "version_major": 2,
       "version_minor": 0
      },
      "text/plain": [
       "interactive(children=(ToggleButtons(description='Plot Type:', icons=('',), options=(('Pipeline Plot', 'pipelin…"
      ]
     },
     "metadata": {},
     "output_type": "display_data"
    },
    {
     "data": {
      "application/vnd.jupyter.widget-view+json": {
       "model_id": "fe3cfede16cd4bf89711876dab425111",
       "version_major": 2,
       "version_minor": 0
      },
      "text/plain": [
       "interactive(children=(ToggleButtons(description='Plot Type:', icons=('',), options=(('Pipeline Plot', 'pipelin…"
      ]
     },
     "metadata": {},
     "output_type": "display_data"
    },
    {
     "data": {
      "application/vnd.jupyter.widget-view+json": {
       "model_id": "c9e5ffc72a34462e9741314f2f00e133",
       "version_major": 2,
       "version_minor": 0
      },
      "text/plain": [
       "interactive(children=(ToggleButtons(description='Plot Type:', icons=('',), options=(('Pipeline Plot', 'pipelin…"
      ]
     },
     "metadata": {},
     "output_type": "display_data"
    },
    {
     "data": {
      "application/vnd.jupyter.widget-view+json": {
       "model_id": "e16fd3b8ab464ee6b09c56e8c734be79",
       "version_major": 2,
       "version_minor": 0
      },
      "text/plain": [
       "interactive(children=(ToggleButtons(description='Plot Type:', icons=('',), options=(('Pipeline Plot', 'pipelin…"
      ]
     },
     "metadata": {},
     "output_type": "display_data"
    },
    {
     "data": {
      "application/vnd.jupyter.widget-view+json": {
       "model_id": "eed906fd35af4d6c8bc4a42db80bc947",
       "version_major": 2,
       "version_minor": 0
      },
      "text/plain": [
       "interactive(children=(ToggleButtons(description='Plot Type:', icons=('',), options=(('Pipeline Plot', 'pipelin…"
      ]
     },
     "metadata": {},
     "output_type": "display_data"
    },
    {
     "name": "stdout",
     "output_type": "stream",
     "text": [
      "--------------------------------------------------\n",
      "Type of imbalance technique: smotetomek\n"
     ]
    },
    {
     "data": {
      "text/html": [
       "<style type=\"text/css\">\n",
       "#T_726a4_row9_col1, #T_726a4_row15_col1 {\n",
       "  background-color: lightgreen;\n",
       "}\n",
       "</style>\n",
       "<table id=\"T_726a4\">\n",
       "  <thead>\n",
       "    <tr>\n",
       "      <th class=\"blank level0\" >&nbsp;</th>\n",
       "      <th id=\"T_726a4_level0_col0\" class=\"col_heading level0 col0\" >Description</th>\n",
       "      <th id=\"T_726a4_level0_col1\" class=\"col_heading level0 col1\" >Value</th>\n",
       "    </tr>\n",
       "  </thead>\n",
       "  <tbody>\n",
       "    <tr>\n",
       "      <th id=\"T_726a4_level0_row0\" class=\"row_heading level0 row0\" >0</th>\n",
       "      <td id=\"T_726a4_row0_col0\" class=\"data row0 col0\" >Session id</td>\n",
       "      <td id=\"T_726a4_row0_col1\" class=\"data row0 col1\" >3046</td>\n",
       "    </tr>\n",
       "    <tr>\n",
       "      <th id=\"T_726a4_level0_row1\" class=\"row_heading level0 row1\" >1</th>\n",
       "      <td id=\"T_726a4_row1_col0\" class=\"data row1 col0\" >Target</td>\n",
       "      <td id=\"T_726a4_row1_col1\" class=\"data row1 col1\" >y</td>\n",
       "    </tr>\n",
       "    <tr>\n",
       "      <th id=\"T_726a4_level0_row2\" class=\"row_heading level0 row2\" >2</th>\n",
       "      <td id=\"T_726a4_row2_col0\" class=\"data row2 col0\" >Target type</td>\n",
       "      <td id=\"T_726a4_row2_col1\" class=\"data row2 col1\" >Binary</td>\n",
       "    </tr>\n",
       "    <tr>\n",
       "      <th id=\"T_726a4_level0_row3\" class=\"row_heading level0 row3\" >3</th>\n",
       "      <td id=\"T_726a4_row3_col0\" class=\"data row3 col0\" >Original data shape</td>\n",
       "      <td id=\"T_726a4_row3_col1\" class=\"data row3 col1\" >(40000, 9)</td>\n",
       "    </tr>\n",
       "    <tr>\n",
       "      <th id=\"T_726a4_level0_row4\" class=\"row_heading level0 row4\" >4</th>\n",
       "      <td id=\"T_726a4_row4_col0\" class=\"data row4 col0\" >Transformed data shape</td>\n",
       "      <td id=\"T_726a4_row4_col1\" class=\"data row4 col1\" >(65490, 25)</td>\n",
       "    </tr>\n",
       "    <tr>\n",
       "      <th id=\"T_726a4_level0_row5\" class=\"row_heading level0 row5\" >5</th>\n",
       "      <td id=\"T_726a4_row5_col0\" class=\"data row5 col0\" >Transformed train set shape</td>\n",
       "      <td id=\"T_726a4_row5_col1\" class=\"data row5 col1\" >(57490, 25)</td>\n",
       "    </tr>\n",
       "    <tr>\n",
       "      <th id=\"T_726a4_level0_row6\" class=\"row_heading level0 row6\" >6</th>\n",
       "      <td id=\"T_726a4_row6_col0\" class=\"data row6 col0\" >Transformed test set shape</td>\n",
       "      <td id=\"T_726a4_row6_col1\" class=\"data row6 col1\" >(8000, 25)</td>\n",
       "    </tr>\n",
       "    <tr>\n",
       "      <th id=\"T_726a4_level0_row7\" class=\"row_heading level0 row7\" >7</th>\n",
       "      <td id=\"T_726a4_row7_col0\" class=\"data row7 col0\" >Numeric features</td>\n",
       "      <td id=\"T_726a4_row7_col1\" class=\"data row7 col1\" >5</td>\n",
       "    </tr>\n",
       "    <tr>\n",
       "      <th id=\"T_726a4_level0_row8\" class=\"row_heading level0 row8\" >8</th>\n",
       "      <td id=\"T_726a4_row8_col0\" class=\"data row8 col0\" >Categorical features</td>\n",
       "      <td id=\"T_726a4_row8_col1\" class=\"data row8 col1\" >3</td>\n",
       "    </tr>\n",
       "    <tr>\n",
       "      <th id=\"T_726a4_level0_row9\" class=\"row_heading level0 row9\" >9</th>\n",
       "      <td id=\"T_726a4_row9_col0\" class=\"data row9 col0\" >Preprocess</td>\n",
       "      <td id=\"T_726a4_row9_col1\" class=\"data row9 col1\" >True</td>\n",
       "    </tr>\n",
       "    <tr>\n",
       "      <th id=\"T_726a4_level0_row10\" class=\"row_heading level0 row10\" >10</th>\n",
       "      <td id=\"T_726a4_row10_col0\" class=\"data row10 col0\" >Imputation type</td>\n",
       "      <td id=\"T_726a4_row10_col1\" class=\"data row10 col1\" >simple</td>\n",
       "    </tr>\n",
       "    <tr>\n",
       "      <th id=\"T_726a4_level0_row11\" class=\"row_heading level0 row11\" >11</th>\n",
       "      <td id=\"T_726a4_row11_col0\" class=\"data row11 col0\" >Numeric imputation</td>\n",
       "      <td id=\"T_726a4_row11_col1\" class=\"data row11 col1\" >mean</td>\n",
       "    </tr>\n",
       "    <tr>\n",
       "      <th id=\"T_726a4_level0_row12\" class=\"row_heading level0 row12\" >12</th>\n",
       "      <td id=\"T_726a4_row12_col0\" class=\"data row12 col0\" >Categorical imputation</td>\n",
       "      <td id=\"T_726a4_row12_col1\" class=\"data row12 col1\" >mode</td>\n",
       "    </tr>\n",
       "    <tr>\n",
       "      <th id=\"T_726a4_level0_row13\" class=\"row_heading level0 row13\" >13</th>\n",
       "      <td id=\"T_726a4_row13_col0\" class=\"data row13 col0\" >Maximum one-hot encoding</td>\n",
       "      <td id=\"T_726a4_row13_col1\" class=\"data row13 col1\" >25</td>\n",
       "    </tr>\n",
       "    <tr>\n",
       "      <th id=\"T_726a4_level0_row14\" class=\"row_heading level0 row14\" >14</th>\n",
       "      <td id=\"T_726a4_row14_col0\" class=\"data row14 col0\" >Encoding method</td>\n",
       "      <td id=\"T_726a4_row14_col1\" class=\"data row14 col1\" >None</td>\n",
       "    </tr>\n",
       "    <tr>\n",
       "      <th id=\"T_726a4_level0_row15\" class=\"row_heading level0 row15\" >15</th>\n",
       "      <td id=\"T_726a4_row15_col0\" class=\"data row15 col0\" >Fix imbalance</td>\n",
       "      <td id=\"T_726a4_row15_col1\" class=\"data row15 col1\" >True</td>\n",
       "    </tr>\n",
       "    <tr>\n",
       "      <th id=\"T_726a4_level0_row16\" class=\"row_heading level0 row16\" >16</th>\n",
       "      <td id=\"T_726a4_row16_col0\" class=\"data row16 col0\" >Fix imbalance method</td>\n",
       "      <td id=\"T_726a4_row16_col1\" class=\"data row16 col1\" >smotetomek</td>\n",
       "    </tr>\n",
       "    <tr>\n",
       "      <th id=\"T_726a4_level0_row17\" class=\"row_heading level0 row17\" >17</th>\n",
       "      <td id=\"T_726a4_row17_col0\" class=\"data row17 col0\" >Fold Generator</td>\n",
       "      <td id=\"T_726a4_row17_col1\" class=\"data row17 col1\" >StratifiedKFold</td>\n",
       "    </tr>\n",
       "    <tr>\n",
       "      <th id=\"T_726a4_level0_row18\" class=\"row_heading level0 row18\" >18</th>\n",
       "      <td id=\"T_726a4_row18_col0\" class=\"data row18 col0\" >Fold Number</td>\n",
       "      <td id=\"T_726a4_row18_col1\" class=\"data row18 col1\" >10</td>\n",
       "    </tr>\n",
       "    <tr>\n",
       "      <th id=\"T_726a4_level0_row19\" class=\"row_heading level0 row19\" >19</th>\n",
       "      <td id=\"T_726a4_row19_col0\" class=\"data row19 col0\" >CPU Jobs</td>\n",
       "      <td id=\"T_726a4_row19_col1\" class=\"data row19 col1\" >-1</td>\n",
       "    </tr>\n",
       "    <tr>\n",
       "      <th id=\"T_726a4_level0_row20\" class=\"row_heading level0 row20\" >20</th>\n",
       "      <td id=\"T_726a4_row20_col0\" class=\"data row20 col0\" >Use GPU</td>\n",
       "      <td id=\"T_726a4_row20_col1\" class=\"data row20 col1\" >False</td>\n",
       "    </tr>\n",
       "    <tr>\n",
       "      <th id=\"T_726a4_level0_row21\" class=\"row_heading level0 row21\" >21</th>\n",
       "      <td id=\"T_726a4_row21_col0\" class=\"data row21 col0\" >Log Experiment</td>\n",
       "      <td id=\"T_726a4_row21_col1\" class=\"data row21 col1\" >False</td>\n",
       "    </tr>\n",
       "    <tr>\n",
       "      <th id=\"T_726a4_level0_row22\" class=\"row_heading level0 row22\" >22</th>\n",
       "      <td id=\"T_726a4_row22_col0\" class=\"data row22 col0\" >Experiment Name</td>\n",
       "      <td id=\"T_726a4_row22_col1\" class=\"data row22 col1\" >clf-default-name</td>\n",
       "    </tr>\n",
       "    <tr>\n",
       "      <th id=\"T_726a4_level0_row23\" class=\"row_heading level0 row23\" >23</th>\n",
       "      <td id=\"T_726a4_row23_col0\" class=\"data row23 col0\" >USI</td>\n",
       "      <td id=\"T_726a4_row23_col1\" class=\"data row23 col1\" >624a</td>\n",
       "    </tr>\n",
       "  </tbody>\n",
       "</table>\n"
      ],
      "text/plain": [
       "<pandas.io.formats.style.Styler at 0x39ff06130>"
      ]
     },
     "metadata": {},
     "output_type": "display_data"
    },
    {
     "name": "stdout",
     "output_type": "stream",
     "text": [
      "\n"
     ]
    },
    {
     "data": {
      "text/html": [],
      "text/plain": [
       "<IPython.core.display.HTML object>"
      ]
     },
     "metadata": {},
     "output_type": "display_data"
    },
    {
     "data": {
      "text/html": [
       "<style type=\"text/css\">\n",
       "#T_73ba0 th {\n",
       "  text-align: left;\n",
       "}\n",
       "#T_73ba0_row0_col0, #T_73ba0_row0_col1, #T_73ba0_row0_col2, #T_73ba0_row0_col4, #T_73ba0_row0_col5, #T_73ba0_row0_col6, #T_73ba0_row0_col7, #T_73ba0_row1_col0, #T_73ba0_row1_col1, #T_73ba0_row1_col2, #T_73ba0_row1_col3, #T_73ba0_row1_col4, #T_73ba0_row1_col6, #T_73ba0_row2_col0, #T_73ba0_row2_col1, #T_73ba0_row2_col2, #T_73ba0_row2_col3, #T_73ba0_row2_col4, #T_73ba0_row2_col5, #T_73ba0_row2_col6, #T_73ba0_row2_col7, #T_73ba0_row3_col0, #T_73ba0_row3_col1, #T_73ba0_row3_col2, #T_73ba0_row3_col3, #T_73ba0_row3_col4, #T_73ba0_row3_col5, #T_73ba0_row3_col6, #T_73ba0_row3_col7, #T_73ba0_row4_col0, #T_73ba0_row4_col1, #T_73ba0_row4_col2, #T_73ba0_row4_col3, #T_73ba0_row4_col4, #T_73ba0_row4_col5, #T_73ba0_row4_col6, #T_73ba0_row4_col7, #T_73ba0_row5_col0, #T_73ba0_row5_col1, #T_73ba0_row5_col2, #T_73ba0_row5_col3, #T_73ba0_row5_col4, #T_73ba0_row5_col5, #T_73ba0_row5_col6, #T_73ba0_row5_col7, #T_73ba0_row6_col0, #T_73ba0_row6_col1, #T_73ba0_row6_col2, #T_73ba0_row6_col3, #T_73ba0_row6_col4, #T_73ba0_row6_col5, #T_73ba0_row6_col6, #T_73ba0_row6_col7, #T_73ba0_row7_col0, #T_73ba0_row7_col1, #T_73ba0_row7_col2, #T_73ba0_row7_col3, #T_73ba0_row7_col4, #T_73ba0_row7_col5, #T_73ba0_row7_col6, #T_73ba0_row7_col7, #T_73ba0_row8_col0, #T_73ba0_row8_col1, #T_73ba0_row8_col2, #T_73ba0_row8_col3, #T_73ba0_row8_col4, #T_73ba0_row8_col5, #T_73ba0_row8_col7, #T_73ba0_row9_col0, #T_73ba0_row9_col1, #T_73ba0_row9_col2, #T_73ba0_row9_col3, #T_73ba0_row9_col4, #T_73ba0_row9_col5, #T_73ba0_row9_col6, #T_73ba0_row9_col7, #T_73ba0_row10_col0, #T_73ba0_row10_col1, #T_73ba0_row10_col2, #T_73ba0_row10_col3, #T_73ba0_row10_col4, #T_73ba0_row10_col5, #T_73ba0_row10_col6, #T_73ba0_row10_col7, #T_73ba0_row11_col0, #T_73ba0_row11_col1, #T_73ba0_row11_col2, #T_73ba0_row11_col3, #T_73ba0_row11_col4, #T_73ba0_row11_col5, #T_73ba0_row11_col6, #T_73ba0_row11_col7, #T_73ba0_row12_col0, #T_73ba0_row12_col1, #T_73ba0_row12_col3, #T_73ba0_row12_col4, #T_73ba0_row12_col5, #T_73ba0_row12_col6, #T_73ba0_row12_col7, #T_73ba0_row13_col0, #T_73ba0_row13_col1, #T_73ba0_row13_col2, #T_73ba0_row13_col3, #T_73ba0_row13_col5, #T_73ba0_row13_col6, #T_73ba0_row13_col7, #T_73ba0_row14_col0, #T_73ba0_row14_col2, #T_73ba0_row14_col3, #T_73ba0_row14_col4, #T_73ba0_row14_col5, #T_73ba0_row14_col6, #T_73ba0_row14_col7 {\n",
       "  text-align: left;\n",
       "}\n",
       "#T_73ba0_row0_col3, #T_73ba0_row1_col5, #T_73ba0_row1_col7, #T_73ba0_row8_col6, #T_73ba0_row12_col2, #T_73ba0_row13_col4, #T_73ba0_row14_col1 {\n",
       "  text-align: left;\n",
       "  background-color: yellow;\n",
       "}\n",
       "#T_73ba0_row0_col8, #T_73ba0_row1_col8, #T_73ba0_row3_col8, #T_73ba0_row4_col8, #T_73ba0_row5_col8, #T_73ba0_row6_col8, #T_73ba0_row7_col8, #T_73ba0_row8_col8, #T_73ba0_row9_col8, #T_73ba0_row10_col8, #T_73ba0_row11_col8, #T_73ba0_row12_col8, #T_73ba0_row13_col8, #T_73ba0_row14_col8 {\n",
       "  text-align: left;\n",
       "  background-color: lightgrey;\n",
       "}\n",
       "#T_73ba0_row2_col8 {\n",
       "  text-align: left;\n",
       "  background-color: yellow;\n",
       "  background-color: lightgrey;\n",
       "}\n",
       "</style>\n",
       "<table id=\"T_73ba0\">\n",
       "  <thead>\n",
       "    <tr>\n",
       "      <th class=\"blank level0\" >&nbsp;</th>\n",
       "      <th id=\"T_73ba0_level0_col0\" class=\"col_heading level0 col0\" >Model</th>\n",
       "      <th id=\"T_73ba0_level0_col1\" class=\"col_heading level0 col1\" >Accuracy</th>\n",
       "      <th id=\"T_73ba0_level0_col2\" class=\"col_heading level0 col2\" >AUC</th>\n",
       "      <th id=\"T_73ba0_level0_col3\" class=\"col_heading level0 col3\" >Recall</th>\n",
       "      <th id=\"T_73ba0_level0_col4\" class=\"col_heading level0 col4\" >Prec.</th>\n",
       "      <th id=\"T_73ba0_level0_col5\" class=\"col_heading level0 col5\" >F1</th>\n",
       "      <th id=\"T_73ba0_level0_col6\" class=\"col_heading level0 col6\" >Kappa</th>\n",
       "      <th id=\"T_73ba0_level0_col7\" class=\"col_heading level0 col7\" >MCC</th>\n",
       "      <th id=\"T_73ba0_level0_col8\" class=\"col_heading level0 col8\" >TT (Sec)</th>\n",
       "    </tr>\n",
       "  </thead>\n",
       "  <tbody>\n",
       "    <tr>\n",
       "      <th id=\"T_73ba0_level0_row0\" class=\"row_heading level0 row0\" >nb</th>\n",
       "      <td id=\"T_73ba0_row0_col0\" class=\"data row0 col0\" >Naive Bayes</td>\n",
       "      <td id=\"T_73ba0_row0_col1\" class=\"data row0 col1\" >0.4720</td>\n",
       "      <td id=\"T_73ba0_row0_col2\" class=\"data row0 col2\" >0.5745</td>\n",
       "      <td id=\"T_73ba0_row0_col3\" class=\"data row0 col3\" >0.6348</td>\n",
       "      <td id=\"T_73ba0_row0_col4\" class=\"data row0 col4\" >0.0839</td>\n",
       "      <td id=\"T_73ba0_row0_col5\" class=\"data row0 col5\" >0.1482</td>\n",
       "      <td id=\"T_73ba0_row0_col6\" class=\"data row0 col6\" >0.0233</td>\n",
       "      <td id=\"T_73ba0_row0_col7\" class=\"data row0 col7\" >0.0491</td>\n",
       "      <td id=\"T_73ba0_row0_col8\" class=\"data row0 col8\" >7.1640</td>\n",
       "    </tr>\n",
       "    <tr>\n",
       "      <th id=\"T_73ba0_level0_row1\" class=\"row_heading level0 row1\" >lr</th>\n",
       "      <td id=\"T_73ba0_row1_col0\" class=\"data row1 col0\" >Logistic Regression</td>\n",
       "      <td id=\"T_73ba0_row1_col1\" class=\"data row1 col1\" >0.5939</td>\n",
       "      <td id=\"T_73ba0_row1_col2\" class=\"data row1 col2\" >0.6030</td>\n",
       "      <td id=\"T_73ba0_row1_col3\" class=\"data row1 col3\" >0.5649</td>\n",
       "      <td id=\"T_73ba0_row1_col4\" class=\"data row1 col4\" >0.0984</td>\n",
       "      <td id=\"T_73ba0_row1_col5\" class=\"data row1 col5\" >0.1676</td>\n",
       "      <td id=\"T_73ba0_row1_col6\" class=\"data row1 col6\" >0.0505</td>\n",
       "      <td id=\"T_73ba0_row1_col7\" class=\"data row1 col7\" >0.0847</td>\n",
       "      <td id=\"T_73ba0_row1_col8\" class=\"data row1 col8\" >8.3370</td>\n",
       "    </tr>\n",
       "    <tr>\n",
       "      <th id=\"T_73ba0_level0_row2\" class=\"row_heading level0 row2\" >ridge</th>\n",
       "      <td id=\"T_73ba0_row2_col0\" class=\"data row2 col0\" >Ridge Classifier</td>\n",
       "      <td id=\"T_73ba0_row2_col1\" class=\"data row2 col1\" >0.5930</td>\n",
       "      <td id=\"T_73ba0_row2_col2\" class=\"data row2 col2\" >0.6027</td>\n",
       "      <td id=\"T_73ba0_row2_col3\" class=\"data row2 col3\" >0.5623</td>\n",
       "      <td id=\"T_73ba0_row2_col4\" class=\"data row2 col4\" >0.0979</td>\n",
       "      <td id=\"T_73ba0_row2_col5\" class=\"data row2 col5\" >0.1667</td>\n",
       "      <td id=\"T_73ba0_row2_col6\" class=\"data row2 col6\" >0.0495</td>\n",
       "      <td id=\"T_73ba0_row2_col7\" class=\"data row2 col7\" >0.0829</td>\n",
       "      <td id=\"T_73ba0_row2_col8\" class=\"data row2 col8\" >5.9960</td>\n",
       "    </tr>\n",
       "    <tr>\n",
       "      <th id=\"T_73ba0_level0_row3\" class=\"row_heading level0 row3\" >lda</th>\n",
       "      <td id=\"T_73ba0_row3_col0\" class=\"data row3 col0\" >Linear Discriminant Analysis</td>\n",
       "      <td id=\"T_73ba0_row3_col1\" class=\"data row3 col1\" >0.5930</td>\n",
       "      <td id=\"T_73ba0_row3_col2\" class=\"data row3 col2\" >0.6027</td>\n",
       "      <td id=\"T_73ba0_row3_col3\" class=\"data row3 col3\" >0.5623</td>\n",
       "      <td id=\"T_73ba0_row3_col4\" class=\"data row3 col4\" >0.0979</td>\n",
       "      <td id=\"T_73ba0_row3_col5\" class=\"data row3 col5\" >0.1667</td>\n",
       "      <td id=\"T_73ba0_row3_col6\" class=\"data row3 col6\" >0.0495</td>\n",
       "      <td id=\"T_73ba0_row3_col7\" class=\"data row3 col7\" >0.0829</td>\n",
       "      <td id=\"T_73ba0_row3_col8\" class=\"data row3 col8\" >7.1010</td>\n",
       "    </tr>\n",
       "    <tr>\n",
       "      <th id=\"T_73ba0_level0_row4\" class=\"row_heading level0 row4\" >svm</th>\n",
       "      <td id=\"T_73ba0_row4_col0\" class=\"data row4 col0\" >SVM - Linear Kernel</td>\n",
       "      <td id=\"T_73ba0_row4_col1\" class=\"data row4 col1\" >0.5335</td>\n",
       "      <td id=\"T_73ba0_row4_col2\" class=\"data row4 col2\" >0.5080</td>\n",
       "      <td id=\"T_73ba0_row4_col3\" class=\"data row4 col3\" >0.4927</td>\n",
       "      <td id=\"T_73ba0_row4_col4\" class=\"data row4 col4\" >0.0727</td>\n",
       "      <td id=\"T_73ba0_row4_col5\" class=\"data row4 col5\" >0.1116</td>\n",
       "      <td id=\"T_73ba0_row4_col6\" class=\"data row4 col6\" >0.0027</td>\n",
       "      <td id=\"T_73ba0_row4_col7\" class=\"data row4 col7\" >0.0190</td>\n",
       "      <td id=\"T_73ba0_row4_col8\" class=\"data row4 col8\" >8.3770</td>\n",
       "    </tr>\n",
       "    <tr>\n",
       "      <th id=\"T_73ba0_level0_row5\" class=\"row_heading level0 row5\" >knn</th>\n",
       "      <td id=\"T_73ba0_row5_col0\" class=\"data row5 col0\" >K Neighbors Classifier</td>\n",
       "      <td id=\"T_73ba0_row5_col1\" class=\"data row5 col1\" >0.6470</td>\n",
       "      <td id=\"T_73ba0_row5_col2\" class=\"data row5 col2\" >0.5340</td>\n",
       "      <td id=\"T_73ba0_row5_col3\" class=\"data row5 col3\" >0.3815</td>\n",
       "      <td id=\"T_73ba0_row5_col4\" class=\"data row5 col4\" >0.0823</td>\n",
       "      <td id=\"T_73ba0_row5_col5\" class=\"data row5 col5\" >0.1354</td>\n",
       "      <td id=\"T_73ba0_row5_col6\" class=\"data row5 col6\" >0.0185</td>\n",
       "      <td id=\"T_73ba0_row5_col7\" class=\"data row5 col7\" >0.0271</td>\n",
       "      <td id=\"T_73ba0_row5_col8\" class=\"data row5 col8\" >7.9450</td>\n",
       "    </tr>\n",
       "    <tr>\n",
       "      <th id=\"T_73ba0_level0_row6\" class=\"row_heading level0 row6\" >dt</th>\n",
       "      <td id=\"T_73ba0_row6_col0\" class=\"data row6 col0\" >Decision Tree Classifier</td>\n",
       "      <td id=\"T_73ba0_row6_col1\" class=\"data row6 col1\" >0.8677</td>\n",
       "      <td id=\"T_73ba0_row6_col2\" class=\"data row6 col2\" >0.5372</td>\n",
       "      <td id=\"T_73ba0_row6_col3\" class=\"data row6 col3\" >0.1493</td>\n",
       "      <td id=\"T_73ba0_row6_col4\" class=\"data row6 col4\" >0.1325</td>\n",
       "      <td id=\"T_73ba0_row6_col5\" class=\"data row6 col5\" >0.1404</td>\n",
       "      <td id=\"T_73ba0_row6_col6\" class=\"data row6 col6\" >0.0690</td>\n",
       "      <td id=\"T_73ba0_row6_col7\" class=\"data row6 col7\" >0.0692</td>\n",
       "      <td id=\"T_73ba0_row6_col8\" class=\"data row6 col8\" >7.4390</td>\n",
       "    </tr>\n",
       "    <tr>\n",
       "      <th id=\"T_73ba0_level0_row7\" class=\"row_heading level0 row7\" >et</th>\n",
       "      <td id=\"T_73ba0_row7_col0\" class=\"data row7 col0\" >Extra Trees Classifier</td>\n",
       "      <td id=\"T_73ba0_row7_col1\" class=\"data row7 col1\" >0.8927</td>\n",
       "      <td id=\"T_73ba0_row7_col2\" class=\"data row7 col2\" >0.5684</td>\n",
       "      <td id=\"T_73ba0_row7_col3\" class=\"data row7 col3\" >0.1010</td>\n",
       "      <td id=\"T_73ba0_row7_col4\" class=\"data row7 col4\" >0.1483</td>\n",
       "      <td id=\"T_73ba0_row7_col5\" class=\"data row7 col5\" >0.1200</td>\n",
       "      <td id=\"T_73ba0_row7_col6\" class=\"data row7 col6\" >0.0651</td>\n",
       "      <td id=\"T_73ba0_row7_col7\" class=\"data row7 col7\" >0.0665</td>\n",
       "      <td id=\"T_73ba0_row7_col8\" class=\"data row7 col8\" >8.7770</td>\n",
       "    </tr>\n",
       "    <tr>\n",
       "      <th id=\"T_73ba0_level0_row8\" class=\"row_heading level0 row8\" >rf</th>\n",
       "      <td id=\"T_73ba0_row8_col0\" class=\"data row8 col0\" >Random Forest Classifier</td>\n",
       "      <td id=\"T_73ba0_row8_col1\" class=\"data row8 col1\" >0.9091</td>\n",
       "      <td id=\"T_73ba0_row8_col2\" class=\"data row8 col2\" >0.5786</td>\n",
       "      <td id=\"T_73ba0_row8_col3\" class=\"data row8 col3\" >0.0764</td>\n",
       "      <td id=\"T_73ba0_row8_col4\" class=\"data row8 col4\" >0.1866</td>\n",
       "      <td id=\"T_73ba0_row8_col5\" class=\"data row8 col5\" >0.1083</td>\n",
       "      <td id=\"T_73ba0_row8_col6\" class=\"data row8 col6\" >0.0693</td>\n",
       "      <td id=\"T_73ba0_row8_col7\" class=\"data row8 col7\" >0.0770</td>\n",
       "      <td id=\"T_73ba0_row8_col8\" class=\"data row8 col8\" >10.1900</td>\n",
       "    </tr>\n",
       "    <tr>\n",
       "      <th id=\"T_73ba0_level0_row9\" class=\"row_heading level0 row9\" >qda</th>\n",
       "      <td id=\"T_73ba0_row9_col0\" class=\"data row9 col0\" >Quadratic Discriminant Analysis</td>\n",
       "      <td id=\"T_73ba0_row9_col1\" class=\"data row9 col1\" >0.9105</td>\n",
       "      <td id=\"T_73ba0_row9_col2\" class=\"data row9 col2\" >0.4933</td>\n",
       "      <td id=\"T_73ba0_row9_col3\" class=\"data row9 col3\" >0.0224</td>\n",
       "      <td id=\"T_73ba0_row9_col4\" class=\"data row9 col4\" >0.0511</td>\n",
       "      <td id=\"T_73ba0_row9_col5\" class=\"data row9 col5\" >0.0249</td>\n",
       "      <td id=\"T_73ba0_row9_col6\" class=\"data row9 col6\" >0.0003</td>\n",
       "      <td id=\"T_73ba0_row9_col7\" class=\"data row9 col7\" >-0.0030</td>\n",
       "      <td id=\"T_73ba0_row9_col8\" class=\"data row9 col8\" >7.7010</td>\n",
       "    </tr>\n",
       "    <tr>\n",
       "      <th id=\"T_73ba0_level0_row10\" class=\"row_heading level0 row10\" >xgboost</th>\n",
       "      <td id=\"T_73ba0_row10_col0\" class=\"data row10 col0\" >Extreme Gradient Boosting</td>\n",
       "      <td id=\"T_73ba0_row10_col1\" class=\"data row10 col1\" >0.9253</td>\n",
       "      <td id=\"T_73ba0_row10_col2\" class=\"data row10 col2\" >0.5978</td>\n",
       "      <td id=\"T_73ba0_row10_col3\" class=\"data row10 col3\" >0.0216</td>\n",
       "      <td id=\"T_73ba0_row10_col4\" class=\"data row10 col4\" >0.2848</td>\n",
       "      <td id=\"T_73ba0_row10_col5\" class=\"data row10 col5\" >0.0400</td>\n",
       "      <td id=\"T_73ba0_row10_col6\" class=\"data row10 col6\" >0.0302</td>\n",
       "      <td id=\"T_73ba0_row10_col7\" class=\"data row10 col7\" >0.0606</td>\n",
       "      <td id=\"T_73ba0_row10_col8\" class=\"data row10 col8\" >7.3650</td>\n",
       "    </tr>\n",
       "    <tr>\n",
       "      <th id=\"T_73ba0_level0_row11\" class=\"row_heading level0 row11\" >ada</th>\n",
       "      <td id=\"T_73ba0_row11_col0\" class=\"data row11 col0\" >Ada Boost Classifier</td>\n",
       "      <td id=\"T_73ba0_row11_col1\" class=\"data row11 col1\" >0.9262</td>\n",
       "      <td id=\"T_73ba0_row11_col2\" class=\"data row11 col2\" >0.5918</td>\n",
       "      <td id=\"T_73ba0_row11_col3\" class=\"data row11 col3\" >0.0203</td>\n",
       "      <td id=\"T_73ba0_row11_col4\" class=\"data row11 col4\" >0.3331</td>\n",
       "      <td id=\"T_73ba0_row11_col5\" class=\"data row11 col5\" >0.0376</td>\n",
       "      <td id=\"T_73ba0_row11_col6\" class=\"data row11 col6\" >0.0300</td>\n",
       "      <td id=\"T_73ba0_row11_col7\" class=\"data row11 col7\" >0.0662</td>\n",
       "      <td id=\"T_73ba0_row11_col8\" class=\"data row11 col8\" >8.9280</td>\n",
       "    </tr>\n",
       "    <tr>\n",
       "      <th id=\"T_73ba0_level0_row12\" class=\"row_heading level0 row12\" >lightgbm</th>\n",
       "      <td id=\"T_73ba0_row12_col0\" class=\"data row12 col0\" >Light Gradient Boosting Machine</td>\n",
       "      <td id=\"T_73ba0_row12_col1\" class=\"data row12 col1\" >0.9266</td>\n",
       "      <td id=\"T_73ba0_row12_col2\" class=\"data row12 col2\" >0.6069</td>\n",
       "      <td id=\"T_73ba0_row12_col3\" class=\"data row12 col3\" >0.0112</td>\n",
       "      <td id=\"T_73ba0_row12_col4\" class=\"data row12 col4\" >0.3166</td>\n",
       "      <td id=\"T_73ba0_row12_col5\" class=\"data row12 col5\" >0.0216</td>\n",
       "      <td id=\"T_73ba0_row12_col6\" class=\"data row12 col6\" >0.0166</td>\n",
       "      <td id=\"T_73ba0_row12_col7\" class=\"data row12 col7\" >0.0465</td>\n",
       "      <td id=\"T_73ba0_row12_col8\" class=\"data row12 col8\" >8.1820</td>\n",
       "    </tr>\n",
       "    <tr>\n",
       "      <th id=\"T_73ba0_level0_row13\" class=\"row_heading level0 row13\" >gbc</th>\n",
       "      <td id=\"T_73ba0_row13_col0\" class=\"data row13 col0\" >Gradient Boosting Classifier</td>\n",
       "      <td id=\"T_73ba0_row13_col1\" class=\"data row13 col1\" >0.9274</td>\n",
       "      <td id=\"T_73ba0_row13_col2\" class=\"data row13 col2\" >0.6064</td>\n",
       "      <td id=\"T_73ba0_row13_col3\" class=\"data row13 col3\" >0.0073</td>\n",
       "      <td id=\"T_73ba0_row13_col4\" class=\"data row13 col4\" >0.4910</td>\n",
       "      <td id=\"T_73ba0_row13_col5\" class=\"data row13 col5\" >0.0144</td>\n",
       "      <td id=\"T_73ba0_row13_col6\" class=\"data row13 col6\" >0.0120</td>\n",
       "      <td id=\"T_73ba0_row13_col7\" class=\"data row13 col7\" >0.0506</td>\n",
       "      <td id=\"T_73ba0_row13_col8\" class=\"data row13 col8\" >12.7660</td>\n",
       "    </tr>\n",
       "    <tr>\n",
       "      <th id=\"T_73ba0_level0_row14\" class=\"row_heading level0 row14\" >dummy</th>\n",
       "      <td id=\"T_73ba0_row14_col0\" class=\"data row14 col0\" >Dummy Classifier</td>\n",
       "      <td id=\"T_73ba0_row14_col1\" class=\"data row14 col1\" >0.9276</td>\n",
       "      <td id=\"T_73ba0_row14_col2\" class=\"data row14 col2\" >0.5000</td>\n",
       "      <td id=\"T_73ba0_row14_col3\" class=\"data row14 col3\" >0.0000</td>\n",
       "      <td id=\"T_73ba0_row14_col4\" class=\"data row14 col4\" >0.0000</td>\n",
       "      <td id=\"T_73ba0_row14_col5\" class=\"data row14 col5\" >0.0000</td>\n",
       "      <td id=\"T_73ba0_row14_col6\" class=\"data row14 col6\" >0.0000</td>\n",
       "      <td id=\"T_73ba0_row14_col7\" class=\"data row14 col7\" >0.0000</td>\n",
       "      <td id=\"T_73ba0_row14_col8\" class=\"data row14 col8\" >7.9090</td>\n",
       "    </tr>\n",
       "  </tbody>\n",
       "</table>\n"
      ],
      "text/plain": [
       "<pandas.io.formats.style.Styler at 0x37945c520>"
      ]
     },
     "metadata": {},
     "output_type": "display_data"
    },
    {
     "data": {
      "text/html": [],
      "text/plain": [
       "<IPython.core.display.HTML object>"
      ]
     },
     "metadata": {},
     "output_type": "display_data"
    },
    {
     "name": "stdout",
     "output_type": "stream",
     "text": [
      "{'randomoversampler': {'svm': 0.6028, 'lr': 0.5615, 'ridge': 0.5615, 'lda': 0.5615, 'nb': 0.5528}, 'smotetomek': {'nb': 0.6348, 'lr': 0.5649, 'ridge': 0.5623, 'lda': 0.5623, 'svm': 0.4927}}\n"
     ]
    },
    {
     "data": {
      "application/vnd.jupyter.widget-view+json": {
       "model_id": "9a7261e21f114bf9b626314e104cd162",
       "version_major": 2,
       "version_minor": 0
      },
      "text/plain": [
       "interactive(children=(ToggleButtons(description='Plot Type:', icons=('',), options=(('Pipeline Plot', 'pipelin…"
      ]
     },
     "metadata": {},
     "output_type": "display_data"
    },
    {
     "data": {
      "application/vnd.jupyter.widget-view+json": {
       "model_id": "52a0f30b968a4c8b8209b9eb824cadc2",
       "version_major": 2,
       "version_minor": 0
      },
      "text/plain": [
       "interactive(children=(ToggleButtons(description='Plot Type:', icons=('',), options=(('Pipeline Plot', 'pipelin…"
      ]
     },
     "metadata": {},
     "output_type": "display_data"
    },
    {
     "data": {
      "application/vnd.jupyter.widget-view+json": {
       "model_id": "f802615683cd48ea8bc8e4fae3c57807",
       "version_major": 2,
       "version_minor": 0
      },
      "text/plain": [
       "interactive(children=(ToggleButtons(description='Plot Type:', icons=('',), options=(('Pipeline Plot', 'pipelin…"
      ]
     },
     "metadata": {},
     "output_type": "display_data"
    },
    {
     "data": {
      "application/vnd.jupyter.widget-view+json": {
       "model_id": "aeee4b330265415aa3bc806166adb107",
       "version_major": 2,
       "version_minor": 0
      },
      "text/plain": [
       "interactive(children=(ToggleButtons(description='Plot Type:', icons=('',), options=(('Pipeline Plot', 'pipelin…"
      ]
     },
     "metadata": {},
     "output_type": "display_data"
    },
    {
     "data": {
      "application/vnd.jupyter.widget-view+json": {
       "model_id": "6fbfaf117ba94c49bafae48d4b84cb94",
       "version_major": 2,
       "version_minor": 0
      },
      "text/plain": [
       "interactive(children=(ToggleButtons(description='Plot Type:', icons=('',), options=(('Pipeline Plot', 'pipelin…"
      ]
     },
     "metadata": {},
     "output_type": "display_data"
    },
    {
     "name": "stdout",
     "output_type": "stream",
     "text": [
      "--------------------------------------------------\n",
      "Type of imbalance technique: smoteenn\n"
     ]
    },
    {
     "data": {
      "text/html": [
       "<style type=\"text/css\">\n",
       "#T_10fc3_row9_col1, #T_10fc3_row15_col1 {\n",
       "  background-color: lightgreen;\n",
       "}\n",
       "</style>\n",
       "<table id=\"T_10fc3\">\n",
       "  <thead>\n",
       "    <tr>\n",
       "      <th class=\"blank level0\" >&nbsp;</th>\n",
       "      <th id=\"T_10fc3_level0_col0\" class=\"col_heading level0 col0\" >Description</th>\n",
       "      <th id=\"T_10fc3_level0_col1\" class=\"col_heading level0 col1\" >Value</th>\n",
       "    </tr>\n",
       "  </thead>\n",
       "  <tbody>\n",
       "    <tr>\n",
       "      <th id=\"T_10fc3_level0_row0\" class=\"row_heading level0 row0\" >0</th>\n",
       "      <td id=\"T_10fc3_row0_col0\" class=\"data row0 col0\" >Session id</td>\n",
       "      <td id=\"T_10fc3_row0_col1\" class=\"data row0 col1\" >3046</td>\n",
       "    </tr>\n",
       "    <tr>\n",
       "      <th id=\"T_10fc3_level0_row1\" class=\"row_heading level0 row1\" >1</th>\n",
       "      <td id=\"T_10fc3_row1_col0\" class=\"data row1 col0\" >Target</td>\n",
       "      <td id=\"T_10fc3_row1_col1\" class=\"data row1 col1\" >y</td>\n",
       "    </tr>\n",
       "    <tr>\n",
       "      <th id=\"T_10fc3_level0_row2\" class=\"row_heading level0 row2\" >2</th>\n",
       "      <td id=\"T_10fc3_row2_col0\" class=\"data row2 col0\" >Target type</td>\n",
       "      <td id=\"T_10fc3_row2_col1\" class=\"data row2 col1\" >Binary</td>\n",
       "    </tr>\n",
       "    <tr>\n",
       "      <th id=\"T_10fc3_level0_row3\" class=\"row_heading level0 row3\" >3</th>\n",
       "      <td id=\"T_10fc3_row3_col0\" class=\"data row3 col0\" >Original data shape</td>\n",
       "      <td id=\"T_10fc3_row3_col1\" class=\"data row3 col1\" >(40000, 9)</td>\n",
       "    </tr>\n",
       "    <tr>\n",
       "      <th id=\"T_10fc3_level0_row4\" class=\"row_heading level0 row4\" >4</th>\n",
       "      <td id=\"T_10fc3_row4_col0\" class=\"data row4 col0\" >Transformed data shape</td>\n",
       "      <td id=\"T_10fc3_row4_col1\" class=\"data row4 col1\" >(46900, 25)</td>\n",
       "    </tr>\n",
       "    <tr>\n",
       "      <th id=\"T_10fc3_level0_row5\" class=\"row_heading level0 row5\" >5</th>\n",
       "      <td id=\"T_10fc3_row5_col0\" class=\"data row5 col0\" >Transformed train set shape</td>\n",
       "      <td id=\"T_10fc3_row5_col1\" class=\"data row5 col1\" >(38900, 25)</td>\n",
       "    </tr>\n",
       "    <tr>\n",
       "      <th id=\"T_10fc3_level0_row6\" class=\"row_heading level0 row6\" >6</th>\n",
       "      <td id=\"T_10fc3_row6_col0\" class=\"data row6 col0\" >Transformed test set shape</td>\n",
       "      <td id=\"T_10fc3_row6_col1\" class=\"data row6 col1\" >(8000, 25)</td>\n",
       "    </tr>\n",
       "    <tr>\n",
       "      <th id=\"T_10fc3_level0_row7\" class=\"row_heading level0 row7\" >7</th>\n",
       "      <td id=\"T_10fc3_row7_col0\" class=\"data row7 col0\" >Numeric features</td>\n",
       "      <td id=\"T_10fc3_row7_col1\" class=\"data row7 col1\" >5</td>\n",
       "    </tr>\n",
       "    <tr>\n",
       "      <th id=\"T_10fc3_level0_row8\" class=\"row_heading level0 row8\" >8</th>\n",
       "      <td id=\"T_10fc3_row8_col0\" class=\"data row8 col0\" >Categorical features</td>\n",
       "      <td id=\"T_10fc3_row8_col1\" class=\"data row8 col1\" >3</td>\n",
       "    </tr>\n",
       "    <tr>\n",
       "      <th id=\"T_10fc3_level0_row9\" class=\"row_heading level0 row9\" >9</th>\n",
       "      <td id=\"T_10fc3_row9_col0\" class=\"data row9 col0\" >Preprocess</td>\n",
       "      <td id=\"T_10fc3_row9_col1\" class=\"data row9 col1\" >True</td>\n",
       "    </tr>\n",
       "    <tr>\n",
       "      <th id=\"T_10fc3_level0_row10\" class=\"row_heading level0 row10\" >10</th>\n",
       "      <td id=\"T_10fc3_row10_col0\" class=\"data row10 col0\" >Imputation type</td>\n",
       "      <td id=\"T_10fc3_row10_col1\" class=\"data row10 col1\" >simple</td>\n",
       "    </tr>\n",
       "    <tr>\n",
       "      <th id=\"T_10fc3_level0_row11\" class=\"row_heading level0 row11\" >11</th>\n",
       "      <td id=\"T_10fc3_row11_col0\" class=\"data row11 col0\" >Numeric imputation</td>\n",
       "      <td id=\"T_10fc3_row11_col1\" class=\"data row11 col1\" >mean</td>\n",
       "    </tr>\n",
       "    <tr>\n",
       "      <th id=\"T_10fc3_level0_row12\" class=\"row_heading level0 row12\" >12</th>\n",
       "      <td id=\"T_10fc3_row12_col0\" class=\"data row12 col0\" >Categorical imputation</td>\n",
       "      <td id=\"T_10fc3_row12_col1\" class=\"data row12 col1\" >mode</td>\n",
       "    </tr>\n",
       "    <tr>\n",
       "      <th id=\"T_10fc3_level0_row13\" class=\"row_heading level0 row13\" >13</th>\n",
       "      <td id=\"T_10fc3_row13_col0\" class=\"data row13 col0\" >Maximum one-hot encoding</td>\n",
       "      <td id=\"T_10fc3_row13_col1\" class=\"data row13 col1\" >25</td>\n",
       "    </tr>\n",
       "    <tr>\n",
       "      <th id=\"T_10fc3_level0_row14\" class=\"row_heading level0 row14\" >14</th>\n",
       "      <td id=\"T_10fc3_row14_col0\" class=\"data row14 col0\" >Encoding method</td>\n",
       "      <td id=\"T_10fc3_row14_col1\" class=\"data row14 col1\" >None</td>\n",
       "    </tr>\n",
       "    <tr>\n",
       "      <th id=\"T_10fc3_level0_row15\" class=\"row_heading level0 row15\" >15</th>\n",
       "      <td id=\"T_10fc3_row15_col0\" class=\"data row15 col0\" >Fix imbalance</td>\n",
       "      <td id=\"T_10fc3_row15_col1\" class=\"data row15 col1\" >True</td>\n",
       "    </tr>\n",
       "    <tr>\n",
       "      <th id=\"T_10fc3_level0_row16\" class=\"row_heading level0 row16\" >16</th>\n",
       "      <td id=\"T_10fc3_row16_col0\" class=\"data row16 col0\" >Fix imbalance method</td>\n",
       "      <td id=\"T_10fc3_row16_col1\" class=\"data row16 col1\" >smoteenn</td>\n",
       "    </tr>\n",
       "    <tr>\n",
       "      <th id=\"T_10fc3_level0_row17\" class=\"row_heading level0 row17\" >17</th>\n",
       "      <td id=\"T_10fc3_row17_col0\" class=\"data row17 col0\" >Fold Generator</td>\n",
       "      <td id=\"T_10fc3_row17_col1\" class=\"data row17 col1\" >StratifiedKFold</td>\n",
       "    </tr>\n",
       "    <tr>\n",
       "      <th id=\"T_10fc3_level0_row18\" class=\"row_heading level0 row18\" >18</th>\n",
       "      <td id=\"T_10fc3_row18_col0\" class=\"data row18 col0\" >Fold Number</td>\n",
       "      <td id=\"T_10fc3_row18_col1\" class=\"data row18 col1\" >10</td>\n",
       "    </tr>\n",
       "    <tr>\n",
       "      <th id=\"T_10fc3_level0_row19\" class=\"row_heading level0 row19\" >19</th>\n",
       "      <td id=\"T_10fc3_row19_col0\" class=\"data row19 col0\" >CPU Jobs</td>\n",
       "      <td id=\"T_10fc3_row19_col1\" class=\"data row19 col1\" >-1</td>\n",
       "    </tr>\n",
       "    <tr>\n",
       "      <th id=\"T_10fc3_level0_row20\" class=\"row_heading level0 row20\" >20</th>\n",
       "      <td id=\"T_10fc3_row20_col0\" class=\"data row20 col0\" >Use GPU</td>\n",
       "      <td id=\"T_10fc3_row20_col1\" class=\"data row20 col1\" >False</td>\n",
       "    </tr>\n",
       "    <tr>\n",
       "      <th id=\"T_10fc3_level0_row21\" class=\"row_heading level0 row21\" >21</th>\n",
       "      <td id=\"T_10fc3_row21_col0\" class=\"data row21 col0\" >Log Experiment</td>\n",
       "      <td id=\"T_10fc3_row21_col1\" class=\"data row21 col1\" >False</td>\n",
       "    </tr>\n",
       "    <tr>\n",
       "      <th id=\"T_10fc3_level0_row22\" class=\"row_heading level0 row22\" >22</th>\n",
       "      <td id=\"T_10fc3_row22_col0\" class=\"data row22 col0\" >Experiment Name</td>\n",
       "      <td id=\"T_10fc3_row22_col1\" class=\"data row22 col1\" >clf-default-name</td>\n",
       "    </tr>\n",
       "    <tr>\n",
       "      <th id=\"T_10fc3_level0_row23\" class=\"row_heading level0 row23\" >23</th>\n",
       "      <td id=\"T_10fc3_row23_col0\" class=\"data row23 col0\" >USI</td>\n",
       "      <td id=\"T_10fc3_row23_col1\" class=\"data row23 col1\" >6c9e</td>\n",
       "    </tr>\n",
       "  </tbody>\n",
       "</table>\n"
      ],
      "text/plain": [
       "<pandas.io.formats.style.Styler at 0x39b2a24c0>"
      ]
     },
     "metadata": {},
     "output_type": "display_data"
    },
    {
     "name": "stdout",
     "output_type": "stream",
     "text": [
      "\n"
     ]
    },
    {
     "data": {
      "text/html": [],
      "text/plain": [
       "<IPython.core.display.HTML object>"
      ]
     },
     "metadata": {},
     "output_type": "display_data"
    },
    {
     "data": {
      "text/html": [
       "<style type=\"text/css\">\n",
       "#T_be80c th {\n",
       "  text-align: left;\n",
       "}\n",
       "#T_be80c_row0_col0, #T_be80c_row0_col1, #T_be80c_row0_col2, #T_be80c_row0_col4, #T_be80c_row0_col5, #T_be80c_row0_col6, #T_be80c_row0_col7, #T_be80c_row1_col0, #T_be80c_row1_col1, #T_be80c_row1_col2, #T_be80c_row1_col3, #T_be80c_row1_col4, #T_be80c_row1_col5, #T_be80c_row1_col6, #T_be80c_row1_col7, #T_be80c_row2_col0, #T_be80c_row2_col1, #T_be80c_row2_col2, #T_be80c_row2_col3, #T_be80c_row2_col4, #T_be80c_row2_col5, #T_be80c_row2_col6, #T_be80c_row2_col7, #T_be80c_row3_col0, #T_be80c_row3_col1, #T_be80c_row3_col2, #T_be80c_row3_col3, #T_be80c_row3_col4, #T_be80c_row3_col5, #T_be80c_row3_col6, #T_be80c_row3_col7, #T_be80c_row4_col0, #T_be80c_row4_col1, #T_be80c_row4_col2, #T_be80c_row4_col3, #T_be80c_row4_col4, #T_be80c_row4_col5, #T_be80c_row4_col6, #T_be80c_row4_col7, #T_be80c_row5_col0, #T_be80c_row5_col1, #T_be80c_row5_col2, #T_be80c_row5_col3, #T_be80c_row5_col4, #T_be80c_row5_col5, #T_be80c_row5_col6, #T_be80c_row5_col7, #T_be80c_row6_col0, #T_be80c_row6_col1, #T_be80c_row6_col2, #T_be80c_row6_col3, #T_be80c_row6_col4, #T_be80c_row6_col5, #T_be80c_row6_col6, #T_be80c_row6_col7, #T_be80c_row7_col0, #T_be80c_row7_col1, #T_be80c_row7_col2, #T_be80c_row7_col3, #T_be80c_row7_col4, #T_be80c_row7_col6, #T_be80c_row7_col7, #T_be80c_row8_col0, #T_be80c_row8_col1, #T_be80c_row8_col2, #T_be80c_row8_col3, #T_be80c_row8_col4, #T_be80c_row8_col5, #T_be80c_row8_col6, #T_be80c_row8_col7, #T_be80c_row9_col0, #T_be80c_row9_col1, #T_be80c_row9_col2, #T_be80c_row9_col3, #T_be80c_row9_col4, #T_be80c_row9_col5, #T_be80c_row9_col6, #T_be80c_row9_col7, #T_be80c_row10_col0, #T_be80c_row10_col1, #T_be80c_row10_col2, #T_be80c_row10_col3, #T_be80c_row10_col4, #T_be80c_row10_col5, #T_be80c_row10_col6, #T_be80c_row10_col7, #T_be80c_row11_col0, #T_be80c_row11_col1, #T_be80c_row11_col2, #T_be80c_row11_col3, #T_be80c_row11_col4, #T_be80c_row11_col5, #T_be80c_row11_col6, #T_be80c_row11_col7, #T_be80c_row12_col0, #T_be80c_row12_col1, #T_be80c_row12_col2, #T_be80c_row12_col3, #T_be80c_row12_col4, #T_be80c_row12_col5, #T_be80c_row12_col7, #T_be80c_row13_col0, #T_be80c_row13_col1, #T_be80c_row13_col2, #T_be80c_row13_col3, #T_be80c_row13_col4, #T_be80c_row13_col5, #T_be80c_row13_col6, #T_be80c_row13_col7, #T_be80c_row14_col0, #T_be80c_row14_col3, #T_be80c_row14_col5, #T_be80c_row14_col6 {\n",
       "  text-align: left;\n",
       "}\n",
       "#T_be80c_row0_col3, #T_be80c_row7_col5, #T_be80c_row12_col6, #T_be80c_row14_col1, #T_be80c_row14_col2, #T_be80c_row14_col4, #T_be80c_row14_col7 {\n",
       "  text-align: left;\n",
       "  background-color: yellow;\n",
       "}\n",
       "#T_be80c_row0_col8, #T_be80c_row1_col8, #T_be80c_row3_col8, #T_be80c_row4_col8, #T_be80c_row5_col8, #T_be80c_row6_col8, #T_be80c_row7_col8, #T_be80c_row8_col8, #T_be80c_row9_col8, #T_be80c_row10_col8, #T_be80c_row11_col8, #T_be80c_row12_col8, #T_be80c_row13_col8, #T_be80c_row14_col8 {\n",
       "  text-align: left;\n",
       "  background-color: lightgrey;\n",
       "}\n",
       "#T_be80c_row2_col8 {\n",
       "  text-align: left;\n",
       "  background-color: yellow;\n",
       "  background-color: lightgrey;\n",
       "}\n",
       "</style>\n",
       "<table id=\"T_be80c\">\n",
       "  <thead>\n",
       "    <tr>\n",
       "      <th class=\"blank level0\" >&nbsp;</th>\n",
       "      <th id=\"T_be80c_level0_col0\" class=\"col_heading level0 col0\" >Model</th>\n",
       "      <th id=\"T_be80c_level0_col1\" class=\"col_heading level0 col1\" >Accuracy</th>\n",
       "      <th id=\"T_be80c_level0_col2\" class=\"col_heading level0 col2\" >AUC</th>\n",
       "      <th id=\"T_be80c_level0_col3\" class=\"col_heading level0 col3\" >Recall</th>\n",
       "      <th id=\"T_be80c_level0_col4\" class=\"col_heading level0 col4\" >Prec.</th>\n",
       "      <th id=\"T_be80c_level0_col5\" class=\"col_heading level0 col5\" >F1</th>\n",
       "      <th id=\"T_be80c_level0_col6\" class=\"col_heading level0 col6\" >Kappa</th>\n",
       "      <th id=\"T_be80c_level0_col7\" class=\"col_heading level0 col7\" >MCC</th>\n",
       "      <th id=\"T_be80c_level0_col8\" class=\"col_heading level0 col8\" >TT (Sec)</th>\n",
       "    </tr>\n",
       "  </thead>\n",
       "  <tbody>\n",
       "    <tr>\n",
       "      <th id=\"T_be80c_level0_row0\" class=\"row_heading level0 row0\" >dummy</th>\n",
       "      <td id=\"T_be80c_row0_col0\" class=\"data row0 col0\" >Dummy Classifier</td>\n",
       "      <td id=\"T_be80c_row0_col1\" class=\"data row0 col1\" >0.0724</td>\n",
       "      <td id=\"T_be80c_row0_col2\" class=\"data row0 col2\" >0.5000</td>\n",
       "      <td id=\"T_be80c_row0_col3\" class=\"data row0 col3\" >1.0000</td>\n",
       "      <td id=\"T_be80c_row0_col4\" class=\"data row0 col4\" >0.0724</td>\n",
       "      <td id=\"T_be80c_row0_col5\" class=\"data row0 col5\" >0.1350</td>\n",
       "      <td id=\"T_be80c_row0_col6\" class=\"data row0 col6\" >0.0000</td>\n",
       "      <td id=\"T_be80c_row0_col7\" class=\"data row0 col7\" >0.0000</td>\n",
       "      <td id=\"T_be80c_row0_col8\" class=\"data row0 col8\" >4.9620</td>\n",
       "    </tr>\n",
       "    <tr>\n",
       "      <th id=\"T_be80c_level0_row1\" class=\"row_heading level0 row1\" >ridge</th>\n",
       "      <td id=\"T_be80c_row1_col0\" class=\"data row1 col0\" >Ridge Classifier</td>\n",
       "      <td id=\"T_be80c_row1_col1\" class=\"data row1 col1\" >0.2963</td>\n",
       "      <td id=\"T_be80c_row1_col2\" class=\"data row1 col2\" >0.5989</td>\n",
       "      <td id=\"T_be80c_row1_col3\" class=\"data row1 col3\" >0.8334</td>\n",
       "      <td id=\"T_be80c_row1_col4\" class=\"data row1 col4\" >0.0802</td>\n",
       "      <td id=\"T_be80c_row1_col5\" class=\"data row1 col5\" >0.1464</td>\n",
       "      <td id=\"T_be80c_row1_col6\" class=\"data row1 col6\" >0.0165</td>\n",
       "      <td id=\"T_be80c_row1_col7\" class=\"data row1 col7\" >0.0527</td>\n",
       "      <td id=\"T_be80c_row1_col8\" class=\"data row1 col8\" >6.2330</td>\n",
       "    </tr>\n",
       "    <tr>\n",
       "      <th id=\"T_be80c_level0_row2\" class=\"row_heading level0 row2\" >lda</th>\n",
       "      <td id=\"T_be80c_row2_col0\" class=\"data row2 col0\" >Linear Discriminant Analysis</td>\n",
       "      <td id=\"T_be80c_row2_col1\" class=\"data row2 col1\" >0.3047</td>\n",
       "      <td id=\"T_be80c_row2_col2\" class=\"data row2 col2\" >0.5989</td>\n",
       "      <td id=\"T_be80c_row2_col3\" class=\"data row2 col3\" >0.8286</td>\n",
       "      <td id=\"T_be80c_row2_col4\" class=\"data row2 col4\" >0.0808</td>\n",
       "      <td id=\"T_be80c_row2_col5\" class=\"data row2 col5\" >0.1472</td>\n",
       "      <td id=\"T_be80c_row2_col6\" class=\"data row2 col6\" >0.0175</td>\n",
       "      <td id=\"T_be80c_row2_col7\" class=\"data row2 col7\" >0.0549</td>\n",
       "      <td id=\"T_be80c_row2_col8\" class=\"data row2 col8\" >4.8410</td>\n",
       "    </tr>\n",
       "    <tr>\n",
       "      <th id=\"T_be80c_level0_row3\" class=\"row_heading level0 row3\" >lr</th>\n",
       "      <td id=\"T_be80c_row3_col0\" class=\"data row3 col0\" >Logistic Regression</td>\n",
       "      <td id=\"T_be80c_row3_col1\" class=\"data row3 col1\" >0.3051</td>\n",
       "      <td id=\"T_be80c_row3_col2\" class=\"data row3 col2\" >0.5994</td>\n",
       "      <td id=\"T_be80c_row3_col3\" class=\"data row3 col3\" >0.8278</td>\n",
       "      <td id=\"T_be80c_row3_col4\" class=\"data row3 col4\" >0.0807</td>\n",
       "      <td id=\"T_be80c_row3_col5\" class=\"data row3 col5\" >0.1471</td>\n",
       "      <td id=\"T_be80c_row3_col6\" class=\"data row3 col6\" >0.0175</td>\n",
       "      <td id=\"T_be80c_row3_col7\" class=\"data row3 col7\" >0.0547</td>\n",
       "      <td id=\"T_be80c_row3_col8\" class=\"data row3 col8\" >8.6590</td>\n",
       "    </tr>\n",
       "    <tr>\n",
       "      <th id=\"T_be80c_level0_row4\" class=\"row_heading level0 row4\" >nb</th>\n",
       "      <td id=\"T_be80c_row4_col0\" class=\"data row4 col0\" >Naive Bayes</td>\n",
       "      <td id=\"T_be80c_row4_col1\" class=\"data row4 col1\" >0.4344</td>\n",
       "      <td id=\"T_be80c_row4_col2\" class=\"data row4 col2\" >0.5700</td>\n",
       "      <td id=\"T_be80c_row4_col3\" class=\"data row4 col3\" >0.6793</td>\n",
       "      <td id=\"T_be80c_row4_col4\" class=\"data row4 col4\" >0.0831</td>\n",
       "      <td id=\"T_be80c_row4_col5\" class=\"data row4 col5\" >0.1481</td>\n",
       "      <td id=\"T_be80c_row4_col6\" class=\"data row4 col6\" >0.0219</td>\n",
       "      <td id=\"T_be80c_row4_col7\" class=\"data row4 col7\" >0.0499</td>\n",
       "      <td id=\"T_be80c_row4_col8\" class=\"data row4 col8\" >5.6970</td>\n",
       "    </tr>\n",
       "    <tr>\n",
       "      <th id=\"T_be80c_level0_row5\" class=\"row_heading level0 row5\" >svm</th>\n",
       "      <td id=\"T_be80c_row5_col0\" class=\"data row5 col0\" >SVM - Linear Kernel</td>\n",
       "      <td id=\"T_be80c_row5_col1\" class=\"data row5 col1\" >0.5178</td>\n",
       "      <td id=\"T_be80c_row5_col2\" class=\"data row5 col2\" >0.5069</td>\n",
       "      <td id=\"T_be80c_row5_col3\" class=\"data row5 col3\" >0.5021</td>\n",
       "      <td id=\"T_be80c_row5_col4\" class=\"data row5 col4\" >0.0697</td>\n",
       "      <td id=\"T_be80c_row5_col5\" class=\"data row5 col5\" >0.1119</td>\n",
       "      <td id=\"T_be80c_row5_col6\" class=\"data row5 col6\" >-0.0022</td>\n",
       "      <td id=\"T_be80c_row5_col7\" class=\"data row5 col7\" >0.0135</td>\n",
       "      <td id=\"T_be80c_row5_col8\" class=\"data row5 col8\" >7.8790</td>\n",
       "    </tr>\n",
       "    <tr>\n",
       "      <th id=\"T_be80c_level0_row6\" class=\"row_heading level0 row6\" >knn</th>\n",
       "      <td id=\"T_be80c_row6_col0\" class=\"data row6 col0\" >K Neighbors Classifier</td>\n",
       "      <td id=\"T_be80c_row6_col1\" class=\"data row6 col1\" >0.5454</td>\n",
       "      <td id=\"T_be80c_row6_col2\" class=\"data row6 col2\" >0.5280</td>\n",
       "      <td id=\"T_be80c_row6_col3\" class=\"data row6 col3\" >0.4937</td>\n",
       "      <td id=\"T_be80c_row6_col4\" class=\"data row6 col4\" >0.0788</td>\n",
       "      <td id=\"T_be80c_row6_col5\" class=\"data row6 col5\" >0.1360</td>\n",
       "      <td id=\"T_be80c_row6_col6\" class=\"data row6 col6\" >0.0127</td>\n",
       "      <td id=\"T_be80c_row6_col7\" class=\"data row6 col7\" >0.0225</td>\n",
       "      <td id=\"T_be80c_row6_col8\" class=\"data row6 col8\" >6.1680</td>\n",
       "    </tr>\n",
       "    <tr>\n",
       "      <th id=\"T_be80c_level0_row7\" class=\"row_heading level0 row7\" >dt</th>\n",
       "      <td id=\"T_be80c_row7_col0\" class=\"data row7 col0\" >Decision Tree Classifier</td>\n",
       "      <td id=\"T_be80c_row7_col1\" class=\"data row7 col1\" >0.8096</td>\n",
       "      <td id=\"T_be80c_row7_col2\" class=\"data row7 col2\" >0.5452</td>\n",
       "      <td id=\"T_be80c_row7_col3\" class=\"data row7 col3\" >0.2361</td>\n",
       "      <td id=\"T_be80c_row7_col4\" class=\"data row7 col4\" >0.1124</td>\n",
       "      <td id=\"T_be80c_row7_col5\" class=\"data row7 col5\" >0.1522</td>\n",
       "      <td id=\"T_be80c_row7_col6\" class=\"data row7 col6\" >0.0600</td>\n",
       "      <td id=\"T_be80c_row7_col7\" class=\"data row7 col7\" >0.0653</td>\n",
       "      <td id=\"T_be80c_row7_col8\" class=\"data row7 col8\" >7.6250</td>\n",
       "    </tr>\n",
       "    <tr>\n",
       "      <th id=\"T_be80c_level0_row8\" class=\"row_heading level0 row8\" >et</th>\n",
       "      <td id=\"T_be80c_row8_col0\" class=\"data row8 col0\" >Extra Trees Classifier</td>\n",
       "      <td id=\"T_be80c_row8_col1\" class=\"data row8 col1\" >0.8618</td>\n",
       "      <td id=\"T_be80c_row8_col2\" class=\"data row8 col2\" >0.5800</td>\n",
       "      <td id=\"T_be80c_row8_col3\" class=\"data row8 col3\" >0.1562</td>\n",
       "      <td id=\"T_be80c_row8_col4\" class=\"data row8 col4\" >0.1287</td>\n",
       "      <td id=\"T_be80c_row8_col5\" class=\"data row8 col5\" >0.1411</td>\n",
       "      <td id=\"T_be80c_row8_col6\" class=\"data row8 col6\" >0.0668</td>\n",
       "      <td id=\"T_be80c_row8_col7\" class=\"data row8 col7\" >0.0671</td>\n",
       "      <td id=\"T_be80c_row8_col8\" class=\"data row8 col8\" >5.4240</td>\n",
       "    </tr>\n",
       "    <tr>\n",
       "      <th id=\"T_be80c_level0_row9\" class=\"row_heading level0 row9\" >rf</th>\n",
       "      <td id=\"T_be80c_row9_col0\" class=\"data row9 col0\" >Random Forest Classifier</td>\n",
       "      <td id=\"T_be80c_row9_col1\" class=\"data row9 col1\" >0.8822</td>\n",
       "      <td id=\"T_be80c_row9_col2\" class=\"data row9 col2\" >0.5913</td>\n",
       "      <td id=\"T_be80c_row9_col3\" class=\"data row9 col3\" >0.1264</td>\n",
       "      <td id=\"T_be80c_row9_col4\" class=\"data row9 col4\" >0.1442</td>\n",
       "      <td id=\"T_be80c_row9_col5\" class=\"data row9 col5\" >0.1347</td>\n",
       "      <td id=\"T_be80c_row9_col6\" class=\"data row9 col6\" >0.0718</td>\n",
       "      <td id=\"T_be80c_row9_col7\" class=\"data row9 col7\" >0.0720</td>\n",
       "      <td id=\"T_be80c_row9_col8\" class=\"data row9 col8\" >6.1090</td>\n",
       "    </tr>\n",
       "    <tr>\n",
       "      <th id=\"T_be80c_level0_row10\" class=\"row_heading level0 row10\" >xgboost</th>\n",
       "      <td id=\"T_be80c_row10_col0\" class=\"data row10 col0\" >Extreme Gradient Boosting</td>\n",
       "      <td id=\"T_be80c_row10_col1\" class=\"data row10 col1\" >0.9056</td>\n",
       "      <td id=\"T_be80c_row10_col2\" class=\"data row10 col2\" >0.5956</td>\n",
       "      <td id=\"T_be80c_row10_col3\" class=\"data row10 col3\" >0.0876</td>\n",
       "      <td id=\"T_be80c_row10_col4\" class=\"data row10 col4\" >0.1823</td>\n",
       "      <td id=\"T_be80c_row10_col5\" class=\"data row10 col5\" >0.1181</td>\n",
       "      <td id=\"T_be80c_row10_col6\" class=\"data row10 col6\" >0.0748</td>\n",
       "      <td id=\"T_be80c_row10_col7\" class=\"data row10 col7\" >0.0805</td>\n",
       "      <td id=\"T_be80c_row10_col8\" class=\"data row10 col8\" >5.1150</td>\n",
       "    </tr>\n",
       "    <tr>\n",
       "      <th id=\"T_be80c_level0_row11\" class=\"row_heading level0 row11\" >qda</th>\n",
       "      <td id=\"T_be80c_row11_col0\" class=\"data row11 col0\" >Quadratic Discriminant Analysis</td>\n",
       "      <td id=\"T_be80c_row11_col1\" class=\"data row11 col1\" >0.8750</td>\n",
       "      <td id=\"T_be80c_row11_col2\" class=\"data row11 col2\" >0.4892</td>\n",
       "      <td id=\"T_be80c_row11_col3\" class=\"data row11 col3\" >0.0717</td>\n",
       "      <td id=\"T_be80c_row11_col4\" class=\"data row11 col4\" >0.0862</td>\n",
       "      <td id=\"T_be80c_row11_col5\" class=\"data row11 col5\" >0.0648</td>\n",
       "      <td id=\"T_be80c_row11_col6\" class=\"data row11 col6\" >0.0078</td>\n",
       "      <td id=\"T_be80c_row11_col7\" class=\"data row11 col7\" >0.0096</td>\n",
       "      <td id=\"T_be80c_row11_col8\" class=\"data row11 col8\" >7.2260</td>\n",
       "    </tr>\n",
       "    <tr>\n",
       "      <th id=\"T_be80c_level0_row12\" class=\"row_heading level0 row12\" >lightgbm</th>\n",
       "      <td id=\"T_be80c_row12_col0\" class=\"data row12 col0\" >Light Gradient Boosting Machine</td>\n",
       "      <td id=\"T_be80c_row12_col1\" class=\"data row12 col1\" >0.9182</td>\n",
       "      <td id=\"T_be80c_row12_col2\" class=\"data row12 col2\" >0.6100</td>\n",
       "      <td id=\"T_be80c_row12_col3\" class=\"data row12 col3\" >0.0690</td>\n",
       "      <td id=\"T_be80c_row12_col4\" class=\"data row12 col4\" >0.2596</td>\n",
       "      <td id=\"T_be80c_row12_col5\" class=\"data row12 col5\" >0.1089</td>\n",
       "      <td id=\"T_be80c_row12_col6\" class=\"data row12 col6\" >0.0808</td>\n",
       "      <td id=\"T_be80c_row12_col7\" class=\"data row12 col7\" >0.1009</td>\n",
       "      <td id=\"T_be80c_row12_col8\" class=\"data row12 col8\" >5.4170</td>\n",
       "    </tr>\n",
       "    <tr>\n",
       "      <th id=\"T_be80c_level0_row13\" class=\"row_heading level0 row13\" >ada</th>\n",
       "      <td id=\"T_be80c_row13_col0\" class=\"data row13 col0\" >Ada Boost Classifier</td>\n",
       "      <td id=\"T_be80c_row13_col1\" class=\"data row13 col1\" >0.9154</td>\n",
       "      <td id=\"T_be80c_row13_col2\" class=\"data row13 col2\" >0.6032</td>\n",
       "      <td id=\"T_be80c_row13_col3\" class=\"data row13 col3\" >0.0634</td>\n",
       "      <td id=\"T_be80c_row13_col4\" class=\"data row13 col4\" >0.2322</td>\n",
       "      <td id=\"T_be80c_row13_col5\" class=\"data row13 col5\" >0.0967</td>\n",
       "      <td id=\"T_be80c_row13_col6\" class=\"data row13 col6\" >0.0670</td>\n",
       "      <td id=\"T_be80c_row13_col7\" class=\"data row13 col7\" >0.0844</td>\n",
       "      <td id=\"T_be80c_row13_col8\" class=\"data row13 col8\" >6.3660</td>\n",
       "    </tr>\n",
       "    <tr>\n",
       "      <th id=\"T_be80c_level0_row14\" class=\"row_heading level0 row14\" >gbc</th>\n",
       "      <td id=\"T_be80c_row14_col0\" class=\"data row14 col0\" >Gradient Boosting Classifier</td>\n",
       "      <td id=\"T_be80c_row14_col1\" class=\"data row14 col1\" >0.9203</td>\n",
       "      <td id=\"T_be80c_row14_col2\" class=\"data row14 col2\" >0.6158</td>\n",
       "      <td id=\"T_be80c_row14_col3\" class=\"data row14 col3\" >0.0634</td>\n",
       "      <td id=\"T_be80c_row14_col4\" class=\"data row14 col4\" >0.2855</td>\n",
       "      <td id=\"T_be80c_row14_col5\" class=\"data row14 col5\" >0.1033</td>\n",
       "      <td id=\"T_be80c_row14_col6\" class=\"data row14 col6\" >0.0787</td>\n",
       "      <td id=\"T_be80c_row14_col7\" class=\"data row14 col7\" >0.1043</td>\n",
       "      <td id=\"T_be80c_row14_col8\" class=\"data row14 col8\" >6.8560</td>\n",
       "    </tr>\n",
       "  </tbody>\n",
       "</table>\n"
      ],
      "text/plain": [
       "<pandas.io.formats.style.Styler at 0x3a004b9d0>"
      ]
     },
     "metadata": {},
     "output_type": "display_data"
    },
    {
     "data": {
      "text/html": [],
      "text/plain": [
       "<IPython.core.display.HTML object>"
      ]
     },
     "metadata": {},
     "output_type": "display_data"
    },
    {
     "name": "stdout",
     "output_type": "stream",
     "text": [
      "{'randomoversampler': {'svm': 0.6028, 'lr': 0.5615, 'ridge': 0.5615, 'lda': 0.5615, 'nb': 0.5528}, 'smotetomek': {'nb': 0.6348, 'lr': 0.5649, 'ridge': 0.5623, 'lda': 0.5623, 'svm': 0.4927}, 'smoteenn': {'dummy': 1.0, 'ridge': 0.8334, 'lda': 0.8286, 'lr': 0.8278, 'nb': 0.6793}}\n"
     ]
    },
    {
     "data": {
      "application/vnd.jupyter.widget-view+json": {
       "model_id": "b66486af99c743e9b31dc6c9d3023d5a",
       "version_major": 2,
       "version_minor": 0
      },
      "text/plain": [
       "interactive(children=(ToggleButtons(description='Plot Type:', icons=('',), options=(('Pipeline Plot', 'pipelin…"
      ]
     },
     "metadata": {},
     "output_type": "display_data"
    },
    {
     "data": {
      "application/vnd.jupyter.widget-view+json": {
       "model_id": "23f8b51d104a44ea8a78d305f8f9ce65",
       "version_major": 2,
       "version_minor": 0
      },
      "text/plain": [
       "interactive(children=(ToggleButtons(description='Plot Type:', icons=('',), options=(('Pipeline Plot', 'pipelin…"
      ]
     },
     "metadata": {},
     "output_type": "display_data"
    },
    {
     "data": {
      "application/vnd.jupyter.widget-view+json": {
       "model_id": "51114217cff44024b362edc224a48dd0",
       "version_major": 2,
       "version_minor": 0
      },
      "text/plain": [
       "interactive(children=(ToggleButtons(description='Plot Type:', icons=('',), options=(('Pipeline Plot', 'pipelin…"
      ]
     },
     "metadata": {},
     "output_type": "display_data"
    },
    {
     "data": {
      "application/vnd.jupyter.widget-view+json": {
       "model_id": "b43bd811e68b46c285140b3143ff192d",
       "version_major": 2,
       "version_minor": 0
      },
      "text/plain": [
       "interactive(children=(ToggleButtons(description='Plot Type:', icons=('',), options=(('Pipeline Plot', 'pipelin…"
      ]
     },
     "metadata": {},
     "output_type": "display_data"
    },
    {
     "data": {
      "application/vnd.jupyter.widget-view+json": {
       "model_id": "270975d0c14e4c99a31ff853ca48113c",
       "version_major": 2,
       "version_minor": 0
      },
      "text/plain": [
       "interactive(children=(ToggleButtons(description='Plot Type:', icons=('',), options=(('Pipeline Plot', 'pipelin…"
      ]
     },
     "metadata": {},
     "output_type": "display_data"
    },
    {
     "name": "stdout",
     "output_type": "stream",
     "text": [
      "--------------------------------------------------\n"
     ]
    }
   ],
   "source": [
    "from pycaret.classification import *\n",
    "import random\n",
    "\n",
    "seed = random.randint(1000, 9999)\n",
    "\n",
    "imbalance_methods = ['randomoversampler', 'smotetomek', 'smoteenn']\n",
    "n_select = 5\n",
    "imbalance_type_dict = {}\n",
    "\n",
    "\n",
    "for type in imbalance_methods:\n",
    "  print(f'Type of imbalance technique: {type}')\n",
    "  s = setup(data=pre_campaign_df,\n",
    "        target=target_variable, \n",
    "        session_id=seed, \n",
    "        train_size=.80, \n",
    "        fix_imbalance=True, \n",
    "        fix_imbalance_method=type,\n",
    "        categorical_features=categ_features\n",
    "      )\n",
    "  # print(s.X_train)\n",
    "  print()\n",
    "  best_models = compare_models(sort='Recall', n_select=n_select)\n",
    "  results = pull()\n",
    "  # print(best_models)\n",
    "\n",
    "  model_recall_score_dict = {}\n",
    "\n",
    "  for i in range(n_select):\n",
    "      model_recall_score_dict[results.index[i]] = results.iloc[i].Recall\n",
    "\n",
    "  imbalance_type_dict[type] = model_recall_score_dict\n",
    "\n",
    "  print(imbalance_type_dict)\n",
    "\n",
    "  evaluation = [evaluate_model(estimator=model) for model in best_models]\n",
    "  print('-'*50)\n"
   ]
  },
  {
   "cell_type": "code",
   "execution_count": 1509,
   "metadata": {},
   "outputs": [
    {
     "data": {
      "text/html": [
       "<div>\n",
       "<style scoped>\n",
       "    .dataframe tbody tr th:only-of-type {\n",
       "        vertical-align: middle;\n",
       "    }\n",
       "\n",
       "    .dataframe tbody tr th {\n",
       "        vertical-align: top;\n",
       "    }\n",
       "\n",
       "    .dataframe thead th {\n",
       "        text-align: right;\n",
       "    }\n",
       "</style>\n",
       "<table border=\"1\" class=\"dataframe\">\n",
       "  <thead>\n",
       "    <tr style=\"text-align: right;\">\n",
       "      <th></th>\n",
       "      <th>age</th>\n",
       "      <th>job</th>\n",
       "      <th>marital</th>\n",
       "      <th>education</th>\n",
       "      <th>default</th>\n",
       "      <th>balance</th>\n",
       "      <th>housing</th>\n",
       "      <th>loan</th>\n",
       "    </tr>\n",
       "  </thead>\n",
       "  <tbody>\n",
       "    <tr>\n",
       "      <th>20685</th>\n",
       "      <td>44</td>\n",
       "      <td>management</td>\n",
       "      <td>married</td>\n",
       "      <td>secondary</td>\n",
       "      <td>0</td>\n",
       "      <td>781</td>\n",
       "      <td>1</td>\n",
       "      <td>0</td>\n",
       "    </tr>\n",
       "    <tr>\n",
       "      <th>39744</th>\n",
       "      <td>51</td>\n",
       "      <td>management</td>\n",
       "      <td>married</td>\n",
       "      <td>tertiary</td>\n",
       "      <td>0</td>\n",
       "      <td>994</td>\n",
       "      <td>0</td>\n",
       "      <td>0</td>\n",
       "    </tr>\n",
       "    <tr>\n",
       "      <th>25714</th>\n",
       "      <td>54</td>\n",
       "      <td>services</td>\n",
       "      <td>married</td>\n",
       "      <td>unknown</td>\n",
       "      <td>0</td>\n",
       "      <td>386</td>\n",
       "      <td>0</td>\n",
       "      <td>1</td>\n",
       "    </tr>\n",
       "    <tr>\n",
       "      <th>15848</th>\n",
       "      <td>26</td>\n",
       "      <td>admin</td>\n",
       "      <td>married</td>\n",
       "      <td>secondary</td>\n",
       "      <td>0</td>\n",
       "      <td>233</td>\n",
       "      <td>1</td>\n",
       "      <td>0</td>\n",
       "    </tr>\n",
       "    <tr>\n",
       "      <th>23373</th>\n",
       "      <td>54</td>\n",
       "      <td>management</td>\n",
       "      <td>divorced</td>\n",
       "      <td>tertiary</td>\n",
       "      <td>0</td>\n",
       "      <td>124</td>\n",
       "      <td>0</td>\n",
       "      <td>0</td>\n",
       "    </tr>\n",
       "  </tbody>\n",
       "</table>\n",
       "</div>"
      ],
      "text/plain": [
       "       age         job   marital  education  default  balance  housing  loan\n",
       "20685   44  management   married  secondary        0      781        1     0\n",
       "39744   51  management   married   tertiary        0      994        0     0\n",
       "25714   54    services   married    unknown        0      386        0     1\n",
       "15848   26       admin   married  secondary        0      233        1     0\n",
       "23373   54  management  divorced   tertiary        0      124        0     0"
      ]
     },
     "execution_count": 1509,
     "metadata": {},
     "output_type": "execute_result"
    }
   ],
   "source": [
    "new_X = get_config('X') #### the new X to use when exploring models below\n",
    "new_X.head()"
   ]
  },
  {
   "cell_type": "code",
   "execution_count": 1510,
   "metadata": {},
   "outputs": [
    {
     "data": {
      "text/plain": [
       "20685    0\n",
       "39744    0\n",
       "25714    0\n",
       "15848    0\n",
       "23373    0\n",
       "        ..\n",
       "39534    0\n",
       "8858     0\n",
       "28540    0\n",
       "18981    0\n",
       "23493    0\n",
       "Name: y, Length: 40000, dtype: int8"
      ]
     },
     "execution_count": 1510,
     "metadata": {},
     "output_type": "execute_result"
    }
   ],
   "source": [
    "new_y = get_config('y') #### the new y to use when exploring models below\n",
    "new_y"
   ]
  },
  {
   "cell_type": "code",
   "execution_count": 1511,
   "metadata": {},
   "outputs": [
    {
     "name": "stdout",
     "output_type": "stream",
     "text": [
      "                      svm      lr   ridge     lda      nb\n",
      "randomoversampler  0.6028  0.5615  0.5615  0.5615  0.5528\n",
      "smotetomek         0.4927  0.5649  0.5623  0.5623  0.6348\n",
      "smoteenn              NaN  0.8278  0.8334  0.8286  0.6793\n"
     ]
    },
    {
     "data": {
      "image/png": "[encoded data removed]",
      "text/plain": [
       "<Figure size 800x550 with 1 Axes>"
      ]
     },
     "metadata": {},
     "output_type": "display_data"
    }
   ],
   "source": [
    "import seaborn as sns\n",
    "import matplotlib.pyplot as plt\n",
    "\n",
    "df = pd.DataFrame(data=imbalance_type_dict)\n",
    "df = df.T.drop(columns='dummy', axis=1)\n",
    "print(df)\n",
    "\n",
    "sns.barplot(data=df)\n",
    "plt.xlabel('Models')\n",
    "plt.ylabel('Recall Score')\n",
    "plt.title('Recall scores of top models using different sampling techniques')\n",
    "plt.show()"
   ]
  },
  {
   "cell_type": "code",
   "execution_count": 1512,
   "metadata": {},
   "outputs": [
    {
     "data": {
      "image/png": "[encoded data removed]",
      "text/plain": [
       "<Figure size 800x550 with 1 Axes>"
      ]
     },
     "metadata": {},
     "output_type": "display_data"
    }
   ],
   "source": [
    "sns.scatterplot(df)\n",
    "plt.xlabel('Sampling Techniques')\n",
    "plt.ylabel('Recall Score')\n",
    "plt.title('Recall scores of models per sampling technique')\n",
    "plt.show()"
   ]
  },
  {
   "attachments": {},
   "cell_type": "markdown",
   "metadata": {},
   "source": [
    "Based on multiple tests to see what models and sampling techniques worked best, the results show a smoteenn technique working better for recall scores and the models that performed the best with smoteenn will be used along with svm."
   ]
  },
  {
   "attachments": {},
   "cell_type": "markdown",
   "metadata": {},
   "source": [
    "## Model Experimentation\n",
    "* This section will look at different models to explore as well as look at replicating some of the scores from above with the different sampling techniques"
   ]
  },
  {
   "cell_type": "code",
   "execution_count": 1620,
   "metadata": {},
   "outputs": [],
   "source": [
    "from sklearn.naive_bayes import GaussianNB\n",
    "from sklearn.linear_model import LogisticRegression, RidgeClassifier, SGDClassifier\n",
    "from sklearn.discriminant_analysis import LinearDiscriminantAnalysis\n",
    "from imblearn.over_sampling import RandomOverSampler, SMOTENC\n",
    "from imblearn.combine import SMOTETomek, SMOTEENN\n",
    "\n",
    "ros = RandomOverSampler(random_state=seed)\n",
    "smotenc = SMOTENC(categorical_features=categ_features, sampling_strategy='all', random_state=seed)\n",
    "smoteenn = SMOTEENN(random_state=seed)\n",
    "\n",
    "dummy_df = pd.get_dummies(new_X)\n",
    "\n",
    "X_train, X_test, y_train, y_test = train_test_split(dummy_df,\n",
    "                                                    new_y, \n",
    "                                                    train_size=.80, \n",
    "                                                    random_state=seed\n",
    "                                                    )\n",
    "\n",
    "X_train_resample, y_train_resample = smoteenn.fit_resample(X_train, y_train)"
   ]
  },
  {
   "cell_type": "code",
   "execution_count": 1621,
   "metadata": {},
   "outputs": [
    {
     "data": {
      "text/plain": [
       "0.0724"
      ]
     },
     "execution_count": 1621,
     "metadata": {},
     "output_type": "execute_result"
    }
   ],
   "source": [
    "original_target_distribution = new_y.sum()/new_X.shape[0]\n",
    "original_target_distribution"
   ]
  },
  {
   "cell_type": "code",
   "execution_count": 1622,
   "metadata": {},
   "outputs": [
    {
     "data": {
      "text/plain": [
       "0.6166415153249727"
      ]
     },
     "execution_count": 1622,
     "metadata": {},
     "output_type": "execute_result"
    }
   ],
   "source": [
    "y_train_resample.sum()/X_train_resample.shape[0]"
   ]
  },
  {
   "cell_type": "code",
   "execution_count": 1623,
   "metadata": {},
   "outputs": [],
   "source": [
    "lr = LogisticRegression(random_state=seed)\n",
    "lda = LinearDiscriminantAnalysis()\n",
    "ridge = RidgeClassifier(random_state=seed)\n",
    "gaussian_nb = GaussianNB()\n",
    "sdg = SGDClassifier(random_state=seed)\n",
    "\n",
    "models_dict = {\n",
    "    'Logistic Regression': lr,\n",
    "    'Linear Discrimination Analysis': lda,\n",
    "    'Ridge Classifier': ridge,\n",
    "    'Gaussian Naive-Bayes': gaussian_nb,\n",
    "    'Stochastic Gradient Descent': sdg\n",
    "    }\n"
   ]
  },
  {
   "cell_type": "code",
   "execution_count": 1624,
   "metadata": {},
   "outputs": [],
   "source": [
    "\n",
    "# import numpy as np\n",
    "# dummy_df = pd.get_dummies(new_X)\n",
    "\n",
    "# X_train, X_test, y_train, y_test = train_test_split(dummy_df,\n",
    "#                                                     new_y, \n",
    "#                                                     train_size=.80, \n",
    "#                                                     random_state=seed, \n",
    "#                                                     # stratify=y_resampled\n",
    "#                                                     )\n",
    "\n",
    "# X_resampled, y_resampled = SMOTENC(categorical_features=np.arange(5,23), random_state=seed).fit_resample(X=X_train, y=y_train)\n",
    "\n",
    "# # X_resampled\n",
    "\n",
    "# for name, model in models_dict.items():\n",
    "#     print(f\"{'*'*40} Model: {name} {'*'*40}\")\n",
    "#     model.fit(X_resampled, y_resampled)\n",
    "#     y_preds = model.predict(X_test)\n",
    "#     print(classification_report(y_test, y_preds))"
   ]
  },
  {
   "cell_type": "code",
   "execution_count": 1625,
   "metadata": {},
   "outputs": [
    {
     "name": "stdout",
     "output_type": "stream",
     "text": [
      "Sampling technique: RandomOverSampler(random_state=5137, sampling_strategy='auto', shrinkage=None)\n",
      "**************************************** Model: Logistic Regression ****************************************\n",
      "              precision    recall  f1-score   support\n",
      "\n",
      "           0       0.95      0.57      0.71      7421\n",
      "           1       0.09      0.58      0.16       579\n",
      "\n",
      "    accuracy                           0.57      8000\n",
      "   macro avg       0.52      0.57      0.44      8000\n",
      "weighted avg       0.88      0.57      0.67      8000\n",
      "\n",
      "[[4240 3181]\n",
      " [ 246  333]]\n",
      "**************************************** Model: Linear Discrimination Analysis ****************************************\n",
      "              precision    recall  f1-score   support\n",
      "\n",
      "           0       0.94      0.58      0.72      7421\n",
      "           1       0.10      0.56      0.16       579\n",
      "\n",
      "    accuracy                           0.58      8000\n",
      "   macro avg       0.52      0.57      0.44      8000\n",
      "weighted avg       0.88      0.58      0.68      8000\n",
      "\n",
      "[[4331 3090]\n",
      " [ 254  325]]\n",
      "**************************************** Model: Ridge Classifier ****************************************\n",
      "              precision    recall  f1-score   support\n",
      "\n",
      "           0       0.94      0.58      0.72      7421\n",
      "           1       0.10      0.56      0.16       579\n",
      "\n",
      "    accuracy                           0.58      8000\n",
      "   macro avg       0.52      0.57      0.44      8000\n",
      "weighted avg       0.88      0.58      0.68      8000\n",
      "\n",
      "[[4331 3090]\n",
      " [ 254  325]]\n",
      "**************************************** Model: Gaussian Naive-Bayes ****************************************\n",
      "              precision    recall  f1-score   support\n",
      "\n",
      "           0       0.94      0.59      0.73      7421\n",
      "           1       0.09      0.53      0.16       579\n",
      "\n",
      "    accuracy                           0.59      8000\n",
      "   macro avg       0.52      0.56      0.44      8000\n",
      "weighted avg       0.88      0.59      0.69      8000\n",
      "\n",
      "[[4393 3028]\n",
      " [ 271  308]]\n",
      "**************************************** Model: Stochastic Gradient Descent ****************************************\n",
      "              precision    recall  f1-score   support\n",
      "\n",
      "           0       0.95      0.15      0.26      7421\n",
      "           1       0.08      0.89      0.14       579\n",
      "\n",
      "    accuracy                           0.21      8000\n",
      "   macro avg       0.51      0.52      0.20      8000\n",
      "weighted avg       0.88      0.21      0.25      8000\n",
      "\n",
      "[[1137 6284]\n",
      " [  65  514]]\n",
      "Sampling technique: SMOTETomek(n_jobs=None, random_state=5137, sampling_strategy='auto', smote=None,\n",
      "           tomek=None)\n",
      "**************************************** Model: Logistic Regression ****************************************\n",
      "              precision    recall  f1-score   support\n",
      "\n",
      "           0       0.93      0.97      0.95      7421\n",
      "           1       0.14      0.07      0.09       579\n",
      "\n",
      "    accuracy                           0.90      8000\n",
      "   macro avg       0.53      0.52      0.52      8000\n",
      "weighted avg       0.87      0.90      0.89      8000\n",
      "\n",
      "[[7175  246]\n",
      " [ 539   40]]\n",
      "**************************************** Model: Linear Discrimination Analysis ****************************************\n",
      "              precision    recall  f1-score   support\n",
      "\n",
      "           0       0.93      1.00      0.96      7421\n",
      "           1       0.00      0.00      0.00       579\n",
      "\n",
      "    accuracy                           0.93      8000\n",
      "   macro avg       0.46      0.50      0.48      8000\n",
      "weighted avg       0.86      0.93      0.89      8000\n",
      "\n",
      "[[7421    0]\n",
      " [ 579    0]]\n",
      "**************************************** Model: Ridge Classifier ****************************************\n",
      "              precision    recall  f1-score   support\n",
      "\n",
      "           0       0.93      1.00      0.96      7421\n",
      "           1       0.00      0.00      0.00       579\n",
      "\n",
      "    accuracy                           0.93      8000\n",
      "   macro avg       0.46      0.50      0.48      8000\n",
      "weighted avg       0.86      0.93      0.89      8000\n",
      "\n",
      "[[7421    0]\n",
      " [ 579    0]]\n",
      "**************************************** Model: Gaussian Naive-Bayes ****************************************\n",
      "              precision    recall  f1-score   support\n",
      "\n",
      "           0       0.93      0.64      0.76      7421\n",
      "           1       0.08      0.38      0.13       579\n",
      "\n",
      "    accuracy                           0.62      8000\n",
      "   macro avg       0.50      0.51      0.44      8000\n",
      "weighted avg       0.87      0.62      0.71      8000\n",
      "\n",
      "[[4754 2667]\n",
      " [ 357  222]]\n",
      "**************************************** Model: Stochastic Gradient Descent ****************************************\n",
      "              precision    recall  f1-score   support\n",
      "\n",
      "           0       0.95      0.23      0.37      7421\n",
      "           1       0.08      0.83      0.14       579\n",
      "\n",
      "    accuracy                           0.27      8000\n",
      "   macro avg       0.51      0.53      0.26      8000\n",
      "weighted avg       0.88      0.27      0.35      8000\n",
      "\n",
      "[[1698 5723]\n",
      " [  97  482]]\n",
      "Sampling technique: SMOTEENN(enn=None, n_jobs=None, random_state=5137, sampling_strategy='auto',\n",
      "         smote=None)\n",
      "**************************************** Model: Logistic Regression ****************************************\n",
      "              precision    recall  f1-score   support\n",
      "\n",
      "           0       0.93      0.89      0.91      7421\n",
      "           1       0.11      0.17      0.13       579\n",
      "\n",
      "    accuracy                           0.83      8000\n",
      "   macro avg       0.52      0.53      0.52      8000\n",
      "weighted avg       0.87      0.83      0.85      8000\n",
      "\n",
      "[[6577  844]\n",
      " [ 479  100]]\n",
      "**************************************** Model: Linear Discrimination Analysis ****************************************\n",
      "              precision    recall  f1-score   support\n",
      "\n",
      "           0       0.93      1.00      0.96      7421\n",
      "           1       0.25      0.00      0.00       579\n",
      "\n",
      "    accuracy                           0.93      8000\n",
      "   macro avg       0.59      0.50      0.48      8000\n",
      "weighted avg       0.88      0.93      0.89      8000\n",
      "\n",
      "[[7418    3]\n",
      " [ 578    1]]\n",
      "**************************************** Model: Ridge Classifier ****************************************\n",
      "              precision    recall  f1-score   support\n",
      "\n",
      "           0       0.93      1.00      0.96      7421\n",
      "           1       0.33      0.00      0.01       579\n",
      "\n",
      "    accuracy                           0.93      8000\n",
      "   macro avg       0.63      0.50      0.48      8000\n",
      "weighted avg       0.88      0.93      0.89      8000\n",
      "\n",
      "[[7417    4]\n",
      " [ 577    2]]\n",
      "**************************************** Model: Gaussian Naive-Bayes ****************************************\n",
      "              precision    recall  f1-score   support\n",
      "\n",
      "           0       0.93      0.64      0.76      7421\n",
      "           1       0.08      0.39      0.13       579\n",
      "\n",
      "    accuracy                           0.62      8000\n",
      "   macro avg       0.50      0.51      0.44      8000\n",
      "weighted avg       0.87      0.62      0.71      8000\n",
      "\n",
      "[[4747 2674]\n",
      " [ 354  225]]\n",
      "**************************************** Model: Stochastic Gradient Descent ****************************************\n",
      "              precision    recall  f1-score   support\n",
      "\n",
      "           0       0.95      0.22      0.36      7421\n",
      "           1       0.08      0.84      0.14       579\n",
      "\n",
      "    accuracy                           0.27      8000\n",
      "   macro avg       0.51      0.53      0.25      8000\n",
      "weighted avg       0.88      0.27      0.35      8000\n",
      "\n",
      "[[1668 5753]\n",
      " [  92  487]]\n"
     ]
    }
   ],
   "source": [
    "sampling_techniques = [ros, SMOTETomek(random_state=seed), smoteenn]\n",
    "\n",
    "for tech in sampling_techniques:\n",
    "    dummy_df = pd.get_dummies(new_X)\n",
    "\n",
    "    X_train, X_test, y_train, y_test = train_test_split(dummy_df, new_y, train_size=.80, random_state=seed)\n",
    "\n",
    "    X_train_resample, y_train_resample = tech.fit_resample(X_train, y_train)\n",
    "\n",
    "    print(f\"Sampling technique: {tech}\")\n",
    "    for name, model in models_dict.items():\n",
    "        print(f\"{'*'*40} Model: {name} {'*'*40}\")\n",
    "        model.fit(X_train_resample, y_train_resample)\n",
    "        y_preds = model.predict(X_test)\n",
    "        print(classification_report(y_test, y_preds))\n",
    "        print(confusion_matrix(y_test, y_preds))"
   ]
  },
  {
   "cell_type": "code",
   "execution_count": 1626,
   "metadata": {},
   "outputs": [
    {
     "data": {
      "image/png": "[encoded data removed]",
      "text/plain": [
       "<Figure size 800x550 with 2 Axes>"
      ]
     },
     "metadata": {},
     "output_type": "display_data"
    }
   ],
   "source": [
    "models_dict['Ridge Classifier'].fit(X_train_resample, y_train_resample)\n",
    "pred = models_dict['Ridge Classifier'].predict(X_test)\n",
    "\n",
    "sns.heatmap(data=confusion_matrix(y_test, pred), annot=True, fmt='.2f')\n",
    "plt.title('RidgeClassifier confusion matrix')\n",
    "plt.xlabel('Predicted')\n",
    "plt.ylabel('Actual')\n",
    "plt.show()"
   ]
  },
  {
   "cell_type": "code",
   "execution_count": 1627,
   "metadata": {},
   "outputs": [
    {
     "data": {
      "image/png": "[encoded data removed]",
      "text/plain": [
       "<Figure size 800x550 with 2 Axes>"
      ]
     },
     "metadata": {},
     "output_type": "display_data"
    }
   ],
   "source": [
    "models_dict['Stochastic Gradient Descent'].fit(X_train_resample, y_train_resample)\n",
    "pred = models_dict['Stochastic Gradient Descent'].predict(X_test)\n",
    "\n",
    "sns.heatmap(data=confusion_matrix(y_test, pred), annot=True, fmt='.2f')\n",
    "plt.title('SGDClassifier confusion matrix')\n",
    "plt.xlabel('Predicted')\n",
    "plt.ylabel('Actual')\n",
    "plt.show()"
   ]
  },
  {
   "attachments": {},
   "cell_type": "markdown",
   "metadata": {},
   "source": [
    "The two confusion matrices show the difference between the true positives and the false negatives. Thus the wildly different recall scores."
   ]
  },
  {
   "attachments": {},
   "cell_type": "markdown",
   "metadata": {},
   "source": [
    "### Hyperparameter Tuning\n",
    "* SGDClassifier model will be tuned due to the fact that the amount of false negatives where considerably lower than the other models"
   ]
  },
  {
   "cell_type": "code",
   "execution_count": 1628,
   "metadata": {},
   "outputs": [
    {
     "name": "stdout",
     "output_type": "stream",
     "text": [
      "Best params: {'max_iter': 850, 'alpha': 1e-07}\n"
     ]
    }
   ],
   "source": [
    "import numpy as np\n",
    "import optuna\n",
    "\n",
    "n = X_train_resample.shape[0]\n",
    "svm = models_dict['Stochastic Gradient Descent']\n",
    "\n",
    "params = {\n",
    "    'alpha': np.arange(.0000001, 1, 10),\n",
    "    # 'max_iter': np.arange(1, 1000, 100)\n",
    "    'max_iter': np.arange(200, 1000, 50)\n",
    "}\n",
    "\n",
    "random_grid_search = RandomizedSearchCV(estimator=svm, param_distributions=params, random_state=seed, cv=5, scoring='recall')\n",
    "\n",
    "random_grid_search.fit(X_train_resample, y_train_resample)\n",
    "\n",
    "preds = random_grid_search.predict(X_test)\n",
    "print(f\"Best params: {random_grid_search.best_params_}\")"
   ]
  },
  {
   "cell_type": "code",
   "execution_count": 1629,
   "metadata": {},
   "outputs": [
    {
     "name": "stdout",
     "output_type": "stream",
     "text": [
      "              precision    recall  f1-score   support\n",
      "\n",
      "           0       0.94      0.20      0.33      7421\n",
      "           1       0.08      0.85      0.14       579\n",
      "\n",
      "    accuracy                           0.25      8000\n",
      "   macro avg       0.51      0.52      0.23      8000\n",
      "weighted avg       0.88      0.25      0.32      8000\n",
      "\n",
      "[[1481 5940]\n",
      " [  89  490]]\n"
     ]
    }
   ],
   "source": [
    "tuned_sgd = SGDClassifier(alpha=1e-07, max_iter=900)\n",
    "tuned_sgd.fit(X_train_resample, y_train_resample)\n",
    "\n",
    "preds = tuned_sgd.predict(X_test)\n",
    "\n",
    "print(classification_report(y_test, preds))\n",
    "print(confusion_matrix(y_test, preds))"
   ]
  },
  {
   "cell_type": "code",
   "execution_count": 1630,
   "metadata": {},
   "outputs": [
    {
     "name": "stderr",
     "output_type": "stream",
     "text": [
      "[I 2024-09-26 09:37:03,003] A new study created in memory with name: no-name-64d9861f-6d07-4bb8-a120-602a760168e5\n",
      "[W 2024-09-26 09:38:42,747] Trial 0 failed with parameters: {'svm_alpha': 0.0001888511011281689, 'svm_max_iter': 286} because of the following error: The value None could not be cast to float..\n",
      "[W 2024-09-26 09:38:42,750] Trial 0 failed with value None.\n"
     ]
    },
    {
     "name": "stdout",
     "output_type": "stream",
     "text": [
      "              precision    recall  f1-score   support\n",
      "\n",
      "           0       0.95      0.28      0.44      7421\n",
      "           1       0.08      0.80      0.15       579\n",
      "\n",
      "    accuracy                           0.32      8000\n",
      "   macro avg       0.51      0.54      0.29      8000\n",
      "weighted avg       0.88      0.32      0.42      8000\n",
      "\n"
     ]
    },
    {
     "name": "stderr",
     "output_type": "stream",
     "text": [
      "[W 2024-09-26 09:40:06,197] Trial 1 failed with parameters: {'svm_alpha': 4.15968287528716e-06, 'svm_max_iter': 400} because of the following error: The value None could not be cast to float..\n",
      "[W 2024-09-26 09:40:06,201] Trial 1 failed with value None.\n"
     ]
    },
    {
     "name": "stdout",
     "output_type": "stream",
     "text": [
      "              precision    recall  f1-score   support\n",
      "\n",
      "           0       0.95      0.25      0.39      7421\n",
      "           1       0.08      0.82      0.14       579\n",
      "\n",
      "    accuracy                           0.29      8000\n",
      "   macro avg       0.51      0.53      0.27      8000\n",
      "weighted avg       0.88      0.29      0.38      8000\n",
      "\n"
     ]
    },
    {
     "name": "stderr",
     "output_type": "stream",
     "text": [
      "[W 2024-09-26 09:41:22,301] Trial 2 failed with parameters: {'svm_alpha': 7.594400634506169e-05, 'svm_max_iter': 869} because of the following error: The value None could not be cast to float..\n",
      "[W 2024-09-26 09:41:22,303] Trial 2 failed with value None.\n"
     ]
    },
    {
     "name": "stdout",
     "output_type": "stream",
     "text": [
      "              precision    recall  f1-score   support\n",
      "\n",
      "           0       0.95      0.34      0.50      7421\n",
      "           1       0.08      0.75      0.15       579\n",
      "\n",
      "    accuracy                           0.37      8000\n",
      "   macro avg       0.51      0.55      0.32      8000\n",
      "weighted avg       0.88      0.37      0.48      8000\n",
      "\n"
     ]
    },
    {
     "name": "stderr",
     "output_type": "stream",
     "text": [
      "[W 2024-09-26 09:42:39,324] Trial 3 failed with parameters: {'svm_alpha': 0.00022854533381618002, 'svm_max_iter': 432} because of the following error: The value None could not be cast to float..\n",
      "[W 2024-09-26 09:42:39,325] Trial 3 failed with value None.\n"
     ]
    },
    {
     "name": "stdout",
     "output_type": "stream",
     "text": [
      "              precision    recall  f1-score   support\n",
      "\n",
      "           0       0.93      0.88      0.90      7421\n",
      "           1       0.06      0.09      0.07       579\n",
      "\n",
      "    accuracy                           0.82      8000\n",
      "   macro avg       0.49      0.49      0.49      8000\n",
      "weighted avg       0.86      0.82      0.84      8000\n",
      "\n"
     ]
    },
    {
     "name": "stderr",
     "output_type": "stream",
     "text": [
      "[W 2024-09-26 09:43:56,034] Trial 4 failed with parameters: {'svm_alpha': 0.004591268532654977, 'svm_max_iter': 540} because of the following error: The value None could not be cast to float..\n",
      "[W 2024-09-26 09:43:56,036] Trial 4 failed with value None.\n"
     ]
    },
    {
     "name": "stdout",
     "output_type": "stream",
     "text": [
      "              precision    recall  f1-score   support\n",
      "\n",
      "           0       0.95      0.14      0.24      7421\n",
      "           1       0.08      0.90      0.14       579\n",
      "\n",
      "    accuracy                           0.19      8000\n",
      "   macro avg       0.51      0.52      0.19      8000\n",
      "weighted avg       0.88      0.19      0.23      8000\n",
      "\n"
     ]
    },
    {
     "name": "stderr",
     "output_type": "stream",
     "text": [
      "[W 2024-09-26 09:45:36,068] Trial 5 failed with parameters: {'svm_alpha': 1.9470039992220274e-07, 'svm_max_iter': 996} because of the following error: The value None could not be cast to float..\n",
      "[W 2024-09-26 09:45:36,071] Trial 5 failed with value None.\n"
     ]
    },
    {
     "name": "stdout",
     "output_type": "stream",
     "text": [
      "              precision    recall  f1-score   support\n",
      "\n",
      "           0       0.94      0.21      0.34      7421\n",
      "           1       0.08      0.84      0.14       579\n",
      "\n",
      "    accuracy                           0.26      8000\n",
      "   macro avg       0.51      0.53      0.24      8000\n",
      "weighted avg       0.88      0.26      0.33      8000\n",
      "\n"
     ]
    },
    {
     "name": "stderr",
     "output_type": "stream",
     "text": [
      "[W 2024-09-26 09:47:06,103] Trial 6 failed with parameters: {'svm_alpha': 0.02262343675235611, 'svm_max_iter': 609} because of the following error: The value None could not be cast to float..\n",
      "[W 2024-09-26 09:47:06,109] Trial 6 failed with value None.\n"
     ]
    },
    {
     "name": "stdout",
     "output_type": "stream",
     "text": [
      "              precision    recall  f1-score   support\n",
      "\n",
      "           0       0.93      0.90      0.91      7421\n",
      "           1       0.08      0.12      0.10       579\n",
      "\n",
      "    accuracy                           0.84      8000\n",
      "   macro avg       0.51      0.51      0.51      8000\n",
      "weighted avg       0.87      0.84      0.85      8000\n",
      "\n"
     ]
    },
    {
     "name": "stderr",
     "output_type": "stream",
     "text": [
      "[W 2024-09-26 09:48:33,450] Trial 7 failed with parameters: {'svm_alpha': 0.0014492163326721703, 'svm_max_iter': 791} because of the following error: The value None could not be cast to float..\n",
      "[W 2024-09-26 09:48:33,452] Trial 7 failed with value None.\n"
     ]
    },
    {
     "name": "stdout",
     "output_type": "stream",
     "text": [
      "              precision    recall  f1-score   support\n",
      "\n",
      "           0       0.95      0.26      0.41      7421\n",
      "           1       0.08      0.81      0.14       579\n",
      "\n",
      "    accuracy                           0.30      8000\n",
      "   macro avg       0.51      0.54      0.28      8000\n",
      "weighted avg       0.88      0.30      0.39      8000\n",
      "\n"
     ]
    },
    {
     "name": "stderr",
     "output_type": "stream",
     "text": [
      "[W 2024-09-26 09:49:50,601] Trial 8 failed with parameters: {'svm_alpha': 0.0001834080947901134, 'svm_max_iter': 423} because of the following error: The value None could not be cast to float..\n",
      "[W 2024-09-26 09:49:50,603] Trial 8 failed with value None.\n"
     ]
    },
    {
     "name": "stdout",
     "output_type": "stream",
     "text": [
      "              precision    recall  f1-score   support\n",
      "\n",
      "           0       0.93      0.86      0.89      7421\n",
      "           1       0.06      0.12      0.08       579\n",
      "\n",
      "    accuracy                           0.81      8000\n",
      "   macro avg       0.49      0.49      0.49      8000\n",
      "weighted avg       0.86      0.81      0.83      8000\n",
      "\n"
     ]
    },
    {
     "name": "stderr",
     "output_type": "stream",
     "text": [
      "[W 2024-09-26 09:51:10,285] Trial 9 failed with parameters: {'svm_alpha': 7.346627088353188e-05, 'svm_max_iter': 935} because of the following error: The value None could not be cast to float..\n",
      "[W 2024-09-26 09:51:10,287] Trial 9 failed with value None.\n"
     ]
    },
    {
     "name": "stdout",
     "output_type": "stream",
     "text": [
      "              precision    recall  f1-score   support\n",
      "\n",
      "           0       0.93      0.79      0.85      7421\n",
      "           1       0.07      0.22      0.11       579\n",
      "\n",
      "    accuracy                           0.75      8000\n",
      "   macro avg       0.50      0.50      0.48      8000\n",
      "weighted avg       0.87      0.75      0.80      8000\n",
      "\n"
     ]
    }
   ],
   "source": [
    "def objective(trial):\n",
    "    svm_alpha = trial.suggest_float('svm_alpha', 1e-07, 1, log=True)\n",
    "    svm_max_iter = trial.suggest_int('svm_max_iter', 200, 1000)\n",
    "    regressor_obj = SGDClassifier(alpha=svm_alpha, max_iter=svm_max_iter)\n",
    "    \n",
    "    dummy_df = pd.get_dummies(new_X)\n",
    "    \n",
    "    X_train, X_test, y_train, y_test = train_test_split(dummy_df, new_y, train_size=.80, random_state=seed)\n",
    "\n",
    "    X_train_resample, y_train_resample = smoteenn.fit_resample(X_train, y_train)\n",
    "\n",
    "    regressor_obj.fit(X_train_resample, y_train_resample)\n",
    "    preds = regressor_obj.predict(X_test)\n",
    "    print(classification_report(y_test, preds))\n",
    "\n",
    "study = optuna.create_study()\n",
    "study.optimize(objective, n_trials=10)"
   ]
  },
  {
   "cell_type": "code",
   "execution_count": 1631,
   "metadata": {},
   "outputs": [
    {
     "name": "stdout",
     "output_type": "stream",
     "text": [
      "              precision    recall  f1-score   support\n",
      "\n",
      "           0       0.95      0.29      0.44      7421\n",
      "           1       0.08      0.80      0.15       579\n",
      "\n",
      "    accuracy                           0.32      8000\n",
      "   macro avg       0.51      0.54      0.29      8000\n",
      "weighted avg       0.88      0.32      0.42      8000\n",
      "\n",
      "[[2136 5285]\n",
      " [ 118  461]]\n"
     ]
    }
   ],
   "source": [
    "sdg = SGDClassifier(alpha=0.004591268532654977, max_iter=540, random_state=seed)\n",
    "\n",
    "sdg.fit(X_train_resample, y_train_resample)\n",
    "preds = sdg.predict(X_test)\n",
    "\n",
    "print(classification_report(y_test, preds))\n",
    "print(confusion_matrix(y_test, preds))"
   ]
  },
  {
   "cell_type": "code",
   "execution_count": 1638,
   "metadata": {},
   "outputs": [
    {
     "name": "stdout",
     "output_type": "stream",
     "text": [
      "              precision    recall  f1-score   support\n",
      "\n",
      "           0       0.98      0.64      0.77      7379\n",
      "           1       0.17      0.88      0.28       621\n",
      "\n",
      "    accuracy                           0.66      8000\n",
      "   macro avg       0.58      0.76      0.53      8000\n",
      "weighted avg       0.92      0.66      0.74      8000\n",
      "\n"
     ]
    },
    {
     "data": {
      "image/png": "[encoded data removed]",
      "text/plain": [
       "<Figure size 800x550 with 2 Axes>"
      ]
     },
     "metadata": {},
     "output_type": "display_data"
    }
   ],
   "source": [
    "## using the trained, RandomizedSearch SGD model from above this now trains on the whole dataset to see how well it predicts customers who will subscribe\n",
    "\n",
    "X_train, X_test, y_train, y_test = train_test_split(pd.get_dummies(X), target_variable, train_size=.80, random_state=seed)\n",
    "X_train_resample, y_train_resample = smoteenn.fit_resample(X_train, y_train)\n",
    "\n",
    "tuned_sgd.fit(X_train_resample, y_train_resample)\n",
    "preds = tuned_sgd.predict(X_test)\n",
    "print(classification_report(y_test, preds))\n",
    "sns.heatmap(data=confusion_matrix(y_test, preds), fmt='.2f', annot=True)\n",
    "plt.title('SGDClassifier Confusion Matrix')\n",
    "plt.xlabel('Predicted')\n",
    "plt.ylabel('Actual')\n",
    "plt.show()"
   ]
  },
  {
   "attachments": {},
   "cell_type": "markdown",
   "metadata": {},
   "source": [
    "Using the trained SGD model on the whole dataset using SMOTEenn for the sampling technique we can see that a recall score of ~91% is achieved. Meaning that this model is classifying over 90% of the customers in the dataset as customers who will subscribe to the term deposit product."
   ]
  },
  {
   "attachments": {},
   "cell_type": "markdown",
   "metadata": {},
   "source": [
    "## Post-Campaign Modeling\n",
    "* The second section of this notebook looks to take the whole dataset and see how much call time can be reduced as well as looking at relevant features to see how that impacts the models performance.\n",
    "* Using Pycaret, we will see which models perform well with the entire dataset looking at the precision metric. The precision score will be best for seeing how well the model is at classifying customers who WILL subscribe to the term deposit product."
   ]
  },
  {
   "cell_type": "code",
   "execution_count": 1662,
   "metadata": {},
   "outputs": [
    {
     "data": {
      "text/html": [
       "<div>\n",
       "<style scoped>\n",
       "    .dataframe tbody tr th:only-of-type {\n",
       "        vertical-align: middle;\n",
       "    }\n",
       "\n",
       "    .dataframe tbody tr th {\n",
       "        vertical-align: top;\n",
       "    }\n",
       "\n",
       "    .dataframe thead th {\n",
       "        text-align: right;\n",
       "    }\n",
       "</style>\n",
       "<table border=\"1\" class=\"dataframe\">\n",
       "  <thead>\n",
       "    <tr style=\"text-align: right;\">\n",
       "      <th></th>\n",
       "      <th>age</th>\n",
       "      <th>job</th>\n",
       "      <th>marital</th>\n",
       "      <th>education</th>\n",
       "      <th>default</th>\n",
       "      <th>balance</th>\n",
       "      <th>housing</th>\n",
       "      <th>loan</th>\n",
       "      <th>contact</th>\n",
       "      <th>day</th>\n",
       "      <th>month</th>\n",
       "      <th>campaign</th>\n",
       "      <th>duration_in_minutes</th>\n",
       "    </tr>\n",
       "  </thead>\n",
       "  <tbody>\n",
       "    <tr>\n",
       "      <th>0</th>\n",
       "      <td>58</td>\n",
       "      <td>management</td>\n",
       "      <td>married</td>\n",
       "      <td>tertiary</td>\n",
       "      <td>0</td>\n",
       "      <td>2143</td>\n",
       "      <td>1</td>\n",
       "      <td>0</td>\n",
       "      <td>unknown</td>\n",
       "      <td>5</td>\n",
       "      <td>may</td>\n",
       "      <td>1</td>\n",
       "      <td>4.350000</td>\n",
       "    </tr>\n",
       "    <tr>\n",
       "      <th>1</th>\n",
       "      <td>44</td>\n",
       "      <td>technician</td>\n",
       "      <td>single</td>\n",
       "      <td>secondary</td>\n",
       "      <td>0</td>\n",
       "      <td>29</td>\n",
       "      <td>1</td>\n",
       "      <td>0</td>\n",
       "      <td>unknown</td>\n",
       "      <td>5</td>\n",
       "      <td>may</td>\n",
       "      <td>1</td>\n",
       "      <td>2.516667</td>\n",
       "    </tr>\n",
       "    <tr>\n",
       "      <th>2</th>\n",
       "      <td>33</td>\n",
       "      <td>entrepreneur</td>\n",
       "      <td>married</td>\n",
       "      <td>secondary</td>\n",
       "      <td>0</td>\n",
       "      <td>2</td>\n",
       "      <td>1</td>\n",
       "      <td>1</td>\n",
       "      <td>unknown</td>\n",
       "      <td>5</td>\n",
       "      <td>may</td>\n",
       "      <td>1</td>\n",
       "      <td>1.266667</td>\n",
       "    </tr>\n",
       "    <tr>\n",
       "      <th>3</th>\n",
       "      <td>47</td>\n",
       "      <td>blue-collar</td>\n",
       "      <td>married</td>\n",
       "      <td>unknown</td>\n",
       "      <td>0</td>\n",
       "      <td>1506</td>\n",
       "      <td>1</td>\n",
       "      <td>0</td>\n",
       "      <td>unknown</td>\n",
       "      <td>5</td>\n",
       "      <td>may</td>\n",
       "      <td>1</td>\n",
       "      <td>1.533333</td>\n",
       "    </tr>\n",
       "    <tr>\n",
       "      <th>4</th>\n",
       "      <td>33</td>\n",
       "      <td>unknown</td>\n",
       "      <td>single</td>\n",
       "      <td>unknown</td>\n",
       "      <td>0</td>\n",
       "      <td>1</td>\n",
       "      <td>0</td>\n",
       "      <td>0</td>\n",
       "      <td>unknown</td>\n",
       "      <td>5</td>\n",
       "      <td>may</td>\n",
       "      <td>1</td>\n",
       "      <td>3.300000</td>\n",
       "    </tr>\n",
       "  </tbody>\n",
       "</table>\n",
       "</div>"
      ],
      "text/plain": [
       "   age           job  marital  education  default  balance  housing  loan  \\\n",
       "0   58    management  married   tertiary        0     2143        1     0   \n",
       "1   44    technician   single  secondary        0       29        1     0   \n",
       "2   33  entrepreneur  married  secondary        0        2        1     1   \n",
       "3   47   blue-collar  married    unknown        0     1506        1     0   \n",
       "4   33       unknown   single    unknown        0        1        0     0   \n",
       "\n",
       "   contact  day month  campaign  duration_in_minutes  \n",
       "0  unknown    5   may         1             4.350000  \n",
       "1  unknown    5   may         1             2.516667  \n",
       "2  unknown    5   may         1             1.266667  \n",
       "3  unknown    5   may         1             1.533333  \n",
       "4  unknown    5   may         1             3.300000  "
      ]
     },
     "execution_count": 1662,
     "metadata": {},
     "output_type": "execute_result"
    }
   ],
   "source": [
    "X.head()"
   ]
  },
  {
   "cell_type": "code",
   "execution_count": 1667,
   "metadata": {},
   "outputs": [
    {
     "data": {
      "text/plain": [
       "['job', 'marital', 'education', 'contact', 'month']"
      ]
     },
     "execution_count": 1667,
     "metadata": {},
     "output_type": "execute_result"
    }
   ],
   "source": [
    "full_dataset_categorical_features = [col for col in X.columns if X[col].dtype == 'category']\n",
    "full_dataset_categorical_features"
   ]
  },
  {
   "cell_type": "code",
   "execution_count": 1677,
   "metadata": {},
   "outputs": [
    {
     "name": "stdout",
     "output_type": "stream",
     "text": [
      "Type of imbalance technique: randomoversampler\n"
     ]
    },
    {
     "data": {
      "text/html": [
       "<style type=\"text/css\">\n",
       "#T_7b843_row9_col1, #T_7b843_row15_col1 {\n",
       "  background-color: lightgreen;\n",
       "}\n",
       "</style>\n",
       "<table id=\"T_7b843\">\n",
       "  <thead>\n",
       "    <tr>\n",
       "      <th class=\"blank level0\" >&nbsp;</th>\n",
       "      <th id=\"T_7b843_level0_col0\" class=\"col_heading level0 col0\" >Description</th>\n",
       "      <th id=\"T_7b843_level0_col1\" class=\"col_heading level0 col1\" >Value</th>\n",
       "    </tr>\n",
       "  </thead>\n",
       "  <tbody>\n",
       "    <tr>\n",
       "      <th id=\"T_7b843_level0_row0\" class=\"row_heading level0 row0\" >0</th>\n",
       "      <td id=\"T_7b843_row0_col0\" class=\"data row0 col0\" >Session id</td>\n",
       "      <td id=\"T_7b843_row0_col1\" class=\"data row0 col1\" >3121</td>\n",
       "    </tr>\n",
       "    <tr>\n",
       "      <th id=\"T_7b843_level0_row1\" class=\"row_heading level0 row1\" >1</th>\n",
       "      <td id=\"T_7b843_row1_col0\" class=\"data row1 col0\" >Target</td>\n",
       "      <td id=\"T_7b843_row1_col1\" class=\"data row1 col1\" >y</td>\n",
       "    </tr>\n",
       "    <tr>\n",
       "      <th id=\"T_7b843_level0_row2\" class=\"row_heading level0 row2\" >2</th>\n",
       "      <td id=\"T_7b843_row2_col0\" class=\"data row2 col0\" >Target type</td>\n",
       "      <td id=\"T_7b843_row2_col1\" class=\"data row2 col1\" >Binary</td>\n",
       "    </tr>\n",
       "    <tr>\n",
       "      <th id=\"T_7b843_level0_row3\" class=\"row_heading level0 row3\" >3</th>\n",
       "      <td id=\"T_7b843_row3_col0\" class=\"data row3 col0\" >Original data shape</td>\n",
       "      <td id=\"T_7b843_row3_col1\" class=\"data row3 col1\" >(40000, 14)</td>\n",
       "    </tr>\n",
       "    <tr>\n",
       "      <th id=\"T_7b843_level0_row4\" class=\"row_heading level0 row4\" >4</th>\n",
       "      <td id=\"T_7b843_row4_col0\" class=\"data row4 col0\" >Transformed data shape</td>\n",
       "      <td id=\"T_7b843_row4_col1\" class=\"data row4 col1\" >(67366, 42)</td>\n",
       "    </tr>\n",
       "    <tr>\n",
       "      <th id=\"T_7b843_level0_row5\" class=\"row_heading level0 row5\" >5</th>\n",
       "      <td id=\"T_7b843_row5_col0\" class=\"data row5 col0\" >Transformed train set shape</td>\n",
       "      <td id=\"T_7b843_row5_col1\" class=\"data row5 col1\" >(59366, 42)</td>\n",
       "    </tr>\n",
       "    <tr>\n",
       "      <th id=\"T_7b843_level0_row6\" class=\"row_heading level0 row6\" >6</th>\n",
       "      <td id=\"T_7b843_row6_col0\" class=\"data row6 col0\" >Transformed test set shape</td>\n",
       "      <td id=\"T_7b843_row6_col1\" class=\"data row6 col1\" >(8000, 42)</td>\n",
       "    </tr>\n",
       "    <tr>\n",
       "      <th id=\"T_7b843_level0_row7\" class=\"row_heading level0 row7\" >7</th>\n",
       "      <td id=\"T_7b843_row7_col0\" class=\"data row7 col0\" >Numeric features</td>\n",
       "      <td id=\"T_7b843_row7_col1\" class=\"data row7 col1\" >8</td>\n",
       "    </tr>\n",
       "    <tr>\n",
       "      <th id=\"T_7b843_level0_row8\" class=\"row_heading level0 row8\" >8</th>\n",
       "      <td id=\"T_7b843_row8_col0\" class=\"data row8 col0\" >Categorical features</td>\n",
       "      <td id=\"T_7b843_row8_col1\" class=\"data row8 col1\" >5</td>\n",
       "    </tr>\n",
       "    <tr>\n",
       "      <th id=\"T_7b843_level0_row9\" class=\"row_heading level0 row9\" >9</th>\n",
       "      <td id=\"T_7b843_row9_col0\" class=\"data row9 col0\" >Preprocess</td>\n",
       "      <td id=\"T_7b843_row9_col1\" class=\"data row9 col1\" >True</td>\n",
       "    </tr>\n",
       "    <tr>\n",
       "      <th id=\"T_7b843_level0_row10\" class=\"row_heading level0 row10\" >10</th>\n",
       "      <td id=\"T_7b843_row10_col0\" class=\"data row10 col0\" >Imputation type</td>\n",
       "      <td id=\"T_7b843_row10_col1\" class=\"data row10 col1\" >simple</td>\n",
       "    </tr>\n",
       "    <tr>\n",
       "      <th id=\"T_7b843_level0_row11\" class=\"row_heading level0 row11\" >11</th>\n",
       "      <td id=\"T_7b843_row11_col0\" class=\"data row11 col0\" >Numeric imputation</td>\n",
       "      <td id=\"T_7b843_row11_col1\" class=\"data row11 col1\" >mean</td>\n",
       "    </tr>\n",
       "    <tr>\n",
       "      <th id=\"T_7b843_level0_row12\" class=\"row_heading level0 row12\" >12</th>\n",
       "      <td id=\"T_7b843_row12_col0\" class=\"data row12 col0\" >Categorical imputation</td>\n",
       "      <td id=\"T_7b843_row12_col1\" class=\"data row12 col1\" >mode</td>\n",
       "    </tr>\n",
       "    <tr>\n",
       "      <th id=\"T_7b843_level0_row13\" class=\"row_heading level0 row13\" >13</th>\n",
       "      <td id=\"T_7b843_row13_col0\" class=\"data row13 col0\" >Maximum one-hot encoding</td>\n",
       "      <td id=\"T_7b843_row13_col1\" class=\"data row13 col1\" >25</td>\n",
       "    </tr>\n",
       "    <tr>\n",
       "      <th id=\"T_7b843_level0_row14\" class=\"row_heading level0 row14\" >14</th>\n",
       "      <td id=\"T_7b843_row14_col0\" class=\"data row14 col0\" >Encoding method</td>\n",
       "      <td id=\"T_7b843_row14_col1\" class=\"data row14 col1\" >None</td>\n",
       "    </tr>\n",
       "    <tr>\n",
       "      <th id=\"T_7b843_level0_row15\" class=\"row_heading level0 row15\" >15</th>\n",
       "      <td id=\"T_7b843_row15_col0\" class=\"data row15 col0\" >Fix imbalance</td>\n",
       "      <td id=\"T_7b843_row15_col1\" class=\"data row15 col1\" >True</td>\n",
       "    </tr>\n",
       "    <tr>\n",
       "      <th id=\"T_7b843_level0_row16\" class=\"row_heading level0 row16\" >16</th>\n",
       "      <td id=\"T_7b843_row16_col0\" class=\"data row16 col0\" >Fix imbalance method</td>\n",
       "      <td id=\"T_7b843_row16_col1\" class=\"data row16 col1\" >randomoversampler</td>\n",
       "    </tr>\n",
       "    <tr>\n",
       "      <th id=\"T_7b843_level0_row17\" class=\"row_heading level0 row17\" >17</th>\n",
       "      <td id=\"T_7b843_row17_col0\" class=\"data row17 col0\" >Fold Generator</td>\n",
       "      <td id=\"T_7b843_row17_col1\" class=\"data row17 col1\" >StratifiedKFold</td>\n",
       "    </tr>\n",
       "    <tr>\n",
       "      <th id=\"T_7b843_level0_row18\" class=\"row_heading level0 row18\" >18</th>\n",
       "      <td id=\"T_7b843_row18_col0\" class=\"data row18 col0\" >Fold Number</td>\n",
       "      <td id=\"T_7b843_row18_col1\" class=\"data row18 col1\" >10</td>\n",
       "    </tr>\n",
       "    <tr>\n",
       "      <th id=\"T_7b843_level0_row19\" class=\"row_heading level0 row19\" >19</th>\n",
       "      <td id=\"T_7b843_row19_col0\" class=\"data row19 col0\" >CPU Jobs</td>\n",
       "      <td id=\"T_7b843_row19_col1\" class=\"data row19 col1\" >-1</td>\n",
       "    </tr>\n",
       "    <tr>\n",
       "      <th id=\"T_7b843_level0_row20\" class=\"row_heading level0 row20\" >20</th>\n",
       "      <td id=\"T_7b843_row20_col0\" class=\"data row20 col0\" >Use GPU</td>\n",
       "      <td id=\"T_7b843_row20_col1\" class=\"data row20 col1\" >False</td>\n",
       "    </tr>\n",
       "    <tr>\n",
       "      <th id=\"T_7b843_level0_row21\" class=\"row_heading level0 row21\" >21</th>\n",
       "      <td id=\"T_7b843_row21_col0\" class=\"data row21 col0\" >Log Experiment</td>\n",
       "      <td id=\"T_7b843_row21_col1\" class=\"data row21 col1\" >False</td>\n",
       "    </tr>\n",
       "    <tr>\n",
       "      <th id=\"T_7b843_level0_row22\" class=\"row_heading level0 row22\" >22</th>\n",
       "      <td id=\"T_7b843_row22_col0\" class=\"data row22 col0\" >Experiment Name</td>\n",
       "      <td id=\"T_7b843_row22_col1\" class=\"data row22 col1\" >clf-default-name</td>\n",
       "    </tr>\n",
       "    <tr>\n",
       "      <th id=\"T_7b843_level0_row23\" class=\"row_heading level0 row23\" >23</th>\n",
       "      <td id=\"T_7b843_row23_col0\" class=\"data row23 col0\" >USI</td>\n",
       "      <td id=\"T_7b843_row23_col1\" class=\"data row23 col1\" >f363</td>\n",
       "    </tr>\n",
       "  </tbody>\n",
       "</table>\n"
      ],
      "text/plain": [
       "<pandas.io.formats.style.Styler at 0x38b737be0>"
      ]
     },
     "metadata": {},
     "output_type": "display_data"
    },
    {
     "name": "stdout",
     "output_type": "stream",
     "text": [
      "\n"
     ]
    },
    {
     "data": {
      "text/html": [],
      "text/plain": [
       "<IPython.core.display.HTML object>"
      ]
     },
     "metadata": {},
     "output_type": "display_data"
    },
    {
     "data": {
      "text/html": [
       "<style type=\"text/css\">\n",
       "#T_45f8e th {\n",
       "  text-align: left;\n",
       "}\n",
       "#T_45f8e_row0_col0, #T_45f8e_row0_col1, #T_45f8e_row0_col2, #T_45f8e_row0_col3, #T_45f8e_row0_col5, #T_45f8e_row0_col6, #T_45f8e_row0_col7, #T_45f8e_row1_col0, #T_45f8e_row1_col2, #T_45f8e_row1_col3, #T_45f8e_row1_col4, #T_45f8e_row1_col5, #T_45f8e_row1_col6, #T_45f8e_row1_col7, #T_45f8e_row2_col0, #T_45f8e_row2_col1, #T_45f8e_row2_col2, #T_45f8e_row2_col3, #T_45f8e_row2_col4, #T_45f8e_row2_col5, #T_45f8e_row2_col6, #T_45f8e_row2_col7, #T_45f8e_row3_col0, #T_45f8e_row3_col1, #T_45f8e_row3_col2, #T_45f8e_row3_col3, #T_45f8e_row3_col4, #T_45f8e_row3_col7, #T_45f8e_row4_col0, #T_45f8e_row4_col1, #T_45f8e_row4_col3, #T_45f8e_row4_col4, #T_45f8e_row4_col5, #T_45f8e_row4_col6, #T_45f8e_row5_col0, #T_45f8e_row5_col1, #T_45f8e_row5_col2, #T_45f8e_row5_col3, #T_45f8e_row5_col4, #T_45f8e_row5_col5, #T_45f8e_row5_col6, #T_45f8e_row5_col7, #T_45f8e_row6_col0, #T_45f8e_row6_col1, #T_45f8e_row6_col2, #T_45f8e_row6_col3, #T_45f8e_row6_col4, #T_45f8e_row6_col5, #T_45f8e_row6_col6, #T_45f8e_row6_col7, #T_45f8e_row7_col0, #T_45f8e_row7_col1, #T_45f8e_row7_col2, #T_45f8e_row7_col3, #T_45f8e_row7_col4, #T_45f8e_row7_col5, #T_45f8e_row7_col6, #T_45f8e_row7_col7, #T_45f8e_row8_col0, #T_45f8e_row8_col1, #T_45f8e_row8_col2, #T_45f8e_row8_col3, #T_45f8e_row8_col4, #T_45f8e_row8_col5, #T_45f8e_row8_col6, #T_45f8e_row8_col7, #T_45f8e_row9_col0, #T_45f8e_row9_col1, #T_45f8e_row9_col2, #T_45f8e_row9_col3, #T_45f8e_row9_col4, #T_45f8e_row9_col5, #T_45f8e_row9_col6, #T_45f8e_row9_col7, #T_45f8e_row10_col0, #T_45f8e_row10_col1, #T_45f8e_row10_col2, #T_45f8e_row10_col3, #T_45f8e_row10_col4, #T_45f8e_row10_col5, #T_45f8e_row10_col6, #T_45f8e_row10_col7, #T_45f8e_row11_col0, #T_45f8e_row11_col1, #T_45f8e_row11_col2, #T_45f8e_row11_col3, #T_45f8e_row11_col4, #T_45f8e_row11_col5, #T_45f8e_row11_col6, #T_45f8e_row11_col7, #T_45f8e_row12_col0, #T_45f8e_row12_col1, #T_45f8e_row12_col2, #T_45f8e_row12_col3, #T_45f8e_row12_col4, #T_45f8e_row12_col5, #T_45f8e_row12_col6, #T_45f8e_row12_col7, #T_45f8e_row13_col0, #T_45f8e_row13_col1, #T_45f8e_row13_col2, #T_45f8e_row13_col4, #T_45f8e_row13_col5, #T_45f8e_row13_col6, #T_45f8e_row13_col7, #T_45f8e_row14_col0, #T_45f8e_row14_col1, #T_45f8e_row14_col2, #T_45f8e_row14_col3, #T_45f8e_row14_col4, #T_45f8e_row14_col5, #T_45f8e_row14_col6, #T_45f8e_row14_col7 {\n",
       "  text-align: left;\n",
       "}\n",
       "#T_45f8e_row0_col4, #T_45f8e_row1_col1, #T_45f8e_row3_col5, #T_45f8e_row3_col6, #T_45f8e_row4_col2, #T_45f8e_row4_col7, #T_45f8e_row13_col3 {\n",
       "  text-align: left;\n",
       "  background-color: yellow;\n",
       "}\n",
       "#T_45f8e_row0_col8, #T_45f8e_row1_col8, #T_45f8e_row2_col8, #T_45f8e_row3_col8, #T_45f8e_row4_col8, #T_45f8e_row5_col8, #T_45f8e_row6_col8, #T_45f8e_row7_col8, #T_45f8e_row8_col8, #T_45f8e_row9_col8, #T_45f8e_row10_col8, #T_45f8e_row11_col8, #T_45f8e_row12_col8, #T_45f8e_row13_col8 {\n",
       "  text-align: left;\n",
       "  background-color: lightgrey;\n",
       "}\n",
       "#T_45f8e_row14_col8 {\n",
       "  text-align: left;\n",
       "  background-color: yellow;\n",
       "  background-color: lightgrey;\n",
       "}\n",
       "</style>\n",
       "<table id=\"T_45f8e\">\n",
       "  <thead>\n",
       "    <tr>\n",
       "      <th class=\"blank level0\" >&nbsp;</th>\n",
       "      <th id=\"T_45f8e_level0_col0\" class=\"col_heading level0 col0\" >Model</th>\n",
       "      <th id=\"T_45f8e_level0_col1\" class=\"col_heading level0 col1\" >Accuracy</th>\n",
       "      <th id=\"T_45f8e_level0_col2\" class=\"col_heading level0 col2\" >AUC</th>\n",
       "      <th id=\"T_45f8e_level0_col3\" class=\"col_heading level0 col3\" >Recall</th>\n",
       "      <th id=\"T_45f8e_level0_col4\" class=\"col_heading level0 col4\" >Prec.</th>\n",
       "      <th id=\"T_45f8e_level0_col5\" class=\"col_heading level0 col5\" >F1</th>\n",
       "      <th id=\"T_45f8e_level0_col6\" class=\"col_heading level0 col6\" >Kappa</th>\n",
       "      <th id=\"T_45f8e_level0_col7\" class=\"col_heading level0 col7\" >MCC</th>\n",
       "      <th id=\"T_45f8e_level0_col8\" class=\"col_heading level0 col8\" >TT (Sec)</th>\n",
       "    </tr>\n",
       "  </thead>\n",
       "  <tbody>\n",
       "    <tr>\n",
       "      <th id=\"T_45f8e_level0_row0\" class=\"row_heading level0 row0\" >et</th>\n",
       "      <td id=\"T_45f8e_row0_col0\" class=\"data row0 col0\" >Extra Trees Classifier</td>\n",
       "      <td id=\"T_45f8e_row0_col1\" class=\"data row0 col1\" >0.9317</td>\n",
       "      <td id=\"T_45f8e_row0_col2\" class=\"data row0 col2\" >0.9220</td>\n",
       "      <td id=\"T_45f8e_row0_col3\" class=\"data row0 col3\" >0.2214</td>\n",
       "      <td id=\"T_45f8e_row0_col4\" class=\"data row0 col4\" >0.5765</td>\n",
       "      <td id=\"T_45f8e_row0_col5\" class=\"data row0 col5\" >0.3188</td>\n",
       "      <td id=\"T_45f8e_row0_col6\" class=\"data row0 col6\" >0.2903</td>\n",
       "      <td id=\"T_45f8e_row0_col7\" class=\"data row0 col7\" >0.3281</td>\n",
       "      <td id=\"T_45f8e_row0_col8\" class=\"data row0 col8\" >1.7800</td>\n",
       "    </tr>\n",
       "    <tr>\n",
       "      <th id=\"T_45f8e_level0_row1\" class=\"row_heading level0 row1\" >rf</th>\n",
       "      <td id=\"T_45f8e_row1_col0\" class=\"data row1 col0\" >Random Forest Classifier</td>\n",
       "      <td id=\"T_45f8e_row1_col1\" class=\"data row1 col1\" >0.9343</td>\n",
       "      <td id=\"T_45f8e_row1_col2\" class=\"data row1 col2\" >0.9432</td>\n",
       "      <td id=\"T_45f8e_row1_col3\" class=\"data row1 col3\" >0.4199</td>\n",
       "      <td id=\"T_45f8e_row1_col4\" class=\"data row1 col4\" >0.5619</td>\n",
       "      <td id=\"T_45f8e_row1_col5\" class=\"data row1 col5\" >0.4802</td>\n",
       "      <td id=\"T_45f8e_row1_col6\" class=\"data row1 col6\" >0.4460</td>\n",
       "      <td id=\"T_45f8e_row1_col7\" class=\"data row1 col7\" >0.4516</td>\n",
       "      <td id=\"T_45f8e_row1_col8\" class=\"data row1 col8\" >1.7190</td>\n",
       "    </tr>\n",
       "    <tr>\n",
       "      <th id=\"T_45f8e_level0_row2\" class=\"row_heading level0 row2\" >dt</th>\n",
       "      <td id=\"T_45f8e_row2_col0\" class=\"data row2 col0\" >Decision Tree Classifier</td>\n",
       "      <td id=\"T_45f8e_row2_col1\" class=\"data row2 col1\" >0.9190</td>\n",
       "      <td id=\"T_45f8e_row2_col2\" class=\"data row2 col2\" >0.6919</td>\n",
       "      <td id=\"T_45f8e_row2_col3\" class=\"data row2 col3\" >0.4264</td>\n",
       "      <td id=\"T_45f8e_row2_col4\" class=\"data row2 col4\" >0.4397</td>\n",
       "      <td id=\"T_45f8e_row2_col5\" class=\"data row2 col5\" >0.4325</td>\n",
       "      <td id=\"T_45f8e_row2_col6\" class=\"data row2 col6\" >0.3889</td>\n",
       "      <td id=\"T_45f8e_row2_col7\" class=\"data row2 col7\" >0.3892</td>\n",
       "      <td id=\"T_45f8e_row2_col8\" class=\"data row2 col8\" >0.2760</td>\n",
       "    </tr>\n",
       "    <tr>\n",
       "      <th id=\"T_45f8e_level0_row3\" class=\"row_heading level0 row3\" >xgboost</th>\n",
       "      <td id=\"T_45f8e_row3_col0\" class=\"data row3 col0\" >Extreme Gradient Boosting</td>\n",
       "      <td id=\"T_45f8e_row3_col1\" class=\"data row3 col1\" >0.9085</td>\n",
       "      <td id=\"T_45f8e_row3_col2\" class=\"data row3 col2\" >0.9419</td>\n",
       "      <td id=\"T_45f8e_row3_col3\" class=\"data row3 col3\" >0.7708</td>\n",
       "      <td id=\"T_45f8e_row3_col4\" class=\"data row3 col4\" >0.4274</td>\n",
       "      <td id=\"T_45f8e_row3_col5\" class=\"data row3 col5\" >0.5496</td>\n",
       "      <td id=\"T_45f8e_row3_col6\" class=\"data row3 col6\" >0.5033</td>\n",
       "      <td id=\"T_45f8e_row3_col7\" class=\"data row3 col7\" >0.5307</td>\n",
       "      <td id=\"T_45f8e_row3_col8\" class=\"data row3 col8\" >0.4230</td>\n",
       "    </tr>\n",
       "    <tr>\n",
       "      <th id=\"T_45f8e_level0_row4\" class=\"row_heading level0 row4\" >lightgbm</th>\n",
       "      <td id=\"T_45f8e_row4_col0\" class=\"data row4 col0\" >Light Gradient Boosting Machine</td>\n",
       "      <td id=\"T_45f8e_row4_col1\" class=\"data row4 col1\" >0.8903</td>\n",
       "      <td id=\"T_45f8e_row4_col2\" class=\"data row4 col2\" >0.9499</td>\n",
       "      <td id=\"T_45f8e_row4_col3\" class=\"data row4 col3\" >0.8874</td>\n",
       "      <td id=\"T_45f8e_row4_col4\" class=\"data row4 col4\" >0.3880</td>\n",
       "      <td id=\"T_45f8e_row4_col5\" class=\"data row4 col5\" >0.5398</td>\n",
       "      <td id=\"T_45f8e_row4_col6\" class=\"data row4 col6\" >0.4882</td>\n",
       "      <td id=\"T_45f8e_row4_col7\" class=\"data row4 col7\" >0.5424</td>\n",
       "      <td id=\"T_45f8e_row4_col8\" class=\"data row4 col8\" >0.6910</td>\n",
       "    </tr>\n",
       "    <tr>\n",
       "      <th id=\"T_45f8e_level0_row5\" class=\"row_heading level0 row5\" >ridge</th>\n",
       "      <td id=\"T_45f8e_row5_col0\" class=\"data row5 col0\" >Ridge Classifier</td>\n",
       "      <td id=\"T_45f8e_row5_col1\" class=\"data row5 col1\" >0.8777</td>\n",
       "      <td id=\"T_45f8e_row5_col2\" class=\"data row5 col2\" >0.9262</td>\n",
       "      <td id=\"T_45f8e_row5_col3\" class=\"data row5 col3\" >0.8278</td>\n",
       "      <td id=\"T_45f8e_row5_col4\" class=\"data row5 col4\" >0.3534</td>\n",
       "      <td id=\"T_45f8e_row5_col5\" class=\"data row5 col5\" >0.4952</td>\n",
       "      <td id=\"T_45f8e_row5_col6\" class=\"data row5 col6\" >0.4382</td>\n",
       "      <td id=\"T_45f8e_row5_col7\" class=\"data row5 col7\" >0.4899</td>\n",
       "      <td id=\"T_45f8e_row5_col8\" class=\"data row5 col8\" >0.1690</td>\n",
       "    </tr>\n",
       "    <tr>\n",
       "      <th id=\"T_45f8e_level0_row6\" class=\"row_heading level0 row6\" >lda</th>\n",
       "      <td id=\"T_45f8e_row6_col0\" class=\"data row6 col0\" >Linear Discriminant Analysis</td>\n",
       "      <td id=\"T_45f8e_row6_col1\" class=\"data row6 col1\" >0.8777</td>\n",
       "      <td id=\"T_45f8e_row6_col2\" class=\"data row6 col2\" >0.9262</td>\n",
       "      <td id=\"T_45f8e_row6_col3\" class=\"data row6 col3\" >0.8274</td>\n",
       "      <td id=\"T_45f8e_row6_col4\" class=\"data row6 col4\" >0.3533</td>\n",
       "      <td id=\"T_45f8e_row6_col5\" class=\"data row6 col5\" >0.4950</td>\n",
       "      <td id=\"T_45f8e_row6_col6\" class=\"data row6 col6\" >0.4380</td>\n",
       "      <td id=\"T_45f8e_row6_col7\" class=\"data row6 col7\" >0.4897</td>\n",
       "      <td id=\"T_45f8e_row6_col8\" class=\"data row6 col8\" >0.2580</td>\n",
       "    </tr>\n",
       "    <tr>\n",
       "      <th id=\"T_45f8e_level0_row7\" class=\"row_heading level0 row7\" >gbc</th>\n",
       "      <td id=\"T_45f8e_row7_col0\" class=\"data row7 col0\" >Gradient Boosting Classifier</td>\n",
       "      <td id=\"T_45f8e_row7_col1\" class=\"data row7 col1\" >0.8724</td>\n",
       "      <td id=\"T_45f8e_row7_col2\" class=\"data row7 col2\" >0.9438</td>\n",
       "      <td id=\"T_45f8e_row7_col3\" class=\"data row7 col3\" >0.8917</td>\n",
       "      <td id=\"T_45f8e_row7_col4\" class=\"data row7 col4\" >0.3509</td>\n",
       "      <td id=\"T_45f8e_row7_col5\" class=\"data row7 col5\" >0.5034</td>\n",
       "      <td id=\"T_45f8e_row7_col6\" class=\"data row7 col6\" >0.4458</td>\n",
       "      <td id=\"T_45f8e_row7_col7\" class=\"data row7 col7\" >0.5101</td>\n",
       "      <td id=\"T_45f8e_row7_col8\" class=\"data row7 col8\" >2.8040</td>\n",
       "    </tr>\n",
       "    <tr>\n",
       "      <th id=\"T_45f8e_level0_row8\" class=\"row_heading level0 row8\" >ada</th>\n",
       "      <td id=\"T_45f8e_row8_col0\" class=\"data row8 col0\" >Ada Boost Classifier</td>\n",
       "      <td id=\"T_45f8e_row8_col1\" class=\"data row8 col1\" >0.8685</td>\n",
       "      <td id=\"T_45f8e_row8_col2\" class=\"data row8 col2\" >0.9295</td>\n",
       "      <td id=\"T_45f8e_row8_col3\" class=\"data row8 col3\" >0.8507</td>\n",
       "      <td id=\"T_45f8e_row8_col4\" class=\"data row8 col4\" >0.3385</td>\n",
       "      <td id=\"T_45f8e_row8_col5\" class=\"data row8 col5\" >0.4841</td>\n",
       "      <td id=\"T_45f8e_row8_col6\" class=\"data row8 col6\" >0.4245</td>\n",
       "      <td id=\"T_45f8e_row8_col7\" class=\"data row8 col7\" >0.4841</td>\n",
       "      <td id=\"T_45f8e_row8_col8\" class=\"data row8 col8\" >0.9080</td>\n",
       "    </tr>\n",
       "    <tr>\n",
       "      <th id=\"T_45f8e_level0_row9\" class=\"row_heading level0 row9\" >lr</th>\n",
       "      <td id=\"T_45f8e_row9_col0\" class=\"data row9 col0\" >Logistic Regression</td>\n",
       "      <td id=\"T_45f8e_row9_col1\" class=\"data row9 col1\" >0.8657</td>\n",
       "      <td id=\"T_45f8e_row9_col2\" class=\"data row9 col2\" >0.9297</td>\n",
       "      <td id=\"T_45f8e_row9_col3\" class=\"data row9 col3\" >0.8623</td>\n",
       "      <td id=\"T_45f8e_row9_col4\" class=\"data row9 col4\" >0.3347</td>\n",
       "      <td id=\"T_45f8e_row9_col5\" class=\"data row9 col5\" >0.4821</td>\n",
       "      <td id=\"T_45f8e_row9_col6\" class=\"data row9 col6\" >0.4217</td>\n",
       "      <td id=\"T_45f8e_row9_col7\" class=\"data row9 col7\" >0.4845</td>\n",
       "      <td id=\"T_45f8e_row9_col8\" class=\"data row9 col8\" >2.4710</td>\n",
       "    </tr>\n",
       "    <tr>\n",
       "      <th id=\"T_45f8e_level0_row10\" class=\"row_heading level0 row10\" >nb</th>\n",
       "      <td id=\"T_45f8e_row10_col0\" class=\"data row10 col0\" >Naive Bayes</td>\n",
       "      <td id=\"T_45f8e_row10_col1\" class=\"data row10 col1\" >0.8309</td>\n",
       "      <td id=\"T_45f8e_row10_col2\" class=\"data row10 col2\" >0.8419</td>\n",
       "      <td id=\"T_45f8e_row10_col3\" class=\"data row10 col3\" >0.6841</td>\n",
       "      <td id=\"T_45f8e_row10_col4\" class=\"data row10 col4\" >0.2533</td>\n",
       "      <td id=\"T_45f8e_row10_col5\" class=\"data row10 col5\" >0.3696</td>\n",
       "      <td id=\"T_45f8e_row10_col6\" class=\"data row10 col6\" >0.2951</td>\n",
       "      <td id=\"T_45f8e_row10_col7\" class=\"data row10 col7\" >0.3440</td>\n",
       "      <td id=\"T_45f8e_row10_col8\" class=\"data row10 col8\" >0.1300</td>\n",
       "    </tr>\n",
       "    <tr>\n",
       "      <th id=\"T_45f8e_level0_row11\" class=\"row_heading level0 row11\" >knn</th>\n",
       "      <td id=\"T_45f8e_row11_col0\" class=\"data row11 col0\" >K Neighbors Classifier</td>\n",
       "      <td id=\"T_45f8e_row11_col1\" class=\"data row11 col1\" >0.8560</td>\n",
       "      <td id=\"T_45f8e_row11_col2\" class=\"data row11 col2\" >0.6896</td>\n",
       "      <td id=\"T_45f8e_row11_col3\" class=\"data row11 col3\" >0.4255</td>\n",
       "      <td id=\"T_45f8e_row11_col4\" class=\"data row11 col4\" >0.2314</td>\n",
       "      <td id=\"T_45f8e_row11_col5\" class=\"data row11 col5\" >0.2996</td>\n",
       "      <td id=\"T_45f8e_row11_col6\" class=\"data row11 col6\" >0.2272</td>\n",
       "      <td id=\"T_45f8e_row11_col7\" class=\"data row11 col7\" >0.2404</td>\n",
       "      <td id=\"T_45f8e_row11_col8\" class=\"data row11 col8\" >0.8230</td>\n",
       "    </tr>\n",
       "    <tr>\n",
       "      <th id=\"T_45f8e_level0_row12\" class=\"row_heading level0 row12\" >svm</th>\n",
       "      <td id=\"T_45f8e_row12_col0\" class=\"data row12 col0\" >SVM - Linear Kernel</td>\n",
       "      <td id=\"T_45f8e_row12_col1\" class=\"data row12 col1\" >0.6698</td>\n",
       "      <td id=\"T_45f8e_row12_col2\" class=\"data row12 col2\" >0.6914</td>\n",
       "      <td id=\"T_45f8e_row12_col3\" class=\"data row12 col3\" >0.6521</td>\n",
       "      <td id=\"T_45f8e_row12_col4\" class=\"data row12 col4\" >0.1766</td>\n",
       "      <td id=\"T_45f8e_row12_col5\" class=\"data row12 col5\" >0.2496</td>\n",
       "      <td id=\"T_45f8e_row12_col6\" class=\"data row12 col6\" >0.1567</td>\n",
       "      <td id=\"T_45f8e_row12_col7\" class=\"data row12 col7\" >0.2118</td>\n",
       "      <td id=\"T_45f8e_row12_col8\" class=\"data row12 col8\" >0.4600</td>\n",
       "    </tr>\n",
       "    <tr>\n",
       "      <th id=\"T_45f8e_level0_row13\" class=\"row_heading level0 row13\" >qda</th>\n",
       "      <td id=\"T_45f8e_row13_col0\" class=\"data row13 col0\" >Quadratic Discriminant Analysis</td>\n",
       "      <td id=\"T_45f8e_row13_col1\" class=\"data row13 col1\" >0.1168</td>\n",
       "      <td id=\"T_45f8e_row13_col2\" class=\"data row13 col2\" >0.7878</td>\n",
       "      <td id=\"T_45f8e_row13_col3\" class=\"data row13 col3\" >0.9702</td>\n",
       "      <td id=\"T_45f8e_row13_col4\" class=\"data row13 col4\" >0.0739</td>\n",
       "      <td id=\"T_45f8e_row13_col5\" class=\"data row13 col5\" >0.1373</td>\n",
       "      <td id=\"T_45f8e_row13_col6\" class=\"data row13 col6\" >0.0033</td>\n",
       "      <td id=\"T_45f8e_row13_col7\" class=\"data row13 col7\" >0.0307</td>\n",
       "      <td id=\"T_45f8e_row13_col8\" class=\"data row13 col8\" >0.2710</td>\n",
       "    </tr>\n",
       "    <tr>\n",
       "      <th id=\"T_45f8e_level0_row14\" class=\"row_heading level0 row14\" >dummy</th>\n",
       "      <td id=\"T_45f8e_row14_col0\" class=\"data row14 col0\" >Dummy Classifier</td>\n",
       "      <td id=\"T_45f8e_row14_col1\" class=\"data row14 col1\" >0.9276</td>\n",
       "      <td id=\"T_45f8e_row14_col2\" class=\"data row14 col2\" >0.5000</td>\n",
       "      <td id=\"T_45f8e_row14_col3\" class=\"data row14 col3\" >0.0000</td>\n",
       "      <td id=\"T_45f8e_row14_col4\" class=\"data row14 col4\" >0.0000</td>\n",
       "      <td id=\"T_45f8e_row14_col5\" class=\"data row14 col5\" >0.0000</td>\n",
       "      <td id=\"T_45f8e_row14_col6\" class=\"data row14 col6\" >0.0000</td>\n",
       "      <td id=\"T_45f8e_row14_col7\" class=\"data row14 col7\" >0.0000</td>\n",
       "      <td id=\"T_45f8e_row14_col8\" class=\"data row14 col8\" >0.1220</td>\n",
       "    </tr>\n",
       "  </tbody>\n",
       "</table>\n"
      ],
      "text/plain": [
       "<pandas.io.formats.style.Styler at 0x37929c910>"
      ]
     },
     "metadata": {},
     "output_type": "display_data"
    },
    {
     "data": {
      "text/html": [],
      "text/plain": [
       "<IPython.core.display.HTML object>"
      ]
     },
     "metadata": {},
     "output_type": "display_data"
    },
    {
     "name": "stdout",
     "output_type": "stream",
     "text": [
      "{'randomoversampler': {'svm': 0.6028, 'lr': 0.5615, 'ridge': 0.5615, 'lda': 0.5615, 'nb': 0.5528}, 'smotetomek': {'nb': 0.6348, 'lr': 0.5649, 'ridge': 0.5623, 'lda': 0.5623, 'svm': 0.4927}, 'smoteenn': {'dummy': 1.0, 'ridge': 0.8334, 'lda': 0.8286, 'lr': 0.8278, 'nb': 0.6793}}\n",
      "--------------------------------------------------\n",
      "Type of imbalance technique: smotetomek\n"
     ]
    },
    {
     "data": {
      "text/html": [
       "<style type=\"text/css\">\n",
       "#T_dbb33_row9_col1, #T_dbb33_row15_col1 {\n",
       "  background-color: lightgreen;\n",
       "}\n",
       "</style>\n",
       "<table id=\"T_dbb33\">\n",
       "  <thead>\n",
       "    <tr>\n",
       "      <th class=\"blank level0\" >&nbsp;</th>\n",
       "      <th id=\"T_dbb33_level0_col0\" class=\"col_heading level0 col0\" >Description</th>\n",
       "      <th id=\"T_dbb33_level0_col1\" class=\"col_heading level0 col1\" >Value</th>\n",
       "    </tr>\n",
       "  </thead>\n",
       "  <tbody>\n",
       "    <tr>\n",
       "      <th id=\"T_dbb33_level0_row0\" class=\"row_heading level0 row0\" >0</th>\n",
       "      <td id=\"T_dbb33_row0_col0\" class=\"data row0 col0\" >Session id</td>\n",
       "      <td id=\"T_dbb33_row0_col1\" class=\"data row0 col1\" >3121</td>\n",
       "    </tr>\n",
       "    <tr>\n",
       "      <th id=\"T_dbb33_level0_row1\" class=\"row_heading level0 row1\" >1</th>\n",
       "      <td id=\"T_dbb33_row1_col0\" class=\"data row1 col0\" >Target</td>\n",
       "      <td id=\"T_dbb33_row1_col1\" class=\"data row1 col1\" >y</td>\n",
       "    </tr>\n",
       "    <tr>\n",
       "      <th id=\"T_dbb33_level0_row2\" class=\"row_heading level0 row2\" >2</th>\n",
       "      <td id=\"T_dbb33_row2_col0\" class=\"data row2 col0\" >Target type</td>\n",
       "      <td id=\"T_dbb33_row2_col1\" class=\"data row2 col1\" >Binary</td>\n",
       "    </tr>\n",
       "    <tr>\n",
       "      <th id=\"T_dbb33_level0_row3\" class=\"row_heading level0 row3\" >3</th>\n",
       "      <td id=\"T_dbb33_row3_col0\" class=\"data row3 col0\" >Original data shape</td>\n",
       "      <td id=\"T_dbb33_row3_col1\" class=\"data row3 col1\" >(40000, 14)</td>\n",
       "    </tr>\n",
       "    <tr>\n",
       "      <th id=\"T_dbb33_level0_row4\" class=\"row_heading level0 row4\" >4</th>\n",
       "      <td id=\"T_dbb33_row4_col0\" class=\"data row4 col0\" >Transformed data shape</td>\n",
       "      <td id=\"T_dbb33_row4_col1\" class=\"data row4 col1\" >(66800, 42)</td>\n",
       "    </tr>\n",
       "    <tr>\n",
       "      <th id=\"T_dbb33_level0_row5\" class=\"row_heading level0 row5\" >5</th>\n",
       "      <td id=\"T_dbb33_row5_col0\" class=\"data row5 col0\" >Transformed train set shape</td>\n",
       "      <td id=\"T_dbb33_row5_col1\" class=\"data row5 col1\" >(58800, 42)</td>\n",
       "    </tr>\n",
       "    <tr>\n",
       "      <th id=\"T_dbb33_level0_row6\" class=\"row_heading level0 row6\" >6</th>\n",
       "      <td id=\"T_dbb33_row6_col0\" class=\"data row6 col0\" >Transformed test set shape</td>\n",
       "      <td id=\"T_dbb33_row6_col1\" class=\"data row6 col1\" >(8000, 42)</td>\n",
       "    </tr>\n",
       "    <tr>\n",
       "      <th id=\"T_dbb33_level0_row7\" class=\"row_heading level0 row7\" >7</th>\n",
       "      <td id=\"T_dbb33_row7_col0\" class=\"data row7 col0\" >Numeric features</td>\n",
       "      <td id=\"T_dbb33_row7_col1\" class=\"data row7 col1\" >8</td>\n",
       "    </tr>\n",
       "    <tr>\n",
       "      <th id=\"T_dbb33_level0_row8\" class=\"row_heading level0 row8\" >8</th>\n",
       "      <td id=\"T_dbb33_row8_col0\" class=\"data row8 col0\" >Categorical features</td>\n",
       "      <td id=\"T_dbb33_row8_col1\" class=\"data row8 col1\" >5</td>\n",
       "    </tr>\n",
       "    <tr>\n",
       "      <th id=\"T_dbb33_level0_row9\" class=\"row_heading level0 row9\" >9</th>\n",
       "      <td id=\"T_dbb33_row9_col0\" class=\"data row9 col0\" >Preprocess</td>\n",
       "      <td id=\"T_dbb33_row9_col1\" class=\"data row9 col1\" >True</td>\n",
       "    </tr>\n",
       "    <tr>\n",
       "      <th id=\"T_dbb33_level0_row10\" class=\"row_heading level0 row10\" >10</th>\n",
       "      <td id=\"T_dbb33_row10_col0\" class=\"data row10 col0\" >Imputation type</td>\n",
       "      <td id=\"T_dbb33_row10_col1\" class=\"data row10 col1\" >simple</td>\n",
       "    </tr>\n",
       "    <tr>\n",
       "      <th id=\"T_dbb33_level0_row11\" class=\"row_heading level0 row11\" >11</th>\n",
       "      <td id=\"T_dbb33_row11_col0\" class=\"data row11 col0\" >Numeric imputation</td>\n",
       "      <td id=\"T_dbb33_row11_col1\" class=\"data row11 col1\" >mean</td>\n",
       "    </tr>\n",
       "    <tr>\n",
       "      <th id=\"T_dbb33_level0_row12\" class=\"row_heading level0 row12\" >12</th>\n",
       "      <td id=\"T_dbb33_row12_col0\" class=\"data row12 col0\" >Categorical imputation</td>\n",
       "      <td id=\"T_dbb33_row12_col1\" class=\"data row12 col1\" >mode</td>\n",
       "    </tr>\n",
       "    <tr>\n",
       "      <th id=\"T_dbb33_level0_row13\" class=\"row_heading level0 row13\" >13</th>\n",
       "      <td id=\"T_dbb33_row13_col0\" class=\"data row13 col0\" >Maximum one-hot encoding</td>\n",
       "      <td id=\"T_dbb33_row13_col1\" class=\"data row13 col1\" >25</td>\n",
       "    </tr>\n",
       "    <tr>\n",
       "      <th id=\"T_dbb33_level0_row14\" class=\"row_heading level0 row14\" >14</th>\n",
       "      <td id=\"T_dbb33_row14_col0\" class=\"data row14 col0\" >Encoding method</td>\n",
       "      <td id=\"T_dbb33_row14_col1\" class=\"data row14 col1\" >None</td>\n",
       "    </tr>\n",
       "    <tr>\n",
       "      <th id=\"T_dbb33_level0_row15\" class=\"row_heading level0 row15\" >15</th>\n",
       "      <td id=\"T_dbb33_row15_col0\" class=\"data row15 col0\" >Fix imbalance</td>\n",
       "      <td id=\"T_dbb33_row15_col1\" class=\"data row15 col1\" >True</td>\n",
       "    </tr>\n",
       "    <tr>\n",
       "      <th id=\"T_dbb33_level0_row16\" class=\"row_heading level0 row16\" >16</th>\n",
       "      <td id=\"T_dbb33_row16_col0\" class=\"data row16 col0\" >Fix imbalance method</td>\n",
       "      <td id=\"T_dbb33_row16_col1\" class=\"data row16 col1\" >smotetomek</td>\n",
       "    </tr>\n",
       "    <tr>\n",
       "      <th id=\"T_dbb33_level0_row17\" class=\"row_heading level0 row17\" >17</th>\n",
       "      <td id=\"T_dbb33_row17_col0\" class=\"data row17 col0\" >Fold Generator</td>\n",
       "      <td id=\"T_dbb33_row17_col1\" class=\"data row17 col1\" >StratifiedKFold</td>\n",
       "    </tr>\n",
       "    <tr>\n",
       "      <th id=\"T_dbb33_level0_row18\" class=\"row_heading level0 row18\" >18</th>\n",
       "      <td id=\"T_dbb33_row18_col0\" class=\"data row18 col0\" >Fold Number</td>\n",
       "      <td id=\"T_dbb33_row18_col1\" class=\"data row18 col1\" >10</td>\n",
       "    </tr>\n",
       "    <tr>\n",
       "      <th id=\"T_dbb33_level0_row19\" class=\"row_heading level0 row19\" >19</th>\n",
       "      <td id=\"T_dbb33_row19_col0\" class=\"data row19 col0\" >CPU Jobs</td>\n",
       "      <td id=\"T_dbb33_row19_col1\" class=\"data row19 col1\" >-1</td>\n",
       "    </tr>\n",
       "    <tr>\n",
       "      <th id=\"T_dbb33_level0_row20\" class=\"row_heading level0 row20\" >20</th>\n",
       "      <td id=\"T_dbb33_row20_col0\" class=\"data row20 col0\" >Use GPU</td>\n",
       "      <td id=\"T_dbb33_row20_col1\" class=\"data row20 col1\" >False</td>\n",
       "    </tr>\n",
       "    <tr>\n",
       "      <th id=\"T_dbb33_level0_row21\" class=\"row_heading level0 row21\" >21</th>\n",
       "      <td id=\"T_dbb33_row21_col0\" class=\"data row21 col0\" >Log Experiment</td>\n",
       "      <td id=\"T_dbb33_row21_col1\" class=\"data row21 col1\" >False</td>\n",
       "    </tr>\n",
       "    <tr>\n",
       "      <th id=\"T_dbb33_level0_row22\" class=\"row_heading level0 row22\" >22</th>\n",
       "      <td id=\"T_dbb33_row22_col0\" class=\"data row22 col0\" >Experiment Name</td>\n",
       "      <td id=\"T_dbb33_row22_col1\" class=\"data row22 col1\" >clf-default-name</td>\n",
       "    </tr>\n",
       "    <tr>\n",
       "      <th id=\"T_dbb33_level0_row23\" class=\"row_heading level0 row23\" >23</th>\n",
       "      <td id=\"T_dbb33_row23_col0\" class=\"data row23 col0\" >USI</td>\n",
       "      <td id=\"T_dbb33_row23_col1\" class=\"data row23 col1\" >28d2</td>\n",
       "    </tr>\n",
       "  </tbody>\n",
       "</table>\n"
      ],
      "text/plain": [
       "<pandas.io.formats.style.Styler at 0x323287e20>"
      ]
     },
     "metadata": {},
     "output_type": "display_data"
    },
    {
     "name": "stdout",
     "output_type": "stream",
     "text": [
      "\n"
     ]
    },
    {
     "data": {
      "text/html": [],
      "text/plain": [
       "<IPython.core.display.HTML object>"
      ]
     },
     "metadata": {},
     "output_type": "display_data"
    },
    {
     "data": {
      "text/html": [
       "<style type=\"text/css\">\n",
       "#T_e6da1 th {\n",
       "  text-align: left;\n",
       "}\n",
       "#T_e6da1_row0_col0, #T_e6da1_row0_col3, #T_e6da1_row1_col0, #T_e6da1_row1_col1, #T_e6da1_row1_col2, #T_e6da1_row1_col3, #T_e6da1_row1_col4, #T_e6da1_row1_col5, #T_e6da1_row1_col6, #T_e6da1_row1_col7, #T_e6da1_row2_col0, #T_e6da1_row2_col1, #T_e6da1_row2_col2, #T_e6da1_row2_col3, #T_e6da1_row2_col4, #T_e6da1_row2_col5, #T_e6da1_row2_col6, #T_e6da1_row2_col7, #T_e6da1_row3_col0, #T_e6da1_row3_col1, #T_e6da1_row3_col2, #T_e6da1_row3_col3, #T_e6da1_row3_col4, #T_e6da1_row3_col5, #T_e6da1_row3_col6, #T_e6da1_row3_col7, #T_e6da1_row4_col0, #T_e6da1_row4_col1, #T_e6da1_row4_col2, #T_e6da1_row4_col3, #T_e6da1_row4_col4, #T_e6da1_row4_col5, #T_e6da1_row4_col6, #T_e6da1_row4_col7, #T_e6da1_row5_col0, #T_e6da1_row5_col1, #T_e6da1_row5_col2, #T_e6da1_row5_col3, #T_e6da1_row5_col4, #T_e6da1_row5_col5, #T_e6da1_row5_col6, #T_e6da1_row5_col7, #T_e6da1_row6_col0, #T_e6da1_row6_col1, #T_e6da1_row6_col2, #T_e6da1_row6_col3, #T_e6da1_row6_col4, #T_e6da1_row6_col5, #T_e6da1_row6_col6, #T_e6da1_row6_col7, #T_e6da1_row7_col0, #T_e6da1_row7_col1, #T_e6da1_row7_col2, #T_e6da1_row7_col3, #T_e6da1_row7_col4, #T_e6da1_row7_col5, #T_e6da1_row7_col6, #T_e6da1_row7_col7, #T_e6da1_row8_col0, #T_e6da1_row8_col1, #T_e6da1_row8_col2, #T_e6da1_row8_col3, #T_e6da1_row8_col4, #T_e6da1_row8_col5, #T_e6da1_row8_col6, #T_e6da1_row8_col7, #T_e6da1_row9_col0, #T_e6da1_row9_col1, #T_e6da1_row9_col2, #T_e6da1_row9_col3, #T_e6da1_row9_col4, #T_e6da1_row9_col5, #T_e6da1_row9_col6, #T_e6da1_row9_col7, #T_e6da1_row10_col0, #T_e6da1_row10_col1, #T_e6da1_row10_col2, #T_e6da1_row10_col3, #T_e6da1_row10_col4, #T_e6da1_row10_col5, #T_e6da1_row10_col6, #T_e6da1_row10_col7, #T_e6da1_row11_col0, #T_e6da1_row11_col1, #T_e6da1_row11_col2, #T_e6da1_row11_col3, #T_e6da1_row11_col4, #T_e6da1_row11_col5, #T_e6da1_row11_col6, #T_e6da1_row11_col7, #T_e6da1_row12_col0, #T_e6da1_row12_col1, #T_e6da1_row12_col2, #T_e6da1_row12_col3, #T_e6da1_row12_col4, #T_e6da1_row12_col5, #T_e6da1_row12_col6, #T_e6da1_row12_col7, #T_e6da1_row13_col0, #T_e6da1_row13_col1, #T_e6da1_row13_col2, #T_e6da1_row13_col4, #T_e6da1_row13_col5, #T_e6da1_row13_col6, #T_e6da1_row13_col7, #T_e6da1_row14_col0, #T_e6da1_row14_col1, #T_e6da1_row14_col2, #T_e6da1_row14_col3, #T_e6da1_row14_col4, #T_e6da1_row14_col5, #T_e6da1_row14_col6, #T_e6da1_row14_col7 {\n",
       "  text-align: left;\n",
       "}\n",
       "#T_e6da1_row0_col1, #T_e6da1_row0_col2, #T_e6da1_row0_col4, #T_e6da1_row0_col5, #T_e6da1_row0_col6, #T_e6da1_row0_col7, #T_e6da1_row13_col3 {\n",
       "  text-align: left;\n",
       "  background-color: yellow;\n",
       "}\n",
       "#T_e6da1_row0_col8, #T_e6da1_row1_col8, #T_e6da1_row2_col8, #T_e6da1_row3_col8, #T_e6da1_row4_col8, #T_e6da1_row5_col8, #T_e6da1_row6_col8, #T_e6da1_row8_col8, #T_e6da1_row9_col8, #T_e6da1_row10_col8, #T_e6da1_row11_col8, #T_e6da1_row12_col8, #T_e6da1_row13_col8, #T_e6da1_row14_col8 {\n",
       "  text-align: left;\n",
       "  background-color: lightgrey;\n",
       "}\n",
       "#T_e6da1_row7_col8 {\n",
       "  text-align: left;\n",
       "  background-color: yellow;\n",
       "  background-color: lightgrey;\n",
       "}\n",
       "</style>\n",
       "<table id=\"T_e6da1\">\n",
       "  <thead>\n",
       "    <tr>\n",
       "      <th class=\"blank level0\" >&nbsp;</th>\n",
       "      <th id=\"T_e6da1_level0_col0\" class=\"col_heading level0 col0\" >Model</th>\n",
       "      <th id=\"T_e6da1_level0_col1\" class=\"col_heading level0 col1\" >Accuracy</th>\n",
       "      <th id=\"T_e6da1_level0_col2\" class=\"col_heading level0 col2\" >AUC</th>\n",
       "      <th id=\"T_e6da1_level0_col3\" class=\"col_heading level0 col3\" >Recall</th>\n",
       "      <th id=\"T_e6da1_level0_col4\" class=\"col_heading level0 col4\" >Prec.</th>\n",
       "      <th id=\"T_e6da1_level0_col5\" class=\"col_heading level0 col5\" >F1</th>\n",
       "      <th id=\"T_e6da1_level0_col6\" class=\"col_heading level0 col6\" >Kappa</th>\n",
       "      <th id=\"T_e6da1_level0_col7\" class=\"col_heading level0 col7\" >MCC</th>\n",
       "      <th id=\"T_e6da1_level0_col8\" class=\"col_heading level0 col8\" >TT (Sec)</th>\n",
       "    </tr>\n",
       "  </thead>\n",
       "  <tbody>\n",
       "    <tr>\n",
       "      <th id=\"T_e6da1_level0_row0\" class=\"row_heading level0 row0\" >lightgbm</th>\n",
       "      <td id=\"T_e6da1_row0_col0\" class=\"data row0 col0\" >Light Gradient Boosting Machine</td>\n",
       "      <td id=\"T_e6da1_row0_col1\" class=\"data row0 col1\" >0.9388</td>\n",
       "      <td id=\"T_e6da1_row0_col2\" class=\"data row0 col2\" >0.9513</td>\n",
       "      <td id=\"T_e6da1_row0_col3\" class=\"data row0 col3\" >0.4774</td>\n",
       "      <td id=\"T_e6da1_row0_col4\" class=\"data row0 col4\" >0.5977</td>\n",
       "      <td id=\"T_e6da1_row0_col5\" class=\"data row0 col5\" >0.5303</td>\n",
       "      <td id=\"T_e6da1_row0_col6\" class=\"data row0 col6\" >0.4980</td>\n",
       "      <td id=\"T_e6da1_row0_col7\" class=\"data row0 col7\" >0.5019</td>\n",
       "      <td id=\"T_e6da1_row0_col8\" class=\"data row0 col8\" >7.4030</td>\n",
       "    </tr>\n",
       "    <tr>\n",
       "      <th id=\"T_e6da1_level0_row1\" class=\"row_heading level0 row1\" >xgboost</th>\n",
       "      <td id=\"T_e6da1_row1_col0\" class=\"data row1 col0\" >Extreme Gradient Boosting</td>\n",
       "      <td id=\"T_e6da1_row1_col1\" class=\"data row1 col1\" >0.9367</td>\n",
       "      <td id=\"T_e6da1_row1_col2\" class=\"data row1 col2\" >0.9471</td>\n",
       "      <td id=\"T_e6da1_row1_col3\" class=\"data row1 col3\" >0.4670</td>\n",
       "      <td id=\"T_e6da1_row1_col4\" class=\"data row1 col4\" >0.5788</td>\n",
       "      <td id=\"T_e6da1_row1_col5\" class=\"data row1 col5\" >0.5164</td>\n",
       "      <td id=\"T_e6da1_row1_col6\" class=\"data row1 col6\" >0.4830</td>\n",
       "      <td id=\"T_e6da1_row1_col7\" class=\"data row1 col7\" >0.4865</td>\n",
       "      <td id=\"T_e6da1_row1_col8\" class=\"data row1 col8\" >7.3080</td>\n",
       "    </tr>\n",
       "    <tr>\n",
       "      <th id=\"T_e6da1_level0_row2\" class=\"row_heading level0 row2\" >rf</th>\n",
       "      <td id=\"T_e6da1_row2_col0\" class=\"data row2 col0\" >Random Forest Classifier</td>\n",
       "      <td id=\"T_e6da1_row2_col1\" class=\"data row2 col1\" >0.9330</td>\n",
       "      <td id=\"T_e6da1_row2_col2\" class=\"data row2 col2\" >0.9409</td>\n",
       "      <td id=\"T_e6da1_row2_col3\" class=\"data row2 col3\" >0.3250</td>\n",
       "      <td id=\"T_e6da1_row2_col4\" class=\"data row2 col4\" >0.5656</td>\n",
       "      <td id=\"T_e6da1_row2_col5\" class=\"data row2 col5\" >0.4123</td>\n",
       "      <td id=\"T_e6da1_row2_col6\" class=\"data row2 col6\" >0.3796</td>\n",
       "      <td id=\"T_e6da1_row2_col7\" class=\"data row2 col7\" >0.3963</td>\n",
       "      <td id=\"T_e6da1_row2_col8\" class=\"data row2 col8\" >8.8760</td>\n",
       "    </tr>\n",
       "    <tr>\n",
       "      <th id=\"T_e6da1_level0_row3\" class=\"row_heading level0 row3\" >et</th>\n",
       "      <td id=\"T_e6da1_row3_col0\" class=\"data row3 col0\" >Extra Trees Classifier</td>\n",
       "      <td id=\"T_e6da1_row3_col1\" class=\"data row3 col1\" >0.9318</td>\n",
       "      <td id=\"T_e6da1_row3_col2\" class=\"data row3 col2\" >0.9301</td>\n",
       "      <td id=\"T_e6da1_row3_col3\" class=\"data row3 col3\" >0.3129</td>\n",
       "      <td id=\"T_e6da1_row3_col4\" class=\"data row3 col4\" >0.5529</td>\n",
       "      <td id=\"T_e6da1_row3_col5\" class=\"data row3 col5\" >0.3989</td>\n",
       "      <td id=\"T_e6da1_row3_col6\" class=\"data row3 col6\" >0.3658</td>\n",
       "      <td id=\"T_e6da1_row3_col7\" class=\"data row3 col7\" >0.3829</td>\n",
       "      <td id=\"T_e6da1_row3_col8\" class=\"data row3 col8\" >8.5090</td>\n",
       "    </tr>\n",
       "    <tr>\n",
       "      <th id=\"T_e6da1_level0_row4\" class=\"row_heading level0 row4\" >gbc</th>\n",
       "      <td id=\"T_e6da1_row4_col0\" class=\"data row4 col0\" >Gradient Boosting Classifier</td>\n",
       "      <td id=\"T_e6da1_row4_col1\" class=\"data row4 col1\" >0.9323</td>\n",
       "      <td id=\"T_e6da1_row4_col2\" class=\"data row4 col2\" >0.9415</td>\n",
       "      <td id=\"T_e6da1_row4_col3\" class=\"data row4 col3\" >0.5106</td>\n",
       "      <td id=\"T_e6da1_row4_col4\" class=\"data row4 col4\" >0.5351</td>\n",
       "      <td id=\"T_e6da1_row4_col5\" class=\"data row4 col5\" >0.5219</td>\n",
       "      <td id=\"T_e6da1_row4_col6\" class=\"data row4 col6\" >0.4855</td>\n",
       "      <td id=\"T_e6da1_row4_col7\" class=\"data row4 col7\" >0.4860</td>\n",
       "      <td id=\"T_e6da1_row4_col8\" class=\"data row4 col8\" >13.2250</td>\n",
       "    </tr>\n",
       "    <tr>\n",
       "      <th id=\"T_e6da1_level0_row5\" class=\"row_heading level0 row5\" >ada</th>\n",
       "      <td id=\"T_e6da1_row5_col0\" class=\"data row5 col0\" >Ada Boost Classifier</td>\n",
       "      <td id=\"T_e6da1_row5_col1\" class=\"data row5 col1\" >0.9215</td>\n",
       "      <td id=\"T_e6da1_row5_col2\" class=\"data row5 col2\" >0.9207</td>\n",
       "      <td id=\"T_e6da1_row5_col3\" class=\"data row5 col3\" >0.4441</td>\n",
       "      <td id=\"T_e6da1_row5_col4\" class=\"data row5 col4\" >0.4580</td>\n",
       "      <td id=\"T_e6da1_row5_col5\" class=\"data row5 col5\" >0.4500</td>\n",
       "      <td id=\"T_e6da1_row5_col6\" class=\"data row5 col6\" >0.4078</td>\n",
       "      <td id=\"T_e6da1_row5_col7\" class=\"data row5 col7\" >0.4084</td>\n",
       "      <td id=\"T_e6da1_row5_col8\" class=\"data row5 col8\" >9.0920</td>\n",
       "    </tr>\n",
       "    <tr>\n",
       "      <th id=\"T_e6da1_level0_row6\" class=\"row_heading level0 row6\" >dt</th>\n",
       "      <td id=\"T_e6da1_row6_col0\" class=\"data row6 col0\" >Decision Tree Classifier</td>\n",
       "      <td id=\"T_e6da1_row6_col1\" class=\"data row6 col1\" >0.9159</td>\n",
       "      <td id=\"T_e6da1_row6_col2\" class=\"data row6 col2\" >0.7098</td>\n",
       "      <td id=\"T_e6da1_row6_col3\" class=\"data row6 col3\" >0.4687</td>\n",
       "      <td id=\"T_e6da1_row6_col4\" class=\"data row6 col4\" >0.4265</td>\n",
       "      <td id=\"T_e6da1_row6_col5\" class=\"data row6 col5\" >0.4463</td>\n",
       "      <td id=\"T_e6da1_row6_col6\" class=\"data row6 col6\" >0.4010</td>\n",
       "      <td id=\"T_e6da1_row6_col7\" class=\"data row6 col7\" >0.4017</td>\n",
       "      <td id=\"T_e6da1_row6_col8\" class=\"data row6 col8\" >7.0290</td>\n",
       "    </tr>\n",
       "    <tr>\n",
       "      <th id=\"T_e6da1_level0_row7\" class=\"row_heading level0 row7\" >ridge</th>\n",
       "      <td id=\"T_e6da1_row7_col0\" class=\"data row7 col0\" >Ridge Classifier</td>\n",
       "      <td id=\"T_e6da1_row7_col1\" class=\"data row7 col1\" >0.8806</td>\n",
       "      <td id=\"T_e6da1_row7_col2\" class=\"data row7 col2\" >0.9287</td>\n",
       "      <td id=\"T_e6da1_row7_col3\" class=\"data row7 col3\" >0.8269</td>\n",
       "      <td id=\"T_e6da1_row7_col4\" class=\"data row7 col4\" >0.3594</td>\n",
       "      <td id=\"T_e6da1_row7_col5\" class=\"data row7 col5\" >0.5009</td>\n",
       "      <td id=\"T_e6da1_row7_col6\" class=\"data row7 col6\" >0.4449</td>\n",
       "      <td id=\"T_e6da1_row7_col7\" class=\"data row7 col7\" >0.4950</td>\n",
       "      <td id=\"T_e6da1_row7_col8\" class=\"data row7 col8\" >6.7890</td>\n",
       "    </tr>\n",
       "    <tr>\n",
       "      <th id=\"T_e6da1_level0_row8\" class=\"row_heading level0 row8\" >lda</th>\n",
       "      <td id=\"T_e6da1_row8_col0\" class=\"data row8 col0\" >Linear Discriminant Analysis</td>\n",
       "      <td id=\"T_e6da1_row8_col1\" class=\"data row8 col1\" >0.8805</td>\n",
       "      <td id=\"T_e6da1_row8_col2\" class=\"data row8 col2\" >0.9287</td>\n",
       "      <td id=\"T_e6da1_row8_col3\" class=\"data row8 col3\" >0.8269</td>\n",
       "      <td id=\"T_e6da1_row8_col4\" class=\"data row8 col4\" >0.3593</td>\n",
       "      <td id=\"T_e6da1_row8_col5\" class=\"data row8 col5\" >0.5008</td>\n",
       "      <td id=\"T_e6da1_row8_col6\" class=\"data row8 col6\" >0.4447</td>\n",
       "      <td id=\"T_e6da1_row8_col7\" class=\"data row8 col7\" >0.4949</td>\n",
       "      <td id=\"T_e6da1_row8_col8\" class=\"data row8 col8\" >8.8200</td>\n",
       "    </tr>\n",
       "    <tr>\n",
       "      <th id=\"T_e6da1_level0_row9\" class=\"row_heading level0 row9\" >lr</th>\n",
       "      <td id=\"T_e6da1_row9_col0\" class=\"data row9 col0\" >Logistic Regression</td>\n",
       "      <td id=\"T_e6da1_row9_col1\" class=\"data row9 col1\" >0.8715</td>\n",
       "      <td id=\"T_e6da1_row9_col2\" class=\"data row9 col2\" >0.9297</td>\n",
       "      <td id=\"T_e6da1_row9_col3\" class=\"data row9 col3\" >0.8468</td>\n",
       "      <td id=\"T_e6da1_row9_col4\" class=\"data row9 col4\" >0.3436</td>\n",
       "      <td id=\"T_e6da1_row9_col5\" class=\"data row9 col5\" >0.4887</td>\n",
       "      <td id=\"T_e6da1_row9_col6\" class=\"data row9 col6\" >0.4300</td>\n",
       "      <td id=\"T_e6da1_row9_col7\" class=\"data row9 col7\" >0.4876</td>\n",
       "      <td id=\"T_e6da1_row9_col8\" class=\"data row9 col8\" >9.3950</td>\n",
       "    </tr>\n",
       "    <tr>\n",
       "      <th id=\"T_e6da1_level0_row10\" class=\"row_heading level0 row10\" >svm</th>\n",
       "      <td id=\"T_e6da1_row10_col0\" class=\"data row10 col0\" >SVM - Linear Kernel</td>\n",
       "      <td id=\"T_e6da1_row10_col1\" class=\"data row10 col1\" >0.7347</td>\n",
       "      <td id=\"T_e6da1_row10_col2\" class=\"data row10 col2\" >0.7988</td>\n",
       "      <td id=\"T_e6da1_row10_col3\" class=\"data row10 col3\" >0.7429</td>\n",
       "      <td id=\"T_e6da1_row10_col4\" class=\"data row10 col4\" >0.2087</td>\n",
       "      <td id=\"T_e6da1_row10_col5\" class=\"data row10 col5\" >0.3100</td>\n",
       "      <td id=\"T_e6da1_row10_col6\" class=\"data row10 col6\" >0.2229</td>\n",
       "      <td id=\"T_e6da1_row10_col7\" class=\"data row10 col7\" >0.2928</td>\n",
       "      <td id=\"T_e6da1_row10_col8\" class=\"data row10 col8\" >6.9150</td>\n",
       "    </tr>\n",
       "    <tr>\n",
       "      <th id=\"T_e6da1_level0_row11\" class=\"row_heading level0 row11\" >knn</th>\n",
       "      <td id=\"T_e6da1_row11_col0\" class=\"data row11 col0\" >K Neighbors Classifier</td>\n",
       "      <td id=\"T_e6da1_row11_col1\" class=\"data row11 col1\" >0.8098</td>\n",
       "      <td id=\"T_e6da1_row11_col2\" class=\"data row11 col2\" >0.7306</td>\n",
       "      <td id=\"T_e6da1_row11_col3\" class=\"data row11 col3\" >0.5348</td>\n",
       "      <td id=\"T_e6da1_row11_col4\" class=\"data row11 col4\" >0.1983</td>\n",
       "      <td id=\"T_e6da1_row11_col5\" class=\"data row11 col5\" >0.2893</td>\n",
       "      <td id=\"T_e6da1_row11_col6\" class=\"data row11 col6\" >0.2053</td>\n",
       "      <td id=\"T_e6da1_row11_col7\" class=\"data row11 col7\" >0.2393</td>\n",
       "      <td id=\"T_e6da1_row11_col8\" class=\"data row11 col8\" >7.5230</td>\n",
       "    </tr>\n",
       "    <tr>\n",
       "      <th id=\"T_e6da1_level0_row12\" class=\"row_heading level0 row12\" >nb</th>\n",
       "      <td id=\"T_e6da1_row12_col0\" class=\"data row12 col0\" >Naive Bayes</td>\n",
       "      <td id=\"T_e6da1_row12_col1\" class=\"data row12 col1\" >0.7490</td>\n",
       "      <td id=\"T_e6da1_row12_col2\" class=\"data row12 col2\" >0.8070</td>\n",
       "      <td id=\"T_e6da1_row12_col3\" class=\"data row12 col3\" >0.7354</td>\n",
       "      <td id=\"T_e6da1_row12_col4\" class=\"data row12 col4\" >0.1870</td>\n",
       "      <td id=\"T_e6da1_row12_col5\" class=\"data row12 col5\" >0.2982</td>\n",
       "      <td id=\"T_e6da1_row12_col6\" class=\"data row12 col6\" >0.2066</td>\n",
       "      <td id=\"T_e6da1_row12_col7\" class=\"data row12 col7\" >0.2789</td>\n",
       "      <td id=\"T_e6da1_row12_col8\" class=\"data row12 col8\" >6.8240</td>\n",
       "    </tr>\n",
       "    <tr>\n",
       "      <th id=\"T_e6da1_level0_row13\" class=\"row_heading level0 row13\" >qda</th>\n",
       "      <td id=\"T_e6da1_row13_col0\" class=\"data row13 col0\" >Quadratic Discriminant Analysis</td>\n",
       "      <td id=\"T_e6da1_row13_col1\" class=\"data row13 col1\" >0.1368</td>\n",
       "      <td id=\"T_e6da1_row13_col2\" class=\"data row13 col2\" >0.7786</td>\n",
       "      <td id=\"T_e6da1_row13_col3\" class=\"data row13 col3\" >0.9720</td>\n",
       "      <td id=\"T_e6da1_row13_col4\" class=\"data row13 col4\" >0.0756</td>\n",
       "      <td id=\"T_e6da1_row13_col5\" class=\"data row13 col5\" >0.1402</td>\n",
       "      <td id=\"T_e6da1_row13_col6\" class=\"data row13 col6\" >0.0068</td>\n",
       "      <td id=\"T_e6da1_row13_col7\" class=\"data row13 col7\" >0.0450</td>\n",
       "      <td id=\"T_e6da1_row13_col8\" class=\"data row13 col8\" >6.8080</td>\n",
       "    </tr>\n",
       "    <tr>\n",
       "      <th id=\"T_e6da1_level0_row14\" class=\"row_heading level0 row14\" >dummy</th>\n",
       "      <td id=\"T_e6da1_row14_col0\" class=\"data row14 col0\" >Dummy Classifier</td>\n",
       "      <td id=\"T_e6da1_row14_col1\" class=\"data row14 col1\" >0.9276</td>\n",
       "      <td id=\"T_e6da1_row14_col2\" class=\"data row14 col2\" >0.5000</td>\n",
       "      <td id=\"T_e6da1_row14_col3\" class=\"data row14 col3\" >0.0000</td>\n",
       "      <td id=\"T_e6da1_row14_col4\" class=\"data row14 col4\" >0.0000</td>\n",
       "      <td id=\"T_e6da1_row14_col5\" class=\"data row14 col5\" >0.0000</td>\n",
       "      <td id=\"T_e6da1_row14_col6\" class=\"data row14 col6\" >0.0000</td>\n",
       "      <td id=\"T_e6da1_row14_col7\" class=\"data row14 col7\" >0.0000</td>\n",
       "      <td id=\"T_e6da1_row14_col8\" class=\"data row14 col8\" >7.0230</td>\n",
       "    </tr>\n",
       "  </tbody>\n",
       "</table>\n"
      ],
      "text/plain": [
       "<pandas.io.formats.style.Styler at 0x3a009a100>"
      ]
     },
     "metadata": {},
     "output_type": "display_data"
    },
    {
     "data": {
      "text/html": [],
      "text/plain": [
       "<IPython.core.display.HTML object>"
      ]
     },
     "metadata": {},
     "output_type": "display_data"
    },
    {
     "name": "stdout",
     "output_type": "stream",
     "text": [
      "{'randomoversampler': {'svm': 0.6028, 'lr': 0.5615, 'ridge': 0.5615, 'lda': 0.5615, 'nb': 0.5528}, 'smotetomek': {'nb': 0.6348, 'lr': 0.5649, 'ridge': 0.5623, 'lda': 0.5623, 'svm': 0.4927}, 'smoteenn': {'dummy': 1.0, 'ridge': 0.8334, 'lda': 0.8286, 'lr': 0.8278, 'nb': 0.6793}}\n",
      "--------------------------------------------------\n",
      "Type of imbalance technique: smoteenn\n"
     ]
    },
    {
     "data": {
      "text/html": [
       "<style type=\"text/css\">\n",
       "#T_dfde2_row9_col1, #T_dfde2_row15_col1 {\n",
       "  background-color: lightgreen;\n",
       "}\n",
       "</style>\n",
       "<table id=\"T_dfde2\">\n",
       "  <thead>\n",
       "    <tr>\n",
       "      <th class=\"blank level0\" >&nbsp;</th>\n",
       "      <th id=\"T_dfde2_level0_col0\" class=\"col_heading level0 col0\" >Description</th>\n",
       "      <th id=\"T_dfde2_level0_col1\" class=\"col_heading level0 col1\" >Value</th>\n",
       "    </tr>\n",
       "  </thead>\n",
       "  <tbody>\n",
       "    <tr>\n",
       "      <th id=\"T_dfde2_level0_row0\" class=\"row_heading level0 row0\" >0</th>\n",
       "      <td id=\"T_dfde2_row0_col0\" class=\"data row0 col0\" >Session id</td>\n",
       "      <td id=\"T_dfde2_row0_col1\" class=\"data row0 col1\" >3121</td>\n",
       "    </tr>\n",
       "    <tr>\n",
       "      <th id=\"T_dfde2_level0_row1\" class=\"row_heading level0 row1\" >1</th>\n",
       "      <td id=\"T_dfde2_row1_col0\" class=\"data row1 col0\" >Target</td>\n",
       "      <td id=\"T_dfde2_row1_col1\" class=\"data row1 col1\" >y</td>\n",
       "    </tr>\n",
       "    <tr>\n",
       "      <th id=\"T_dfde2_level0_row2\" class=\"row_heading level0 row2\" >2</th>\n",
       "      <td id=\"T_dfde2_row2_col0\" class=\"data row2 col0\" >Target type</td>\n",
       "      <td id=\"T_dfde2_row2_col1\" class=\"data row2 col1\" >Binary</td>\n",
       "    </tr>\n",
       "    <tr>\n",
       "      <th id=\"T_dfde2_level0_row3\" class=\"row_heading level0 row3\" >3</th>\n",
       "      <td id=\"T_dfde2_row3_col0\" class=\"data row3 col0\" >Original data shape</td>\n",
       "      <td id=\"T_dfde2_row3_col1\" class=\"data row3 col1\" >(40000, 14)</td>\n",
       "    </tr>\n",
       "    <tr>\n",
       "      <th id=\"T_dfde2_level0_row4\" class=\"row_heading level0 row4\" >4</th>\n",
       "      <td id=\"T_dfde2_row4_col0\" class=\"data row4 col0\" >Transformed data shape</td>\n",
       "      <td id=\"T_dfde2_row4_col1\" class=\"data row4 col1\" >(58311, 42)</td>\n",
       "    </tr>\n",
       "    <tr>\n",
       "      <th id=\"T_dfde2_level0_row5\" class=\"row_heading level0 row5\" >5</th>\n",
       "      <td id=\"T_dfde2_row5_col0\" class=\"data row5 col0\" >Transformed train set shape</td>\n",
       "      <td id=\"T_dfde2_row5_col1\" class=\"data row5 col1\" >(50311, 42)</td>\n",
       "    </tr>\n",
       "    <tr>\n",
       "      <th id=\"T_dfde2_level0_row6\" class=\"row_heading level0 row6\" >6</th>\n",
       "      <td id=\"T_dfde2_row6_col0\" class=\"data row6 col0\" >Transformed test set shape</td>\n",
       "      <td id=\"T_dfde2_row6_col1\" class=\"data row6 col1\" >(8000, 42)</td>\n",
       "    </tr>\n",
       "    <tr>\n",
       "      <th id=\"T_dfde2_level0_row7\" class=\"row_heading level0 row7\" >7</th>\n",
       "      <td id=\"T_dfde2_row7_col0\" class=\"data row7 col0\" >Numeric features</td>\n",
       "      <td id=\"T_dfde2_row7_col1\" class=\"data row7 col1\" >8</td>\n",
       "    </tr>\n",
       "    <tr>\n",
       "      <th id=\"T_dfde2_level0_row8\" class=\"row_heading level0 row8\" >8</th>\n",
       "      <td id=\"T_dfde2_row8_col0\" class=\"data row8 col0\" >Categorical features</td>\n",
       "      <td id=\"T_dfde2_row8_col1\" class=\"data row8 col1\" >5</td>\n",
       "    </tr>\n",
       "    <tr>\n",
       "      <th id=\"T_dfde2_level0_row9\" class=\"row_heading level0 row9\" >9</th>\n",
       "      <td id=\"T_dfde2_row9_col0\" class=\"data row9 col0\" >Preprocess</td>\n",
       "      <td id=\"T_dfde2_row9_col1\" class=\"data row9 col1\" >True</td>\n",
       "    </tr>\n",
       "    <tr>\n",
       "      <th id=\"T_dfde2_level0_row10\" class=\"row_heading level0 row10\" >10</th>\n",
       "      <td id=\"T_dfde2_row10_col0\" class=\"data row10 col0\" >Imputation type</td>\n",
       "      <td id=\"T_dfde2_row10_col1\" class=\"data row10 col1\" >simple</td>\n",
       "    </tr>\n",
       "    <tr>\n",
       "      <th id=\"T_dfde2_level0_row11\" class=\"row_heading level0 row11\" >11</th>\n",
       "      <td id=\"T_dfde2_row11_col0\" class=\"data row11 col0\" >Numeric imputation</td>\n",
       "      <td id=\"T_dfde2_row11_col1\" class=\"data row11 col1\" >mean</td>\n",
       "    </tr>\n",
       "    <tr>\n",
       "      <th id=\"T_dfde2_level0_row12\" class=\"row_heading level0 row12\" >12</th>\n",
       "      <td id=\"T_dfde2_row12_col0\" class=\"data row12 col0\" >Categorical imputation</td>\n",
       "      <td id=\"T_dfde2_row12_col1\" class=\"data row12 col1\" >mode</td>\n",
       "    </tr>\n",
       "    <tr>\n",
       "      <th id=\"T_dfde2_level0_row13\" class=\"row_heading level0 row13\" >13</th>\n",
       "      <td id=\"T_dfde2_row13_col0\" class=\"data row13 col0\" >Maximum one-hot encoding</td>\n",
       "      <td id=\"T_dfde2_row13_col1\" class=\"data row13 col1\" >25</td>\n",
       "    </tr>\n",
       "    <tr>\n",
       "      <th id=\"T_dfde2_level0_row14\" class=\"row_heading level0 row14\" >14</th>\n",
       "      <td id=\"T_dfde2_row14_col0\" class=\"data row14 col0\" >Encoding method</td>\n",
       "      <td id=\"T_dfde2_row14_col1\" class=\"data row14 col1\" >None</td>\n",
       "    </tr>\n",
       "    <tr>\n",
       "      <th id=\"T_dfde2_level0_row15\" class=\"row_heading level0 row15\" >15</th>\n",
       "      <td id=\"T_dfde2_row15_col0\" class=\"data row15 col0\" >Fix imbalance</td>\n",
       "      <td id=\"T_dfde2_row15_col1\" class=\"data row15 col1\" >True</td>\n",
       "    </tr>\n",
       "    <tr>\n",
       "      <th id=\"T_dfde2_level0_row16\" class=\"row_heading level0 row16\" >16</th>\n",
       "      <td id=\"T_dfde2_row16_col0\" class=\"data row16 col0\" >Fix imbalance method</td>\n",
       "      <td id=\"T_dfde2_row16_col1\" class=\"data row16 col1\" >smoteenn</td>\n",
       "    </tr>\n",
       "    <tr>\n",
       "      <th id=\"T_dfde2_level0_row17\" class=\"row_heading level0 row17\" >17</th>\n",
       "      <td id=\"T_dfde2_row17_col0\" class=\"data row17 col0\" >Fold Generator</td>\n",
       "      <td id=\"T_dfde2_row17_col1\" class=\"data row17 col1\" >StratifiedKFold</td>\n",
       "    </tr>\n",
       "    <tr>\n",
       "      <th id=\"T_dfde2_level0_row18\" class=\"row_heading level0 row18\" >18</th>\n",
       "      <td id=\"T_dfde2_row18_col0\" class=\"data row18 col0\" >Fold Number</td>\n",
       "      <td id=\"T_dfde2_row18_col1\" class=\"data row18 col1\" >10</td>\n",
       "    </tr>\n",
       "    <tr>\n",
       "      <th id=\"T_dfde2_level0_row19\" class=\"row_heading level0 row19\" >19</th>\n",
       "      <td id=\"T_dfde2_row19_col0\" class=\"data row19 col0\" >CPU Jobs</td>\n",
       "      <td id=\"T_dfde2_row19_col1\" class=\"data row19 col1\" >-1</td>\n",
       "    </tr>\n",
       "    <tr>\n",
       "      <th id=\"T_dfde2_level0_row20\" class=\"row_heading level0 row20\" >20</th>\n",
       "      <td id=\"T_dfde2_row20_col0\" class=\"data row20 col0\" >Use GPU</td>\n",
       "      <td id=\"T_dfde2_row20_col1\" class=\"data row20 col1\" >False</td>\n",
       "    </tr>\n",
       "    <tr>\n",
       "      <th id=\"T_dfde2_level0_row21\" class=\"row_heading level0 row21\" >21</th>\n",
       "      <td id=\"T_dfde2_row21_col0\" class=\"data row21 col0\" >Log Experiment</td>\n",
       "      <td id=\"T_dfde2_row21_col1\" class=\"data row21 col1\" >False</td>\n",
       "    </tr>\n",
       "    <tr>\n",
       "      <th id=\"T_dfde2_level0_row22\" class=\"row_heading level0 row22\" >22</th>\n",
       "      <td id=\"T_dfde2_row22_col0\" class=\"data row22 col0\" >Experiment Name</td>\n",
       "      <td id=\"T_dfde2_row22_col1\" class=\"data row22 col1\" >clf-default-name</td>\n",
       "    </tr>\n",
       "    <tr>\n",
       "      <th id=\"T_dfde2_level0_row23\" class=\"row_heading level0 row23\" >23</th>\n",
       "      <td id=\"T_dfde2_row23_col0\" class=\"data row23 col0\" >USI</td>\n",
       "      <td id=\"T_dfde2_row23_col1\" class=\"data row23 col1\" >b32e</td>\n",
       "    </tr>\n",
       "  </tbody>\n",
       "</table>\n"
      ],
      "text/plain": [
       "<pandas.io.formats.style.Styler at 0x39fc3b490>"
      ]
     },
     "metadata": {},
     "output_type": "display_data"
    },
    {
     "name": "stdout",
     "output_type": "stream",
     "text": [
      "\n"
     ]
    },
    {
     "data": {
      "text/html": [],
      "text/plain": [
       "<IPython.core.display.HTML object>"
      ]
     },
     "metadata": {},
     "output_type": "display_data"
    },
    {
     "data": {
      "text/html": [
       "<style type=\"text/css\">\n",
       "#T_9abbc th {\n",
       "  text-align: left;\n",
       "}\n",
       "#T_9abbc_row0_col0, #T_9abbc_row0_col2, #T_9abbc_row0_col3, #T_9abbc_row0_col5, #T_9abbc_row0_col6, #T_9abbc_row0_col7, #T_9abbc_row1_col0, #T_9abbc_row1_col1, #T_9abbc_row1_col3, #T_9abbc_row1_col4, #T_9abbc_row2_col0, #T_9abbc_row2_col1, #T_9abbc_row2_col2, #T_9abbc_row2_col3, #T_9abbc_row2_col4, #T_9abbc_row2_col5, #T_9abbc_row2_col6, #T_9abbc_row2_col7, #T_9abbc_row3_col0, #T_9abbc_row3_col1, #T_9abbc_row3_col2, #T_9abbc_row3_col3, #T_9abbc_row3_col4, #T_9abbc_row3_col5, #T_9abbc_row3_col6, #T_9abbc_row3_col7, #T_9abbc_row4_col0, #T_9abbc_row4_col1, #T_9abbc_row4_col2, #T_9abbc_row4_col3, #T_9abbc_row4_col4, #T_9abbc_row4_col5, #T_9abbc_row4_col6, #T_9abbc_row4_col7, #T_9abbc_row5_col0, #T_9abbc_row5_col1, #T_9abbc_row5_col2, #T_9abbc_row5_col3, #T_9abbc_row5_col4, #T_9abbc_row5_col5, #T_9abbc_row5_col6, #T_9abbc_row5_col7, #T_9abbc_row6_col0, #T_9abbc_row6_col1, #T_9abbc_row6_col2, #T_9abbc_row6_col3, #T_9abbc_row6_col4, #T_9abbc_row6_col5, #T_9abbc_row6_col6, #T_9abbc_row6_col7, #T_9abbc_row7_col0, #T_9abbc_row7_col1, #T_9abbc_row7_col2, #T_9abbc_row7_col3, #T_9abbc_row7_col4, #T_9abbc_row7_col5, #T_9abbc_row7_col6, #T_9abbc_row7_col7, #T_9abbc_row8_col0, #T_9abbc_row8_col1, #T_9abbc_row8_col2, #T_9abbc_row8_col3, #T_9abbc_row8_col4, #T_9abbc_row8_col5, #T_9abbc_row8_col6, #T_9abbc_row8_col7, #T_9abbc_row9_col0, #T_9abbc_row9_col1, #T_9abbc_row9_col2, #T_9abbc_row9_col3, #T_9abbc_row9_col4, #T_9abbc_row9_col5, #T_9abbc_row9_col6, #T_9abbc_row9_col7, #T_9abbc_row10_col0, #T_9abbc_row10_col1, #T_9abbc_row10_col2, #T_9abbc_row10_col3, #T_9abbc_row10_col4, #T_9abbc_row10_col5, #T_9abbc_row10_col6, #T_9abbc_row10_col7, #T_9abbc_row11_col0, #T_9abbc_row11_col1, #T_9abbc_row11_col2, #T_9abbc_row11_col3, #T_9abbc_row11_col4, #T_9abbc_row11_col5, #T_9abbc_row11_col6, #T_9abbc_row11_col7, #T_9abbc_row12_col0, #T_9abbc_row12_col1, #T_9abbc_row12_col2, #T_9abbc_row12_col3, #T_9abbc_row12_col4, #T_9abbc_row12_col5, #T_9abbc_row12_col6, #T_9abbc_row12_col7, #T_9abbc_row13_col0, #T_9abbc_row13_col1, #T_9abbc_row13_col2, #T_9abbc_row13_col3, #T_9abbc_row13_col4, #T_9abbc_row13_col5, #T_9abbc_row13_col6, #T_9abbc_row13_col7, #T_9abbc_row14_col0, #T_9abbc_row14_col1, #T_9abbc_row14_col2, #T_9abbc_row14_col4, #T_9abbc_row14_col5, #T_9abbc_row14_col6, #T_9abbc_row14_col7 {\n",
       "  text-align: left;\n",
       "}\n",
       "#T_9abbc_row0_col1, #T_9abbc_row0_col4, #T_9abbc_row1_col2, #T_9abbc_row1_col5, #T_9abbc_row1_col6, #T_9abbc_row1_col7, #T_9abbc_row14_col3 {\n",
       "  text-align: left;\n",
       "  background-color: yellow;\n",
       "}\n",
       "#T_9abbc_row0_col8, #T_9abbc_row1_col8, #T_9abbc_row2_col8, #T_9abbc_row3_col8, #T_9abbc_row4_col8, #T_9abbc_row5_col8, #T_9abbc_row6_col8, #T_9abbc_row8_col8, #T_9abbc_row9_col8, #T_9abbc_row10_col8, #T_9abbc_row11_col8, #T_9abbc_row12_col8, #T_9abbc_row13_col8, #T_9abbc_row14_col8 {\n",
       "  text-align: left;\n",
       "  background-color: lightgrey;\n",
       "}\n",
       "#T_9abbc_row7_col8 {\n",
       "  text-align: left;\n",
       "  background-color: yellow;\n",
       "  background-color: lightgrey;\n",
       "}\n",
       "</style>\n",
       "<table id=\"T_9abbc\">\n",
       "  <thead>\n",
       "    <tr>\n",
       "      <th class=\"blank level0\" >&nbsp;</th>\n",
       "      <th id=\"T_9abbc_level0_col0\" class=\"col_heading level0 col0\" >Model</th>\n",
       "      <th id=\"T_9abbc_level0_col1\" class=\"col_heading level0 col1\" >Accuracy</th>\n",
       "      <th id=\"T_9abbc_level0_col2\" class=\"col_heading level0 col2\" >AUC</th>\n",
       "      <th id=\"T_9abbc_level0_col3\" class=\"col_heading level0 col3\" >Recall</th>\n",
       "      <th id=\"T_9abbc_level0_col4\" class=\"col_heading level0 col4\" >Prec.</th>\n",
       "      <th id=\"T_9abbc_level0_col5\" class=\"col_heading level0 col5\" >F1</th>\n",
       "      <th id=\"T_9abbc_level0_col6\" class=\"col_heading level0 col6\" >Kappa</th>\n",
       "      <th id=\"T_9abbc_level0_col7\" class=\"col_heading level0 col7\" >MCC</th>\n",
       "      <th id=\"T_9abbc_level0_col8\" class=\"col_heading level0 col8\" >TT (Sec)</th>\n",
       "    </tr>\n",
       "  </thead>\n",
       "  <tbody>\n",
       "    <tr>\n",
       "      <th id=\"T_9abbc_level0_row0\" class=\"row_heading level0 row0\" >et</th>\n",
       "      <td id=\"T_9abbc_row0_col0\" class=\"data row0 col0\" >Extra Trees Classifier</td>\n",
       "      <td id=\"T_9abbc_row0_col1\" class=\"data row0 col1\" >0.9270</td>\n",
       "      <td id=\"T_9abbc_row0_col2\" class=\"data row0 col2\" >0.9366</td>\n",
       "      <td id=\"T_9abbc_row0_col3\" class=\"data row0 col3\" >0.5663</td>\n",
       "      <td id=\"T_9abbc_row0_col4\" class=\"data row0 col4\" >0.4963</td>\n",
       "      <td id=\"T_9abbc_row0_col5\" class=\"data row0 col5\" >0.5288</td>\n",
       "      <td id=\"T_9abbc_row0_col6\" class=\"data row0 col6\" >0.4894</td>\n",
       "      <td id=\"T_9abbc_row0_col7\" class=\"data row0 col7\" >0.4908</td>\n",
       "      <td id=\"T_9abbc_row0_col8\" class=\"data row0 col8\" >8.1150</td>\n",
       "    </tr>\n",
       "    <tr>\n",
       "      <th id=\"T_9abbc_level0_row1\" class=\"row_heading level0 row1\" >lightgbm</th>\n",
       "      <td id=\"T_9abbc_row1_col0\" class=\"data row1 col0\" >Light Gradient Boosting Machine</td>\n",
       "      <td id=\"T_9abbc_row1_col1\" class=\"data row1 col1\" >0.9252</td>\n",
       "      <td id=\"T_9abbc_row1_col2\" class=\"data row1 col2\" >0.9484</td>\n",
       "      <td id=\"T_9abbc_row1_col3\" class=\"data row1 col3\" >0.7156</td>\n",
       "      <td id=\"T_9abbc_row1_col4\" class=\"data row1 col4\" >0.4887</td>\n",
       "      <td id=\"T_9abbc_row1_col5\" class=\"data row1 col5\" >0.5805</td>\n",
       "      <td id=\"T_9abbc_row1_col6\" class=\"data row1 col6\" >0.5410</td>\n",
       "      <td id=\"T_9abbc_row1_col7\" class=\"data row1 col7\" >0.5530</td>\n",
       "      <td id=\"T_9abbc_row1_col8\" class=\"data row1 col8\" >7.3720</td>\n",
       "    </tr>\n",
       "    <tr>\n",
       "      <th id=\"T_9abbc_level0_row2\" class=\"row_heading level0 row2\" >xgboost</th>\n",
       "      <td id=\"T_9abbc_row2_col0\" class=\"data row2 col0\" >Extreme Gradient Boosting</td>\n",
       "      <td id=\"T_9abbc_row2_col1\" class=\"data row2 col1\" >0.9233</td>\n",
       "      <td id=\"T_9abbc_row2_col2\" class=\"data row2 col2\" >0.9443</td>\n",
       "      <td id=\"T_9abbc_row2_col3\" class=\"data row2 col3\" >0.6932</td>\n",
       "      <td id=\"T_9abbc_row2_col4\" class=\"data row2 col4\" >0.4796</td>\n",
       "      <td id=\"T_9abbc_row2_col5\" class=\"data row2 col5\" >0.5666</td>\n",
       "      <td id=\"T_9abbc_row2_col6\" class=\"data row2 col6\" >0.5261</td>\n",
       "      <td id=\"T_9abbc_row2_col7\" class=\"data row2 col7\" >0.5370</td>\n",
       "      <td id=\"T_9abbc_row2_col8\" class=\"data row2 col8\" >7.3210</td>\n",
       "    </tr>\n",
       "    <tr>\n",
       "      <th id=\"T_9abbc_level0_row3\" class=\"row_heading level0 row3\" >rf</th>\n",
       "      <td id=\"T_9abbc_row3_col0\" class=\"data row3 col0\" >Random Forest Classifier</td>\n",
       "      <td id=\"T_9abbc_row3_col1\" class=\"data row3 col1\" >0.9224</td>\n",
       "      <td id=\"T_9abbc_row3_col2\" class=\"data row3 col2\" >0.9412</td>\n",
       "      <td id=\"T_9abbc_row3_col3\" class=\"data row3 col3\" >0.6461</td>\n",
       "      <td id=\"T_9abbc_row3_col4\" class=\"data row3 col4\" >0.4742</td>\n",
       "      <td id=\"T_9abbc_row3_col5\" class=\"data row3 col5\" >0.5467</td>\n",
       "      <td id=\"T_9abbc_row3_col6\" class=\"data row3 col6\" >0.5054</td>\n",
       "      <td id=\"T_9abbc_row3_col7\" class=\"data row3 col7\" >0.5128</td>\n",
       "      <td id=\"T_9abbc_row3_col8\" class=\"data row3 col8\" >8.5290</td>\n",
       "    </tr>\n",
       "    <tr>\n",
       "      <th id=\"T_9abbc_level0_row4\" class=\"row_heading level0 row4\" >gbc</th>\n",
       "      <td id=\"T_9abbc_row4_col0\" class=\"data row4 col0\" >Gradient Boosting Classifier</td>\n",
       "      <td id=\"T_9abbc_row4_col1\" class=\"data row4 col1\" >0.9122</td>\n",
       "      <td id=\"T_9abbc_row4_col2\" class=\"data row4 col2\" >0.9400</td>\n",
       "      <td id=\"T_9abbc_row4_col3\" class=\"data row4 col3\" >0.7216</td>\n",
       "      <td id=\"T_9abbc_row4_col4\" class=\"data row4 col4\" >0.4366</td>\n",
       "      <td id=\"T_9abbc_row4_col5\" class=\"data row4 col5\" >0.5438</td>\n",
       "      <td id=\"T_9abbc_row4_col6\" class=\"data row4 col6\" >0.4985</td>\n",
       "      <td id=\"T_9abbc_row4_col7\" class=\"data row4 col7\" >0.5180</td>\n",
       "      <td id=\"T_9abbc_row4_col8\" class=\"data row4 col8\" >11.7750</td>\n",
       "    </tr>\n",
       "    <tr>\n",
       "      <th id=\"T_9abbc_level0_row5\" class=\"row_heading level0 row5\" >ada</th>\n",
       "      <td id=\"T_9abbc_row5_col0\" class=\"data row5 col0\" >Ada Boost Classifier</td>\n",
       "      <td id=\"T_9abbc_row5_col1\" class=\"data row5 col1\" >0.9093</td>\n",
       "      <td id=\"T_9abbc_row5_col2\" class=\"data row5 col2\" >0.9230</td>\n",
       "      <td id=\"T_9abbc_row5_col3\" class=\"data row5 col3\" >0.6595</td>\n",
       "      <td id=\"T_9abbc_row5_col4\" class=\"data row5 col4\" >0.4198</td>\n",
       "      <td id=\"T_9abbc_row5_col5\" class=\"data row5 col5\" >0.5128</td>\n",
       "      <td id=\"T_9abbc_row5_col6\" class=\"data row5 col6\" >0.4655</td>\n",
       "      <td id=\"T_9abbc_row5_col7\" class=\"data row5 col7\" >0.4801</td>\n",
       "      <td id=\"T_9abbc_row5_col8\" class=\"data row5 col8\" >8.0400</td>\n",
       "    </tr>\n",
       "    <tr>\n",
       "      <th id=\"T_9abbc_level0_row6\" class=\"row_heading level0 row6\" >dt</th>\n",
       "      <td id=\"T_9abbc_row6_col0\" class=\"data row6 col0\" >Decision Tree Classifier</td>\n",
       "      <td id=\"T_9abbc_row6_col1\" class=\"data row6 col1\" >0.9057</td>\n",
       "      <td id=\"T_9abbc_row6_col2\" class=\"data row6 col2\" >0.7920</td>\n",
       "      <td id=\"T_9abbc_row6_col3\" class=\"data row6 col3\" >0.6591</td>\n",
       "      <td id=\"T_9abbc_row6_col4\" class=\"data row6 col4\" >0.4071</td>\n",
       "      <td id=\"T_9abbc_row6_col5\" class=\"data row6 col5\" >0.5029</td>\n",
       "      <td id=\"T_9abbc_row6_col6\" class=\"data row6 col6\" >0.4540</td>\n",
       "      <td id=\"T_9abbc_row6_col7\" class=\"data row6 col7\" >0.4704</td>\n",
       "      <td id=\"T_9abbc_row6_col8\" class=\"data row6 col8\" >7.0350</td>\n",
       "    </tr>\n",
       "    <tr>\n",
       "      <th id=\"T_9abbc_level0_row7\" class=\"row_heading level0 row7\" >lda</th>\n",
       "      <td id=\"T_9abbc_row7_col0\" class=\"data row7 col0\" >Linear Discriminant Analysis</td>\n",
       "      <td id=\"T_9abbc_row7_col1\" class=\"data row7 col1\" >0.8576</td>\n",
       "      <td id=\"T_9abbc_row7_col2\" class=\"data row7 col2\" >0.9289</td>\n",
       "      <td id=\"T_9abbc_row7_col3\" class=\"data row7 col3\" >0.8744</td>\n",
       "      <td id=\"T_9abbc_row7_col4\" class=\"data row7 col4\" >0.3224</td>\n",
       "      <td id=\"T_9abbc_row7_col5\" class=\"data row7 col5\" >0.4710</td>\n",
       "      <td id=\"T_9abbc_row7_col6\" class=\"data row7 col6\" >0.4084</td>\n",
       "      <td id=\"T_9abbc_row7_col7\" class=\"data row7 col7\" >0.4767</td>\n",
       "      <td id=\"T_9abbc_row7_col8\" class=\"data row7 col8\" >6.6280</td>\n",
       "    </tr>\n",
       "    <tr>\n",
       "      <th id=\"T_9abbc_level0_row8\" class=\"row_heading level0 row8\" >ridge</th>\n",
       "      <td id=\"T_9abbc_row8_col0\" class=\"data row8 col0\" >Ridge Classifier</td>\n",
       "      <td id=\"T_9abbc_row8_col1\" class=\"data row8 col1\" >0.8575</td>\n",
       "      <td id=\"T_9abbc_row8_col2\" class=\"data row8 col2\" >0.9289</td>\n",
       "      <td id=\"T_9abbc_row8_col3\" class=\"data row8 col3\" >0.8744</td>\n",
       "      <td id=\"T_9abbc_row8_col4\" class=\"data row8 col4\" >0.3222</td>\n",
       "      <td id=\"T_9abbc_row8_col5\" class=\"data row8 col5\" >0.4707</td>\n",
       "      <td id=\"T_9abbc_row8_col6\" class=\"data row8 col6\" >0.4081</td>\n",
       "      <td id=\"T_9abbc_row8_col7\" class=\"data row8 col7\" >0.4765</td>\n",
       "      <td id=\"T_9abbc_row8_col8\" class=\"data row8 col8\" >6.8050</td>\n",
       "    </tr>\n",
       "    <tr>\n",
       "      <th id=\"T_9abbc_level0_row9\" class=\"row_heading level0 row9\" >lr</th>\n",
       "      <td id=\"T_9abbc_row9_col0\" class=\"data row9 col0\" >Logistic Regression</td>\n",
       "      <td id=\"T_9abbc_row9_col1\" class=\"data row9 col1\" >0.8453</td>\n",
       "      <td id=\"T_9abbc_row9_col2\" class=\"data row9 col2\" >0.9295</td>\n",
       "      <td id=\"T_9abbc_row9_col3\" class=\"data row9 col3\" >0.8839</td>\n",
       "      <td id=\"T_9abbc_row9_col4\" class=\"data row9 col4\" >0.3051</td>\n",
       "      <td id=\"T_9abbc_row9_col5\" class=\"data row9 col5\" >0.4534</td>\n",
       "      <td id=\"T_9abbc_row9_col6\" class=\"data row9 col6\" >0.3874</td>\n",
       "      <td id=\"T_9abbc_row9_col7\" class=\"data row9 col7\" >0.4623</td>\n",
       "      <td id=\"T_9abbc_row9_col8\" class=\"data row9 col8\" >9.3630</td>\n",
       "    </tr>\n",
       "    <tr>\n",
       "      <th id=\"T_9abbc_level0_row10\" class=\"row_heading level0 row10\" >nb</th>\n",
       "      <td id=\"T_9abbc_row10_col0\" class=\"data row10 col0\" >Naive Bayes</td>\n",
       "      <td id=\"T_9abbc_row10_col1\" class=\"data row10 col1\" >0.7454</td>\n",
       "      <td id=\"T_9abbc_row10_col2\" class=\"data row10 col2\" >0.8531</td>\n",
       "      <td id=\"T_9abbc_row10_col3\" class=\"data row10 col3\" >0.8300</td>\n",
       "      <td id=\"T_9abbc_row10_col4\" class=\"data row10 col4\" >0.1989</td>\n",
       "      <td id=\"T_9abbc_row10_col5\" class=\"data row10 col5\" >0.3209</td>\n",
       "      <td id=\"T_9abbc_row10_col6\" class=\"data row10 col6\" >0.2310</td>\n",
       "      <td id=\"T_9abbc_row10_col7\" class=\"data row10 col7\" >0.3211</td>\n",
       "      <td id=\"T_9abbc_row10_col8\" class=\"data row10 col8\" >6.7330</td>\n",
       "    </tr>\n",
       "    <tr>\n",
       "      <th id=\"T_9abbc_level0_row11\" class=\"row_heading level0 row11\" >svm</th>\n",
       "      <td id=\"T_9abbc_row11_col0\" class=\"data row11 col0\" >SVM - Linear Kernel</td>\n",
       "      <td id=\"T_9abbc_row11_col1\" class=\"data row11 col1\" >0.7101</td>\n",
       "      <td id=\"T_9abbc_row11_col2\" class=\"data row11 col2\" >0.8055</td>\n",
       "      <td id=\"T_9abbc_row11_col3\" class=\"data row11 col3\" >0.7742</td>\n",
       "      <td id=\"T_9abbc_row11_col4\" class=\"data row11 col4\" >0.1948</td>\n",
       "      <td id=\"T_9abbc_row11_col5\" class=\"data row11 col5\" >0.2994</td>\n",
       "      <td id=\"T_9abbc_row11_col6\" class=\"data row11 col6\" >0.2084</td>\n",
       "      <td id=\"T_9abbc_row11_col7\" class=\"data row11 col7\" >0.2855</td>\n",
       "      <td id=\"T_9abbc_row11_col8\" class=\"data row11 col8\" >7.6260</td>\n",
       "    </tr>\n",
       "    <tr>\n",
       "      <th id=\"T_9abbc_level0_row12\" class=\"row_heading level0 row12\" >knn</th>\n",
       "      <td id=\"T_9abbc_row12_col0\" class=\"data row12 col0\" >K Neighbors Classifier</td>\n",
       "      <td id=\"T_9abbc_row12_col1\" class=\"data row12 col1\" >0.7604</td>\n",
       "      <td id=\"T_9abbc_row12_col2\" class=\"data row12 col2\" >0.7240</td>\n",
       "      <td id=\"T_9abbc_row12_col3\" class=\"data row12 col3\" >0.6068</td>\n",
       "      <td id=\"T_9abbc_row12_col4\" class=\"data row12 col4\" >0.1723</td>\n",
       "      <td id=\"T_9abbc_row12_col5\" class=\"data row12 col5\" >0.2683</td>\n",
       "      <td id=\"T_9abbc_row12_col6\" class=\"data row12 col6\" >0.1753</td>\n",
       "      <td id=\"T_9abbc_row12_col7\" class=\"data row12 col7\" >0.2255</td>\n",
       "      <td id=\"T_9abbc_row12_col8\" class=\"data row12 col8\" >7.5500</td>\n",
       "    </tr>\n",
       "    <tr>\n",
       "      <th id=\"T_9abbc_level0_row13\" class=\"row_heading level0 row13\" >qda</th>\n",
       "      <td id=\"T_9abbc_row13_col0\" class=\"data row13 col0\" >Quadratic Discriminant Analysis</td>\n",
       "      <td id=\"T_9abbc_row13_col1\" class=\"data row13 col1\" >0.1713</td>\n",
       "      <td id=\"T_9abbc_row13_col2\" class=\"data row13 col2\" >0.7896</td>\n",
       "      <td id=\"T_9abbc_row13_col3\" class=\"data row13 col3\" >0.9503</td>\n",
       "      <td id=\"T_9abbc_row13_col4\" class=\"data row13 col4\" >0.0774</td>\n",
       "      <td id=\"T_9abbc_row13_col5\" class=\"data row13 col5\" >0.1430</td>\n",
       "      <td id=\"T_9abbc_row13_col6\" class=\"data row13 col6\" >0.0105</td>\n",
       "      <td id=\"T_9abbc_row13_col7\" class=\"data row13 col7\" >0.0529</td>\n",
       "      <td id=\"T_9abbc_row13_col8\" class=\"data row13 col8\" >6.8780</td>\n",
       "    </tr>\n",
       "    <tr>\n",
       "      <th id=\"T_9abbc_level0_row14\" class=\"row_heading level0 row14\" >dummy</th>\n",
       "      <td id=\"T_9abbc_row14_col0\" class=\"data row14 col0\" >Dummy Classifier</td>\n",
       "      <td id=\"T_9abbc_row14_col1\" class=\"data row14 col1\" >0.0724</td>\n",
       "      <td id=\"T_9abbc_row14_col2\" class=\"data row14 col2\" >0.5000</td>\n",
       "      <td id=\"T_9abbc_row14_col3\" class=\"data row14 col3\" >1.0000</td>\n",
       "      <td id=\"T_9abbc_row14_col4\" class=\"data row14 col4\" >0.0724</td>\n",
       "      <td id=\"T_9abbc_row14_col5\" class=\"data row14 col5\" >0.1350</td>\n",
       "      <td id=\"T_9abbc_row14_col6\" class=\"data row14 col6\" >0.0000</td>\n",
       "      <td id=\"T_9abbc_row14_col7\" class=\"data row14 col7\" >0.0000</td>\n",
       "      <td id=\"T_9abbc_row14_col8\" class=\"data row14 col8\" >6.7470</td>\n",
       "    </tr>\n",
       "  </tbody>\n",
       "</table>\n"
      ],
      "text/plain": [
       "<pandas.io.formats.style.Styler at 0x389325700>"
      ]
     },
     "metadata": {},
     "output_type": "display_data"
    },
    {
     "data": {
      "text/html": [],
      "text/plain": [
       "<IPython.core.display.HTML object>"
      ]
     },
     "metadata": {},
     "output_type": "display_data"
    },
    {
     "name": "stdout",
     "output_type": "stream",
     "text": [
      "{'randomoversampler': {'svm': 0.6028, 'lr': 0.5615, 'ridge': 0.5615, 'lda': 0.5615, 'nb': 0.5528}, 'smotetomek': {'nb': 0.6348, 'lr': 0.5649, 'ridge': 0.5623, 'lda': 0.5623, 'svm': 0.4927}, 'smoteenn': {'dummy': 1.0, 'ridge': 0.8334, 'lda': 0.8286, 'lr': 0.8278, 'nb': 0.6793}}\n",
      "--------------------------------------------------\n"
     ]
    }
   ],
   "source": [
    "seed = random.randint(1000, 9999)\n",
    "\n",
    "imbalance_type_dict_layer_2 = {}\n",
    "\n",
    "for type in imbalance_methods:\n",
    "  print(f'Type of imbalance technique: {type}')\n",
    "  s = setup(data=X,\n",
    "        target=target_variable, \n",
    "        session_id=seed, \n",
    "        train_size=.80, \n",
    "        fix_imbalance=True, \n",
    "        fix_imbalance_method=type,\n",
    "        categorical_features=full_dataset_categorical_features\n",
    "      )\n",
    "  # print(s.X_train)\n",
    "  print()\n",
    "  best_models = compare_models(sort='Precision', n_select=n_select)\n",
    "  results = pull()\n",
    "  # print(best_models)\n",
    "\n",
    "  model_precision_score_dict = {}\n",
    "\n",
    "  for i in range(n_select):\n",
    "      model_precision_score_dict[results.index[i]] = results.iloc[i]['Prec.']\n",
    "\n",
    "  imbalance_type_dict_layer_2[type] = model_precision_score_dict\n",
    "\n",
    "  print(imbalance_type_dict_layer_2)\n",
    "\n",
    "  # evaluation = [evaluate_model(estimator=model) for model in best_models]\n",
    "  print('-'*50)"
   ]
  },
  {
   "cell_type": "code",
   "execution_count": 1681,
   "metadata": {},
   "outputs": [
    {
     "name": "stdout",
     "output_type": "stream",
     "text": [
      "{'randomoversampler': {'et': 0.5765, 'rf': 0.5619, 'dt': 0.4397, 'xgboost': 0.4274, 'lightgbm': 0.388}, 'smotetomek': {'lightgbm': 0.5977, 'xgboost': 0.5788, 'rf': 0.5656, 'et': 0.5529, 'gbc': 0.5351}, 'smoteenn': {'et': 0.4963, 'lightgbm': 0.4887, 'xgboost': 0.4796, 'rf': 0.4742, 'gbc': 0.4366}}\n"
     ]
    }
   ],
   "source": [
    "print(imbalance_type_dict_layer_2)"
   ]
  },
  {
   "cell_type": "code",
   "execution_count": 1755,
   "metadata": {},
   "outputs": [
    {
     "data": {
      "image/png": "[encoded data removed]",
      "text/plain": [
       "<Figure size 800x550 with 1 Axes>"
      ]
     },
     "metadata": {},
     "output_type": "display_data"
    }
   ],
   "source": [
    "df = pd.DataFrame(imbalance_type_dict_layer_2)\n",
    "df = df.T\n",
    "\n",
    "sns.barplot(df)\n",
    "plt.xlabel('Sampling Techniques')\n",
    "plt.ylabel('Precision Score')\n",
    "plt.title('Precision scores of models per sampling technique')\n",
    "plt.show()"
   ]
  },
  {
   "cell_type": "code",
   "execution_count": 1756,
   "metadata": {},
   "outputs": [
    {
     "data": {
      "image/png": "[encoded data removed]",
      "text/plain": [
       "<Figure size 800x550 with 1 Axes>"
      ]
     },
     "metadata": {},
     "output_type": "display_data"
    }
   ],
   "source": [
    "sns.scatterplot(df)\n",
    "plt.xlabel('Sampling Techniques')\n",
    "plt.ylabel('Precision Score')\n",
    "plt.title('Precision scores of models per sampling technique')\n",
    "plt.show()"
   ]
  },
  {
   "attachments": {},
   "cell_type": "markdown",
   "metadata": {},
   "source": [
    "Using Pycaret to see what models work with different sampling techniques the results look to be that multiple tree based models work the best with SmoteTomek as the sampling technique. Below, the ExtraTreeClassifier will be used with a randomoversampling technique and a LightGBM model will be used with SmoteTomek."
   ]
  },
  {
   "cell_type": "code",
   "execution_count": 1757,
   "metadata": {},
   "outputs": [],
   "source": [
    "from imblearn.over_sampling import RandomOverSampler\n",
    "\n",
    "dummy_new_X = pd.get_dummies(data=s.X)\n",
    "\n",
    "X_train, X_test, y_train, y_test = train_test_split(dummy_new_X, s.y, train_size=.80, random_state=seed)\n",
    "X_train_resampled_tomek, y_train_resampled_tomek = SMOTETomek(random_state=seed).fit_resample(X_train, y_train)\n",
    "X_train_resampled_random, y_train_resampled_random = RandomOverSampler(random_state=seed).fit_resample(X_train, y_train)\n"
   ]
  },
  {
   "cell_type": "code",
   "execution_count": 1758,
   "metadata": {},
   "outputs": [
    {
     "name": "stdout",
     "output_type": "stream",
     "text": [
      "**************************************** Model: extra_tree ****************************************\n",
      "              precision    recall  f1-score   support\n",
      "\n",
      "           0       0.95      0.95      0.95      7413\n",
      "           1       0.36      0.36      0.36       587\n",
      "\n",
      "    accuracy                           0.91      8000\n",
      "   macro avg       0.66      0.65      0.65      8000\n",
      "weighted avg       0.91      0.91      0.91      8000\n",
      "\n",
      "[[7043  370]\n",
      " [ 378  209]]\n",
      "**************************************** Model: lightgbm ****************************************\n",
      "              precision    recall  f1-score   support\n",
      "\n",
      "           0       0.96      0.97      0.97      7413\n",
      "           1       0.57      0.54      0.55       587\n",
      "\n",
      "    accuracy                           0.94      8000\n",
      "   macro avg       0.77      0.75      0.76      8000\n",
      "weighted avg       0.93      0.94      0.94      8000\n",
      "\n",
      "[[7175  238]\n",
      " [ 271  316]]\n"
     ]
    }
   ],
   "source": [
    "from sklearn.tree import ExtraTreeClassifier\n",
    "from lightgbm import LGBMClassifier\n",
    "\n",
    "second_layer_models = {\n",
    "    'extra_tree': ExtraTreeClassifier(random_state=seed),\n",
    "    'lightgbm': LGBMClassifier(random_state=seed)\n",
    "}\n",
    "\n",
    "for name, model in second_layer_models.items():\n",
    "    print(f\"{'*'*40} Model: {name} {'*'*40}\")\n",
    "    if name == 'extra_tree':\n",
    "        extra_tree = model\n",
    "        extra_tree.fit(X_train_resampled_random, y_train_resampled_random)\n",
    "        preds = extra_tree.predict(X_test)\n",
    "        print(classification_report(y_test, preds))\n",
    "        print(confusion_matrix(y_test, preds))\n",
    "    else:\n",
    "        lgbm = model\n",
    "        lgbm.fit(X_train_resampled_tomek, y_train_resampled_tomek)\n",
    "        preds = lgbm.predict(X_test)\n",
    "        print(classification_report(y_test, preds))\n",
    "        print(confusion_matrix(y_test, preds))"
   ]
  },
  {
   "cell_type": "code",
   "execution_count": 1759,
   "metadata": {},
   "outputs": [
    {
     "name": "stderr",
     "output_type": "stream",
     "text": [
      "/Users/smittyboop/Desktop/Term Deposit Marketing Project/.venv/lib/python3.9/site-packages/lightgbm/engine.py:204: UserWarning: Found `num_iterations` in params. Will use it instead of argument\n",
      "  _log_warning(f\"Found `{alias}` in params. Will use it instead of argument\")\n",
      "/Users/smittyboop/Desktop/Term Deposit Marketing Project/.venv/lib/python3.9/site-packages/lightgbm/engine.py:204: UserWarning: Found `num_iterations` in params. Will use it instead of argument\n",
      "  _log_warning(f\"Found `{alias}` in params. Will use it instead of argument\")\n",
      "/Users/smittyboop/Desktop/Term Deposit Marketing Project/.venv/lib/python3.9/site-packages/lightgbm/engine.py:204: UserWarning: Found `num_iterations` in params. Will use it instead of argument\n",
      "  _log_warning(f\"Found `{alias}` in params. Will use it instead of argument\")\n",
      "/Users/smittyboop/Desktop/Term Deposit Marketing Project/.venv/lib/python3.9/site-packages/lightgbm/engine.py:204: UserWarning: Found `num_iterations` in params. Will use it instead of argument\n",
      "  _log_warning(f\"Found `{alias}` in params. Will use it instead of argument\")\n",
      "/Users/smittyboop/Desktop/Term Deposit Marketing Project/.venv/lib/python3.9/site-packages/lightgbm/engine.py:204: UserWarning: Found `num_iterations` in params. Will use it instead of argument\n",
      "  _log_warning(f\"Found `{alias}` in params. Will use it instead of argument\")\n",
      "/Users/smittyboop/Desktop/Term Deposit Marketing Project/.venv/lib/python3.9/site-packages/lightgbm/engine.py:204: UserWarning: Found `num_iterations` in params. Will use it instead of argument\n",
      "  _log_warning(f\"Found `{alias}` in params. Will use it instead of argument\")\n",
      "/Users/smittyboop/Desktop/Term Deposit Marketing Project/.venv/lib/python3.9/site-packages/lightgbm/engine.py:204: UserWarning: Found `num_iterations` in params. Will use it instead of argument\n",
      "  _log_warning(f\"Found `{alias}` in params. Will use it instead of argument\")\n",
      "/Users/smittyboop/Desktop/Term Deposit Marketing Project/.venv/lib/python3.9/site-packages/lightgbm/engine.py:204: UserWarning: Found `num_iterations` in params. Will use it instead of argument\n",
      "  _log_warning(f\"Found `{alias}` in params. Will use it instead of argument\")\n",
      "/Users/smittyboop/Desktop/Term Deposit Marketing Project/.venv/lib/python3.9/site-packages/lightgbm/engine.py:204: UserWarning: Found `num_iterations` in params. Will use it instead of argument\n",
      "  _log_warning(f\"Found `{alias}` in params. Will use it instead of argument\")\n",
      "/Users/smittyboop/Desktop/Term Deposit Marketing Project/.venv/lib/python3.9/site-packages/lightgbm/engine.py:204: UserWarning: Found `num_iterations` in params. Will use it instead of argument\n",
      "  _log_warning(f\"Found `{alias}` in params. Will use it instead of argument\")\n",
      "/Users/smittyboop/Desktop/Term Deposit Marketing Project/.venv/lib/python3.9/site-packages/lightgbm/engine.py:204: UserWarning: Found `num_iterations` in params. Will use it instead of argument\n",
      "  _log_warning(f\"Found `{alias}` in params. Will use it instead of argument\")\n",
      "/Users/smittyboop/Desktop/Term Deposit Marketing Project/.venv/lib/python3.9/site-packages/lightgbm/engine.py:204: UserWarning: Found `num_iterations` in params. Will use it instead of argument\n",
      "  _log_warning(f\"Found `{alias}` in params. Will use it instead of argument\")\n",
      "/Users/smittyboop/Desktop/Term Deposit Marketing Project/.venv/lib/python3.9/site-packages/lightgbm/engine.py:204: UserWarning: Found `num_iterations` in params. Will use it instead of argument\n",
      "  _log_warning(f\"Found `{alias}` in params. Will use it instead of argument\")\n",
      "/Users/smittyboop/Desktop/Term Deposit Marketing Project/.venv/lib/python3.9/site-packages/lightgbm/engine.py:204: UserWarning: Found `num_iterations` in params. Will use it instead of argument\n",
      "  _log_warning(f\"Found `{alias}` in params. Will use it instead of argument\")\n",
      "/Users/smittyboop/Desktop/Term Deposit Marketing Project/.venv/lib/python3.9/site-packages/lightgbm/engine.py:204: UserWarning: Found `num_iterations` in params. Will use it instead of argument\n",
      "  _log_warning(f\"Found `{alias}` in params. Will use it instead of argument\")\n",
      "/Users/smittyboop/Desktop/Term Deposit Marketing Project/.venv/lib/python3.9/site-packages/lightgbm/engine.py:204: UserWarning: Found `num_iterations` in params. Will use it instead of argument\n",
      "  _log_warning(f\"Found `{alias}` in params. Will use it instead of argument\")\n",
      "/Users/smittyboop/Desktop/Term Deposit Marketing Project/.venv/lib/python3.9/site-packages/lightgbm/engine.py:204: UserWarning: Found `num_iterations` in params. Will use it instead of argument\n",
      "  _log_warning(f\"Found `{alias}` in params. Will use it instead of argument\")\n",
      "/Users/smittyboop/Desktop/Term Deposit Marketing Project/.venv/lib/python3.9/site-packages/lightgbm/engine.py:204: UserWarning: Found `num_iterations` in params. Will use it instead of argument\n",
      "  _log_warning(f\"Found `{alias}` in params. Will use it instead of argument\")\n",
      "/Users/smittyboop/Desktop/Term Deposit Marketing Project/.venv/lib/python3.9/site-packages/lightgbm/engine.py:204: UserWarning: Found `num_iterations` in params. Will use it instead of argument\n",
      "  _log_warning(f\"Found `{alias}` in params. Will use it instead of argument\")\n",
      "/Users/smittyboop/Desktop/Term Deposit Marketing Project/.venv/lib/python3.9/site-packages/lightgbm/engine.py:204: UserWarning: Found `num_iterations` in params. Will use it instead of argument\n",
      "  _log_warning(f\"Found `{alias}` in params. Will use it instead of argument\")\n",
      "/Users/smittyboop/Desktop/Term Deposit Marketing Project/.venv/lib/python3.9/site-packages/lightgbm/engine.py:204: UserWarning: Found `num_iterations` in params. Will use it instead of argument\n",
      "  _log_warning(f\"Found `{alias}` in params. Will use it instead of argument\")\n",
      "/Users/smittyboop/Desktop/Term Deposit Marketing Project/.venv/lib/python3.9/site-packages/lightgbm/engine.py:204: UserWarning: Found `num_iterations` in params. Will use it instead of argument\n",
      "  _log_warning(f\"Found `{alias}` in params. Will use it instead of argument\")\n",
      "/Users/smittyboop/Desktop/Term Deposit Marketing Project/.venv/lib/python3.9/site-packages/lightgbm/engine.py:204: UserWarning: Found `num_iterations` in params. Will use it instead of argument\n",
      "  _log_warning(f\"Found `{alias}` in params. Will use it instead of argument\")\n",
      "/Users/smittyboop/Desktop/Term Deposit Marketing Project/.venv/lib/python3.9/site-packages/lightgbm/engine.py:204: UserWarning: Found `num_iterations` in params. Will use it instead of argument\n",
      "  _log_warning(f\"Found `{alias}` in params. Will use it instead of argument\")\n",
      "/Users/smittyboop/Desktop/Term Deposit Marketing Project/.venv/lib/python3.9/site-packages/lightgbm/engine.py:204: UserWarning: Found `num_iterations` in params. Will use it instead of argument\n",
      "  _log_warning(f\"Found `{alias}` in params. Will use it instead of argument\")\n",
      "/Users/smittyboop/Desktop/Term Deposit Marketing Project/.venv/lib/python3.9/site-packages/lightgbm/engine.py:204: UserWarning: Found `num_iterations` in params. Will use it instead of argument\n",
      "  _log_warning(f\"Found `{alias}` in params. Will use it instead of argument\")\n",
      "/Users/smittyboop/Desktop/Term Deposit Marketing Project/.venv/lib/python3.9/site-packages/lightgbm/engine.py:204: UserWarning: Found `num_iterations` in params. Will use it instead of argument\n",
      "  _log_warning(f\"Found `{alias}` in params. Will use it instead of argument\")\n",
      "/Users/smittyboop/Desktop/Term Deposit Marketing Project/.venv/lib/python3.9/site-packages/lightgbm/engine.py:204: UserWarning: Found `num_iterations` in params. Will use it instead of argument\n",
      "  _log_warning(f\"Found `{alias}` in params. Will use it instead of argument\")\n",
      "/Users/smittyboop/Desktop/Term Deposit Marketing Project/.venv/lib/python3.9/site-packages/lightgbm/engine.py:204: UserWarning: Found `num_iterations` in params. Will use it instead of argument\n",
      "  _log_warning(f\"Found `{alias}` in params. Will use it instead of argument\")\n",
      "/Users/smittyboop/Desktop/Term Deposit Marketing Project/.venv/lib/python3.9/site-packages/lightgbm/engine.py:204: UserWarning: Found `num_iterations` in params. Will use it instead of argument\n",
      "  _log_warning(f\"Found `{alias}` in params. Will use it instead of argument\")\n",
      "/Users/smittyboop/Desktop/Term Deposit Marketing Project/.venv/lib/python3.9/site-packages/lightgbm/engine.py:204: UserWarning: Found `num_iterations` in params. Will use it instead of argument\n",
      "  _log_warning(f\"Found `{alias}` in params. Will use it instead of argument\")\n",
      "/Users/smittyboop/Desktop/Term Deposit Marketing Project/.venv/lib/python3.9/site-packages/lightgbm/engine.py:204: UserWarning: Found `num_iterations` in params. Will use it instead of argument\n",
      "  _log_warning(f\"Found `{alias}` in params. Will use it instead of argument\")\n",
      "/Users/smittyboop/Desktop/Term Deposit Marketing Project/.venv/lib/python3.9/site-packages/lightgbm/engine.py:204: UserWarning: Found `num_iterations` in params. Will use it instead of argument\n",
      "  _log_warning(f\"Found `{alias}` in params. Will use it instead of argument\")\n",
      "/Users/smittyboop/Desktop/Term Deposit Marketing Project/.venv/lib/python3.9/site-packages/lightgbm/engine.py:204: UserWarning: Found `num_iterations` in params. Will use it instead of argument\n",
      "  _log_warning(f\"Found `{alias}` in params. Will use it instead of argument\")\n",
      "/Users/smittyboop/Desktop/Term Deposit Marketing Project/.venv/lib/python3.9/site-packages/lightgbm/engine.py:204: UserWarning: Found `num_iterations` in params. Will use it instead of argument\n",
      "  _log_warning(f\"Found `{alias}` in params. Will use it instead of argument\")\n",
      "/Users/smittyboop/Desktop/Term Deposit Marketing Project/.venv/lib/python3.9/site-packages/lightgbm/engine.py:204: UserWarning: Found `num_iterations` in params. Will use it instead of argument\n",
      "  _log_warning(f\"Found `{alias}` in params. Will use it instead of argument\")\n",
      "/Users/smittyboop/Desktop/Term Deposit Marketing Project/.venv/lib/python3.9/site-packages/lightgbm/engine.py:204: UserWarning: Found `num_iterations` in params. Will use it instead of argument\n",
      "  _log_warning(f\"Found `{alias}` in params. Will use it instead of argument\")\n",
      "/Users/smittyboop/Desktop/Term Deposit Marketing Project/.venv/lib/python3.9/site-packages/lightgbm/engine.py:204: UserWarning: Found `num_iterations` in params. Will use it instead of argument\n",
      "  _log_warning(f\"Found `{alias}` in params. Will use it instead of argument\")\n",
      "/Users/smittyboop/Desktop/Term Deposit Marketing Project/.venv/lib/python3.9/site-packages/lightgbm/engine.py:204: UserWarning: Found `num_iterations` in params. Will use it instead of argument\n",
      "  _log_warning(f\"Found `{alias}` in params. Will use it instead of argument\")\n",
      "/Users/smittyboop/Desktop/Term Deposit Marketing Project/.venv/lib/python3.9/site-packages/lightgbm/engine.py:204: UserWarning: Found `num_iterations` in params. Will use it instead of argument\n",
      "  _log_warning(f\"Found `{alias}` in params. Will use it instead of argument\")\n",
      "/Users/smittyboop/Desktop/Term Deposit Marketing Project/.venv/lib/python3.9/site-packages/lightgbm/engine.py:204: UserWarning: Found `num_iterations` in params. Will use it instead of argument\n",
      "  _log_warning(f\"Found `{alias}` in params. Will use it instead of argument\")\n",
      "/Users/smittyboop/Desktop/Term Deposit Marketing Project/.venv/lib/python3.9/site-packages/lightgbm/engine.py:204: UserWarning: Found `num_iterations` in params. Will use it instead of argument\n",
      "  _log_warning(f\"Found `{alias}` in params. Will use it instead of argument\")\n",
      "/Users/smittyboop/Desktop/Term Deposit Marketing Project/.venv/lib/python3.9/site-packages/lightgbm/engine.py:204: UserWarning: Found `num_iterations` in params. Will use it instead of argument\n",
      "  _log_warning(f\"Found `{alias}` in params. Will use it instead of argument\")\n",
      "/Users/smittyboop/Desktop/Term Deposit Marketing Project/.venv/lib/python3.9/site-packages/lightgbm/engine.py:204: UserWarning: Found `num_iterations` in params. Will use it instead of argument\n",
      "  _log_warning(f\"Found `{alias}` in params. Will use it instead of argument\")\n",
      "/Users/smittyboop/Desktop/Term Deposit Marketing Project/.venv/lib/python3.9/site-packages/lightgbm/engine.py:204: UserWarning: Found `num_iterations` in params. Will use it instead of argument\n",
      "  _log_warning(f\"Found `{alias}` in params. Will use it instead of argument\")\n",
      "/Users/smittyboop/Desktop/Term Deposit Marketing Project/.venv/lib/python3.9/site-packages/lightgbm/engine.py:204: UserWarning: Found `num_iterations` in params. Will use it instead of argument\n",
      "  _log_warning(f\"Found `{alias}` in params. Will use it instead of argument\")\n",
      "/Users/smittyboop/Desktop/Term Deposit Marketing Project/.venv/lib/python3.9/site-packages/lightgbm/engine.py:204: UserWarning: Found `num_iterations` in params. Will use it instead of argument\n",
      "  _log_warning(f\"Found `{alias}` in params. Will use it instead of argument\")\n",
      "/Users/smittyboop/Desktop/Term Deposit Marketing Project/.venv/lib/python3.9/site-packages/lightgbm/engine.py:204: UserWarning: Found `num_iterations` in params. Will use it instead of argument\n",
      "  _log_warning(f\"Found `{alias}` in params. Will use it instead of argument\")\n",
      "/Users/smittyboop/Desktop/Term Deposit Marketing Project/.venv/lib/python3.9/site-packages/lightgbm/engine.py:204: UserWarning: Found `num_iterations` in params. Will use it instead of argument\n",
      "  _log_warning(f\"Found `{alias}` in params. Will use it instead of argument\")\n",
      "/Users/smittyboop/Desktop/Term Deposit Marketing Project/.venv/lib/python3.9/site-packages/lightgbm/engine.py:204: UserWarning: Found `num_iterations` in params. Will use it instead of argument\n",
      "  _log_warning(f\"Found `{alias}` in params. Will use it instead of argument\")\n"
     ]
    },
    {
     "name": "stdout",
     "output_type": "stream",
     "text": [
      "              precision    recall  f1-score   support\n",
      "\n",
      "           0       0.98      0.87      0.92      7413\n",
      "           1       0.33      0.78      0.46       587\n",
      "\n",
      "    accuracy                           0.87      8000\n",
      "   macro avg       0.65      0.83      0.69      8000\n",
      "weighted avg       0.93      0.87      0.89      8000\n",
      "\n",
      "[[6463  950]\n",
      " [ 129  458]]\n"
     ]
    }
   ],
   "source": [
    "params = {\n",
    "    'max_depth': np.arange(1,8),\n",
    "    'num_leaves': np.arange(2,100,10),\n",
    "    'min_data_in_leaf': np.arange(100,10000,10),\n",
    "    'num_iterations': np.arange(2,10),\n",
    "    'force_row_wise': [True],\n",
    "    'verbose': [-1]\n",
    "}\n",
    "\n",
    "grid = RandomizedSearchCV(estimator=second_layer_models['lightgbm'], param_distributions=params, n_jobs=-1, random_state=seed, cv=5, scoring='precision')\n",
    "\n",
    "grid.fit(X_train_resampled_tomek, y_train_resampled_tomek)\n",
    "preds = grid.predict(X_test)\n",
    "print(classification_report(y_test, preds))\n",
    "print(confusion_matrix(y_test, preds))"
   ]
  },
  {
   "cell_type": "code",
   "execution_count": 1760,
   "metadata": {},
   "outputs": [
    {
     "name": "stderr",
     "output_type": "stream",
     "text": [
      "[I 2024-09-28 15:18:45,073] A new study created in memory with name: no-name-870cc8aa-9b85-4f33-b06b-0833b084db9c\n",
      "[W 2024-09-28 15:18:53,566] Trial 0 failed with parameters: {'lgb_max_depth': 3, 'lgb_num_leaves': 59, 'lgb_min_data_in_leaf': 3857, 'lgb_num_iter': 3} because of the following error: The value None could not be cast to float..\n",
      "[W 2024-09-28 15:18:53,572] Trial 0 failed with value None.\n"
     ]
    },
    {
     "name": "stdout",
     "output_type": "stream",
     "text": [
      "              precision    recall  f1-score   support\n",
      "\n",
      "           0       0.98      0.83      0.90      7413\n",
      "           1       0.27      0.79      0.41       587\n",
      "\n",
      "    accuracy                           0.83      8000\n",
      "   macro avg       0.63      0.81      0.65      8000\n",
      "weighted avg       0.93      0.83      0.86      8000\n",
      "\n",
      "[[6179 1234]\n",
      " [ 123  464]]\n"
     ]
    },
    {
     "name": "stderr",
     "output_type": "stream",
     "text": [
      "[W 2024-09-28 15:19:04,873] Trial 1 failed with parameters: {'lgb_max_depth': 5, 'lgb_num_leaves': 13, 'lgb_min_data_in_leaf': 3963, 'lgb_num_iter': 6} because of the following error: The value None could not be cast to float..\n",
      "[W 2024-09-28 15:19:04,875] Trial 1 failed with value None.\n"
     ]
    },
    {
     "name": "stdout",
     "output_type": "stream",
     "text": [
      "              precision    recall  f1-score   support\n",
      "\n",
      "           0       0.98      0.83      0.90      7413\n",
      "           1       0.27      0.79      0.40       587\n",
      "\n",
      "    accuracy                           0.83      8000\n",
      "   macro avg       0.62      0.81      0.65      8000\n",
      "weighted avg       0.93      0.83      0.86      8000\n",
      "\n",
      "[[6153 1260]\n",
      " [ 124  463]]\n"
     ]
    },
    {
     "name": "stderr",
     "output_type": "stream",
     "text": [
      "[W 2024-09-28 15:19:14,956] Trial 2 failed with parameters: {'lgb_max_depth': 4, 'lgb_num_leaves': 27, 'lgb_min_data_in_leaf': 629, 'lgb_num_iter': 3} because of the following error: The value None could not be cast to float..\n",
      "[W 2024-09-28 15:19:14,957] Trial 2 failed with value None.\n"
     ]
    },
    {
     "name": "stdout",
     "output_type": "stream",
     "text": [
      "              precision    recall  f1-score   support\n",
      "\n",
      "           0       0.98      0.86      0.92      7413\n",
      "           1       0.31      0.78      0.45       587\n",
      "\n",
      "    accuracy                           0.86      8000\n",
      "   macro avg       0.65      0.82      0.68      8000\n",
      "weighted avg       0.93      0.86      0.88      8000\n",
      "\n",
      "[[6409 1004]\n",
      " [ 128  459]]\n"
     ]
    },
    {
     "name": "stderr",
     "output_type": "stream",
     "text": [
      "[W 2024-09-28 15:19:25,240] Trial 3 failed with parameters: {'lgb_max_depth': 1, 'lgb_num_leaves': 69, 'lgb_min_data_in_leaf': 821, 'lgb_num_iter': 6} because of the following error: The value None could not be cast to float..\n",
      "[W 2024-09-28 15:19:25,242] Trial 3 failed with value None.\n"
     ]
    },
    {
     "name": "stdout",
     "output_type": "stream",
     "text": [
      "              precision    recall  f1-score   support\n",
      "\n",
      "           0       0.98      0.84      0.90      7413\n",
      "           1       0.26      0.74      0.39       587\n",
      "\n",
      "    accuracy                           0.83      8000\n",
      "   macro avg       0.62      0.79      0.65      8000\n",
      "weighted avg       0.92      0.83      0.86      8000\n",
      "\n",
      "[[6203 1210]\n",
      " [ 153  434]]\n"
     ]
    },
    {
     "name": "stderr",
     "output_type": "stream",
     "text": [
      "[W 2024-09-28 15:19:32,756] Trial 4 failed with parameters: {'lgb_max_depth': 6, 'lgb_num_leaves': 4, 'lgb_min_data_in_leaf': 969, 'lgb_num_iter': 9} because of the following error: The value None could not be cast to float..\n",
      "[W 2024-09-28 15:19:32,757] Trial 4 failed with value None.\n"
     ]
    },
    {
     "name": "stdout",
     "output_type": "stream",
     "text": [
      "              precision    recall  f1-score   support\n",
      "\n",
      "           0       0.98      0.85      0.91      7413\n",
      "           1       0.30      0.80      0.44       587\n",
      "\n",
      "    accuracy                           0.85      8000\n",
      "   macro avg       0.64      0.83      0.68      8000\n",
      "weighted avg       0.93      0.85      0.88      8000\n",
      "\n",
      "[[6338 1075]\n",
      " [ 116  471]]\n"
     ]
    },
    {
     "name": "stderr",
     "output_type": "stream",
     "text": [
      "[W 2024-09-28 15:19:40,235] Trial 5 failed with parameters: {'lgb_max_depth': 5, 'lgb_num_leaves': 2, 'lgb_min_data_in_leaf': 7384, 'lgb_num_iter': 2} because of the following error: The value None could not be cast to float..\n",
      "[W 2024-09-28 15:19:40,237] Trial 5 failed with value None.\n"
     ]
    },
    {
     "name": "stdout",
     "output_type": "stream",
     "text": [
      "              precision    recall  f1-score   support\n",
      "\n",
      "           0       0.98      0.84      0.90      7413\n",
      "           1       0.26      0.74      0.39       587\n",
      "\n",
      "    accuracy                           0.83      8000\n",
      "   macro avg       0.62      0.79      0.65      8000\n",
      "weighted avg       0.92      0.83      0.86      8000\n",
      "\n",
      "[[6203 1210]\n",
      " [ 153  434]]\n"
     ]
    },
    {
     "name": "stderr",
     "output_type": "stream",
     "text": [
      "[W 2024-09-28 15:19:47,813] Trial 6 failed with parameters: {'lgb_max_depth': 4, 'lgb_num_leaves': 6, 'lgb_min_data_in_leaf': 269, 'lgb_num_iter': 5} because of the following error: The value None could not be cast to float..\n",
      "[W 2024-09-28 15:19:47,814] Trial 6 failed with value None.\n"
     ]
    },
    {
     "name": "stdout",
     "output_type": "stream",
     "text": [
      "              precision    recall  f1-score   support\n",
      "\n",
      "           0       0.98      0.85      0.91      7413\n",
      "           1       0.29      0.82      0.43       587\n",
      "\n",
      "    accuracy                           0.84      8000\n",
      "   macro avg       0.64      0.83      0.67      8000\n",
      "weighted avg       0.93      0.84      0.87      8000\n",
      "\n",
      "[[6266 1147]\n",
      " [ 108  479]]\n"
     ]
    },
    {
     "name": "stderr",
     "output_type": "stream",
     "text": [
      "[W 2024-09-28 15:19:55,290] Trial 7 failed with parameters: {'lgb_max_depth': 1, 'lgb_num_leaves': 27, 'lgb_min_data_in_leaf': 1865, 'lgb_num_iter': 7} because of the following error: The value None could not be cast to float..\n",
      "[W 2024-09-28 15:19:55,291] Trial 7 failed with value None.\n"
     ]
    },
    {
     "name": "stdout",
     "output_type": "stream",
     "text": [
      "              precision    recall  f1-score   support\n",
      "\n",
      "           0       0.98      0.84      0.90      7413\n",
      "           1       0.26      0.74      0.39       587\n",
      "\n",
      "    accuracy                           0.83      8000\n",
      "   macro avg       0.62      0.79      0.65      8000\n",
      "weighted avg       0.92      0.83      0.86      8000\n",
      "\n",
      "[[6203 1210]\n",
      " [ 153  434]]\n"
     ]
    },
    {
     "name": "stderr",
     "output_type": "stream",
     "text": [
      "[W 2024-09-28 15:20:03,023] Trial 8 failed with parameters: {'lgb_max_depth': 3, 'lgb_num_leaves': 71, 'lgb_min_data_in_leaf': 4135, 'lgb_num_iter': 2} because of the following error: The value None could not be cast to float..\n",
      "[W 2024-09-28 15:20:03,024] Trial 8 failed with value None.\n"
     ]
    },
    {
     "name": "stdout",
     "output_type": "stream",
     "text": [
      "              precision    recall  f1-score   support\n",
      "\n",
      "           0       0.98      0.84      0.90      7413\n",
      "           1       0.27      0.74      0.39       587\n",
      "\n",
      "    accuracy                           0.83      8000\n",
      "   macro avg       0.62      0.79      0.65      8000\n",
      "weighted avg       0.92      0.83      0.87      8000\n",
      "\n",
      "[[6222 1191]\n",
      " [ 153  434]]\n"
     ]
    },
    {
     "name": "stderr",
     "output_type": "stream",
     "text": [
      "[W 2024-09-28 15:20:10,347] Trial 9 failed with parameters: {'lgb_max_depth': 3, 'lgb_num_leaves': 11, 'lgb_min_data_in_leaf': 4197, 'lgb_num_iter': 6} because of the following error: The value None could not be cast to float..\n",
      "[W 2024-09-28 15:20:10,347] Trial 9 failed with value None.\n"
     ]
    },
    {
     "name": "stdout",
     "output_type": "stream",
     "text": [
      "              precision    recall  f1-score   support\n",
      "\n",
      "           0       0.98      0.83      0.90      7413\n",
      "           1       0.26      0.77      0.39       587\n",
      "\n",
      "    accuracy                           0.82      8000\n",
      "   macro avg       0.62      0.80      0.64      8000\n",
      "weighted avg       0.93      0.82      0.86      8000\n",
      "\n",
      "[[6143 1270]\n",
      " [ 137  450]]\n"
     ]
    },
    {
     "name": "stderr",
     "output_type": "stream",
     "text": [
      "[W 2024-09-28 15:20:19,819] Trial 10 failed with parameters: {'lgb_max_depth': 1, 'lgb_num_leaves': 29, 'lgb_min_data_in_leaf': 539, 'lgb_num_iter': 6} because of the following error: The value None could not be cast to float..\n",
      "[W 2024-09-28 15:20:19,820] Trial 10 failed with value None.\n"
     ]
    },
    {
     "name": "stdout",
     "output_type": "stream",
     "text": [
      "              precision    recall  f1-score   support\n",
      "\n",
      "           0       0.98      0.84      0.90      7413\n",
      "           1       0.26      0.74      0.39       587\n",
      "\n",
      "    accuracy                           0.83      8000\n",
      "   macro avg       0.62      0.79      0.65      8000\n",
      "weighted avg       0.92      0.83      0.86      8000\n",
      "\n",
      "[[6203 1210]\n",
      " [ 153  434]]\n"
     ]
    },
    {
     "name": "stderr",
     "output_type": "stream",
     "text": [
      "[W 2024-09-28 15:20:29,650] Trial 11 failed with parameters: {'lgb_max_depth': 3, 'lgb_num_leaves': 96, 'lgb_min_data_in_leaf': 695, 'lgb_num_iter': 7} because of the following error: The value None could not be cast to float..\n",
      "[W 2024-09-28 15:20:29,651] Trial 11 failed with value None.\n"
     ]
    },
    {
     "name": "stdout",
     "output_type": "stream",
     "text": [
      "              precision    recall  f1-score   support\n",
      "\n",
      "           0       0.98      0.86      0.92      7413\n",
      "           1       0.31      0.78      0.45       587\n",
      "\n",
      "    accuracy                           0.86      8000\n",
      "   macro avg       0.65      0.82      0.68      8000\n",
      "weighted avg       0.93      0.86      0.88      8000\n",
      "\n",
      "[[6405 1008]\n",
      " [ 127  460]]\n"
     ]
    },
    {
     "name": "stderr",
     "output_type": "stream",
     "text": [
      "[W 2024-09-28 15:20:37,561] Trial 12 failed with parameters: {'lgb_max_depth': 7, 'lgb_num_leaves': 7, 'lgb_min_data_in_leaf': 906, 'lgb_num_iter': 4} because of the following error: The value None could not be cast to float..\n",
      "[W 2024-09-28 15:20:37,562] Trial 12 failed with value None.\n"
     ]
    },
    {
     "name": "stdout",
     "output_type": "stream",
     "text": [
      "              precision    recall  f1-score   support\n",
      "\n",
      "           0       0.98      0.86      0.92      7413\n",
      "           1       0.31      0.80      0.45       587\n",
      "\n",
      "    accuracy                           0.85      8000\n",
      "   macro avg       0.65      0.83      0.68      8000\n",
      "weighted avg       0.93      0.85      0.88      8000\n",
      "\n",
      "[[6370 1043]\n",
      " [ 117  470]]\n"
     ]
    },
    {
     "name": "stderr",
     "output_type": "stream",
     "text": [
      "[W 2024-09-28 15:20:45,493] Trial 13 failed with parameters: {'lgb_max_depth': 6, 'lgb_num_leaves': 50, 'lgb_min_data_in_leaf': 430, 'lgb_num_iter': 6} because of the following error: The value None could not be cast to float..\n",
      "[W 2024-09-28 15:20:45,495] Trial 13 failed with value None.\n"
     ]
    },
    {
     "name": "stdout",
     "output_type": "stream",
     "text": [
      "              precision    recall  f1-score   support\n",
      "\n",
      "           0       0.98      0.88      0.93      7413\n",
      "           1       0.34      0.80      0.48       587\n",
      "\n",
      "    accuracy                           0.87      8000\n",
      "   macro avg       0.66      0.84      0.70      8000\n",
      "weighted avg       0.94      0.87      0.89      8000\n",
      "\n",
      "[[6513  900]\n",
      " [ 117  470]]\n"
     ]
    },
    {
     "name": "stderr",
     "output_type": "stream",
     "text": [
      "[W 2024-09-28 15:20:53,117] Trial 14 failed with parameters: {'lgb_max_depth': 2, 'lgb_num_leaves': 21, 'lgb_min_data_in_leaf': 135, 'lgb_num_iter': 6} because of the following error: The value None could not be cast to float..\n",
      "[W 2024-09-28 15:20:53,118] Trial 14 failed with value None.\n"
     ]
    },
    {
     "name": "stdout",
     "output_type": "stream",
     "text": [
      "              precision    recall  f1-score   support\n",
      "\n",
      "           0       0.98      0.85      0.91      7413\n",
      "           1       0.29      0.76      0.42       587\n",
      "\n",
      "    accuracy                           0.85      8000\n",
      "   macro avg       0.63      0.80      0.67      8000\n",
      "weighted avg       0.93      0.85      0.88      8000\n",
      "\n",
      "[[6327 1086]\n",
      " [ 143  444]]\n"
     ]
    },
    {
     "name": "stderr",
     "output_type": "stream",
     "text": [
      "[W 2024-09-28 15:21:00,574] Trial 15 failed with parameters: {'lgb_max_depth': 1, 'lgb_num_leaves': 64, 'lgb_min_data_in_leaf': 6126, 'lgb_num_iter': 2} because of the following error: The value None could not be cast to float..\n",
      "[W 2024-09-28 15:21:00,576] Trial 15 failed with value None.\n"
     ]
    },
    {
     "name": "stdout",
     "output_type": "stream",
     "text": [
      "              precision    recall  f1-score   support\n",
      "\n",
      "           0       0.98      0.84      0.90      7413\n",
      "           1       0.26      0.74      0.39       587\n",
      "\n",
      "    accuracy                           0.83      8000\n",
      "   macro avg       0.62      0.79      0.65      8000\n",
      "weighted avg       0.92      0.83      0.86      8000\n",
      "\n",
      "[[6203 1210]\n",
      " [ 153  434]]\n"
     ]
    },
    {
     "name": "stderr",
     "output_type": "stream",
     "text": [
      "[W 2024-09-28 15:21:07,992] Trial 16 failed with parameters: {'lgb_max_depth': 8, 'lgb_num_leaves': 94, 'lgb_min_data_in_leaf': 655, 'lgb_num_iter': 2} because of the following error: The value None could not be cast to float..\n",
      "[W 2024-09-28 15:21:07,992] Trial 16 failed with value None.\n"
     ]
    },
    {
     "name": "stdout",
     "output_type": "stream",
     "text": [
      "              precision    recall  f1-score   support\n",
      "\n",
      "           0       0.98      0.87      0.92      7413\n",
      "           1       0.33      0.81      0.47       587\n",
      "\n",
      "    accuracy                           0.87      8000\n",
      "   macro avg       0.66      0.84      0.70      8000\n",
      "weighted avg       0.94      0.87      0.89      8000\n",
      "\n",
      "[[6453  960]\n",
      " [ 110  477]]\n"
     ]
    },
    {
     "name": "stderr",
     "output_type": "stream",
     "text": [
      "[W 2024-09-28 15:21:15,286] Trial 17 failed with parameters: {'lgb_max_depth': 2, 'lgb_num_leaves': 22, 'lgb_min_data_in_leaf': 503, 'lgb_num_iter': 9} because of the following error: The value None could not be cast to float..\n",
      "[W 2024-09-28 15:21:15,287] Trial 17 failed with value None.\n"
     ]
    },
    {
     "name": "stdout",
     "output_type": "stream",
     "text": [
      "              precision    recall  f1-score   support\n",
      "\n",
      "           0       0.98      0.85      0.91      7413\n",
      "           1       0.29      0.77      0.42       587\n",
      "\n",
      "    accuracy                           0.84      8000\n",
      "   macro avg       0.63      0.81      0.67      8000\n",
      "weighted avg       0.93      0.84      0.87      8000\n",
      "\n",
      "[[6301 1112]\n",
      " [ 133  454]]\n"
     ]
    },
    {
     "name": "stderr",
     "output_type": "stream",
     "text": [
      "[W 2024-09-28 15:21:22,890] Trial 18 failed with parameters: {'lgb_max_depth': 6, 'lgb_num_leaves': 37, 'lgb_min_data_in_leaf': 110, 'lgb_num_iter': 3} because of the following error: The value None could not be cast to float..\n",
      "[W 2024-09-28 15:21:22,891] Trial 18 failed with value None.\n"
     ]
    },
    {
     "name": "stdout",
     "output_type": "stream",
     "text": [
      "              precision    recall  f1-score   support\n",
      "\n",
      "           0       0.98      0.89      0.94      7413\n",
      "           1       0.37      0.81      0.51       587\n",
      "\n",
      "    accuracy                           0.89      8000\n",
      "   macro avg       0.68      0.85      0.72      8000\n",
      "weighted avg       0.94      0.89      0.90      8000\n",
      "\n",
      "[[6618  795]\n",
      " [ 114  473]]\n"
     ]
    },
    {
     "name": "stderr",
     "output_type": "stream",
     "text": [
      "[W 2024-09-28 15:21:30,434] Trial 19 failed with parameters: {'lgb_max_depth': 1, 'lgb_num_leaves': 23, 'lgb_min_data_in_leaf': 1307, 'lgb_num_iter': 6} because of the following error: The value None could not be cast to float..\n",
      "[W 2024-09-28 15:21:30,435] Trial 19 failed with value None.\n"
     ]
    },
    {
     "name": "stdout",
     "output_type": "stream",
     "text": [
      "              precision    recall  f1-score   support\n",
      "\n",
      "           0       0.98      0.84      0.90      7413\n",
      "           1       0.26      0.74      0.39       587\n",
      "\n",
      "    accuracy                           0.83      8000\n",
      "   macro avg       0.62      0.79      0.65      8000\n",
      "weighted avg       0.92      0.83      0.86      8000\n",
      "\n",
      "[[6203 1210]\n",
      " [ 153  434]]\n"
     ]
    },
    {
     "name": "stderr",
     "output_type": "stream",
     "text": [
      "[W 2024-09-28 15:21:37,790] Trial 20 failed with parameters: {'lgb_max_depth': 4, 'lgb_num_leaves': 48, 'lgb_min_data_in_leaf': 353, 'lgb_num_iter': 7} because of the following error: The value None could not be cast to float..\n",
      "[W 2024-09-28 15:21:37,791] Trial 20 failed with value None.\n"
     ]
    },
    {
     "name": "stdout",
     "output_type": "stream",
     "text": [
      "              precision    recall  f1-score   support\n",
      "\n",
      "           0       0.98      0.87      0.92      7413\n",
      "           1       0.32      0.78      0.45       587\n",
      "\n",
      "    accuracy                           0.86      8000\n",
      "   macro avg       0.65      0.82      0.69      8000\n",
      "weighted avg       0.93      0.86      0.89      8000\n",
      "\n",
      "[[6427  986]\n",
      " [ 130  457]]\n"
     ]
    },
    {
     "name": "stderr",
     "output_type": "stream",
     "text": [
      "[W 2024-09-28 15:21:45,288] Trial 21 failed with parameters: {'lgb_max_depth': 3, 'lgb_num_leaves': 30, 'lgb_min_data_in_leaf': 118, 'lgb_num_iter': 8} because of the following error: The value None could not be cast to float..\n",
      "[W 2024-09-28 15:21:45,289] Trial 21 failed with value None.\n"
     ]
    },
    {
     "name": "stdout",
     "output_type": "stream",
     "text": [
      "              precision    recall  f1-score   support\n",
      "\n",
      "           0       0.98      0.86      0.92      7413\n",
      "           1       0.31      0.78      0.45       587\n",
      "\n",
      "    accuracy                           0.86      8000\n",
      "   macro avg       0.65      0.82      0.68      8000\n",
      "weighted avg       0.93      0.86      0.88      8000\n",
      "\n",
      "[[6412 1001]\n",
      " [ 128  459]]\n"
     ]
    },
    {
     "name": "stderr",
     "output_type": "stream",
     "text": [
      "[W 2024-09-28 15:21:52,812] Trial 22 failed with parameters: {'lgb_max_depth': 1, 'lgb_num_leaves': 13, 'lgb_min_data_in_leaf': 101, 'lgb_num_iter': 4} because of the following error: The value None could not be cast to float..\n",
      "[W 2024-09-28 15:21:52,813] Trial 22 failed with value None.\n"
     ]
    },
    {
     "name": "stdout",
     "output_type": "stream",
     "text": [
      "              precision    recall  f1-score   support\n",
      "\n",
      "           0       0.98      0.84      0.90      7413\n",
      "           1       0.26      0.74      0.39       587\n",
      "\n",
      "    accuracy                           0.83      8000\n",
      "   macro avg       0.62      0.79      0.65      8000\n",
      "weighted avg       0.92      0.83      0.86      8000\n",
      "\n",
      "[[6203 1210]\n",
      " [ 153  434]]\n"
     ]
    },
    {
     "name": "stderr",
     "output_type": "stream",
     "text": [
      "[W 2024-09-28 15:22:00,543] Trial 23 failed with parameters: {'lgb_max_depth': 4, 'lgb_num_leaves': 26, 'lgb_min_data_in_leaf': 1677, 'lgb_num_iter': 4} because of the following error: The value None could not be cast to float..\n",
      "[W 2024-09-28 15:22:00,544] Trial 23 failed with value None.\n"
     ]
    },
    {
     "name": "stdout",
     "output_type": "stream",
     "text": [
      "              precision    recall  f1-score   support\n",
      "\n",
      "           0       0.97      0.87      0.92      7413\n",
      "           1       0.30      0.71      0.42       587\n",
      "\n",
      "    accuracy                           0.86      8000\n",
      "   macro avg       0.64      0.79      0.67      8000\n",
      "weighted avg       0.93      0.86      0.88      8000\n",
      "\n",
      "[[6439  974]\n",
      " [ 168  419]]\n"
     ]
    },
    {
     "name": "stderr",
     "output_type": "stream",
     "text": [
      "[W 2024-09-28 15:22:07,984] Trial 24 failed with parameters: {'lgb_max_depth': 3, 'lgb_num_leaves': 59, 'lgb_min_data_in_leaf': 322, 'lgb_num_iter': 10} because of the following error: The value None could not be cast to float..\n",
      "[W 2024-09-28 15:22:07,985] Trial 24 failed with value None.\n"
     ]
    },
    {
     "name": "stdout",
     "output_type": "stream",
     "text": [
      "              precision    recall  f1-score   support\n",
      "\n",
      "           0       0.98      0.86      0.92      7413\n",
      "           1       0.31      0.78      0.45       587\n",
      "\n",
      "    accuracy                           0.86      8000\n",
      "   macro avg       0.65      0.82      0.68      8000\n",
      "weighted avg       0.93      0.86      0.88      8000\n",
      "\n",
      "[[6404 1009]\n",
      " [ 128  459]]\n"
     ]
    },
    {
     "name": "stderr",
     "output_type": "stream",
     "text": [
      "[W 2024-09-28 15:22:15,656] Trial 25 failed with parameters: {'lgb_max_depth': 5, 'lgb_num_leaves': 75, 'lgb_min_data_in_leaf': 564, 'lgb_num_iter': 3} because of the following error: The value None could not be cast to float..\n",
      "[W 2024-09-28 15:22:15,657] Trial 25 failed with value None.\n"
     ]
    },
    {
     "name": "stdout",
     "output_type": "stream",
     "text": [
      "              precision    recall  f1-score   support\n",
      "\n",
      "           0       0.98      0.88      0.93      7413\n",
      "           1       0.35      0.79      0.48       587\n",
      "\n",
      "    accuracy                           0.88      8000\n",
      "   macro avg       0.66      0.84      0.71      8000\n",
      "weighted avg       0.94      0.88      0.90      8000\n",
      "\n",
      "[[6539  874]\n",
      " [ 121  466]]\n"
     ]
    },
    {
     "name": "stderr",
     "output_type": "stream",
     "text": [
      "[W 2024-09-28 15:22:24,412] Trial 26 failed with parameters: {'lgb_max_depth': 8, 'lgb_num_leaves': 61, 'lgb_min_data_in_leaf': 2036, 'lgb_num_iter': 7} because of the following error: The value None could not be cast to float..\n",
      "[W 2024-09-28 15:22:24,413] Trial 26 failed with value None.\n"
     ]
    },
    {
     "name": "stdout",
     "output_type": "stream",
     "text": [
      "              precision    recall  f1-score   support\n",
      "\n",
      "           0       0.98      0.85      0.91      7413\n",
      "           1       0.29      0.79      0.43       587\n",
      "\n",
      "    accuracy                           0.84      8000\n",
      "   macro avg       0.64      0.82      0.67      8000\n",
      "weighted avg       0.93      0.84      0.87      8000\n",
      "\n",
      "[[6290 1123]\n",
      " [ 122  465]]\n"
     ]
    },
    {
     "name": "stderr",
     "output_type": "stream",
     "text": [
      "[W 2024-09-28 15:22:32,113] Trial 27 failed with parameters: {'lgb_max_depth': 5, 'lgb_num_leaves': 6, 'lgb_min_data_in_leaf': 2789, 'lgb_num_iter': 2} because of the following error: The value None could not be cast to float..\n",
      "[W 2024-09-28 15:22:32,114] Trial 27 failed with value None.\n"
     ]
    },
    {
     "name": "stdout",
     "output_type": "stream",
     "text": [
      "              precision    recall  f1-score   support\n",
      "\n",
      "           0       0.98      0.79      0.88      7413\n",
      "           1       0.24      0.82      0.37       587\n",
      "\n",
      "    accuracy                           0.79      8000\n",
      "   macro avg       0.61      0.80      0.62      8000\n",
      "weighted avg       0.93      0.79      0.84      8000\n",
      "\n",
      "[[5868 1545]\n",
      " [ 107  480]]\n"
     ]
    },
    {
     "name": "stderr",
     "output_type": "stream",
     "text": [
      "[W 2024-09-28 15:22:39,666] Trial 28 failed with parameters: {'lgb_max_depth': 3, 'lgb_num_leaves': 7, 'lgb_min_data_in_leaf': 1279, 'lgb_num_iter': 7} because of the following error: The value None could not be cast to float..\n",
      "[W 2024-09-28 15:22:39,667] Trial 28 failed with value None.\n"
     ]
    },
    {
     "name": "stdout",
     "output_type": "stream",
     "text": [
      "              precision    recall  f1-score   support\n",
      "\n",
      "           0       0.98      0.87      0.92      7413\n",
      "           1       0.31      0.76      0.44       587\n",
      "\n",
      "    accuracy                           0.86      8000\n",
      "   macro avg       0.64      0.81      0.68      8000\n",
      "weighted avg       0.93      0.86      0.88      8000\n",
      "\n",
      "[[6426  987]\n",
      " [ 142  445]]\n"
     ]
    },
    {
     "name": "stderr",
     "output_type": "stream",
     "text": [
      "[W 2024-09-28 15:22:47,210] Trial 29 failed with parameters: {'lgb_max_depth': 3, 'lgb_num_leaves': 38, 'lgb_min_data_in_leaf': 3545, 'lgb_num_iter': 4} because of the following error: The value None could not be cast to float..\n",
      "[W 2024-09-28 15:22:47,212] Trial 29 failed with value None.\n"
     ]
    },
    {
     "name": "stdout",
     "output_type": "stream",
     "text": [
      "              precision    recall  f1-score   support\n",
      "\n",
      "           0       0.98      0.80      0.88      7413\n",
      "           1       0.24      0.81      0.38       587\n",
      "\n",
      "    accuracy                           0.80      8000\n",
      "   macro avg       0.61      0.81      0.63      8000\n",
      "weighted avg       0.93      0.80      0.85      8000\n",
      "\n",
      "[[5944 1469]\n",
      " [ 111  476]]\n"
     ]
    },
    {
     "name": "stderr",
     "output_type": "stream",
     "text": [
      "[W 2024-09-28 15:22:54,869] Trial 30 failed with parameters: {'lgb_max_depth': 1, 'lgb_num_leaves': 19, 'lgb_min_data_in_leaf': 792, 'lgb_num_iter': 10} because of the following error: The value None could not be cast to float..\n",
      "[W 2024-09-28 15:22:54,871] Trial 30 failed with value None.\n"
     ]
    },
    {
     "name": "stdout",
     "output_type": "stream",
     "text": [
      "              precision    recall  f1-score   support\n",
      "\n",
      "           0       0.98      0.84      0.90      7413\n",
      "           1       0.26      0.74      0.39       587\n",
      "\n",
      "    accuracy                           0.83      8000\n",
      "   macro avg       0.62      0.79      0.65      8000\n",
      "weighted avg       0.92      0.83      0.86      8000\n",
      "\n",
      "[[6203 1210]\n",
      " [ 153  434]]\n"
     ]
    },
    {
     "name": "stderr",
     "output_type": "stream",
     "text": [
      "[W 2024-09-28 15:23:02,774] Trial 31 failed with parameters: {'lgb_max_depth': 2, 'lgb_num_leaves': 4, 'lgb_min_data_in_leaf': 210, 'lgb_num_iter': 7} because of the following error: The value None could not be cast to float..\n",
      "[W 2024-09-28 15:23:02,776] Trial 31 failed with value None.\n"
     ]
    },
    {
     "name": "stdout",
     "output_type": "stream",
     "text": [
      "              precision    recall  f1-score   support\n",
      "\n",
      "           0       0.98      0.85      0.91      7413\n",
      "           1       0.29      0.78      0.42       587\n",
      "\n",
      "    accuracy                           0.84      8000\n",
      "   macro avg       0.63      0.81      0.66      8000\n",
      "weighted avg       0.93      0.84      0.87      8000\n",
      "\n",
      "[[6268 1145]\n",
      " [ 130  457]]\n"
     ]
    },
    {
     "name": "stderr",
     "output_type": "stream",
     "text": [
      "[W 2024-09-28 15:23:10,218] Trial 32 failed with parameters: {'lgb_max_depth': 7, 'lgb_num_leaves': 52, 'lgb_min_data_in_leaf': 2729, 'lgb_num_iter': 5} because of the following error: The value None could not be cast to float..\n",
      "[W 2024-09-28 15:23:10,219] Trial 32 failed with value None.\n"
     ]
    },
    {
     "name": "stdout",
     "output_type": "stream",
     "text": [
      "              precision    recall  f1-score   support\n",
      "\n",
      "           0       0.98      0.80      0.88      7413\n",
      "           1       0.25      0.82      0.38       587\n",
      "\n",
      "    accuracy                           0.80      8000\n",
      "   macro avg       0.62      0.81      0.63      8000\n",
      "weighted avg       0.93      0.80      0.85      8000\n",
      "\n",
      "[[5952 1461]\n",
      " [ 105  482]]\n"
     ]
    },
    {
     "name": "stderr",
     "output_type": "stream",
     "text": [
      "[W 2024-09-28 15:23:17,671] Trial 33 failed with parameters: {'lgb_max_depth': 6, 'lgb_num_leaves': 52, 'lgb_min_data_in_leaf': 1439, 'lgb_num_iter': 9} because of the following error: The value None could not be cast to float..\n",
      "[W 2024-09-28 15:23:17,672] Trial 33 failed with value None.\n"
     ]
    },
    {
     "name": "stdout",
     "output_type": "stream",
     "text": [
      "              precision    recall  f1-score   support\n",
      "\n",
      "           0       0.98      0.87      0.92      7413\n",
      "           1       0.32      0.77      0.45       587\n",
      "\n",
      "    accuracy                           0.86      8000\n",
      "   macro avg       0.65      0.82      0.69      8000\n",
      "weighted avg       0.93      0.86      0.89      8000\n",
      "\n",
      "[[6449  964]\n",
      " [ 133  454]]\n"
     ]
    },
    {
     "name": "stderr",
     "output_type": "stream",
     "text": [
      "[W 2024-09-28 15:23:25,567] Trial 34 failed with parameters: {'lgb_max_depth': 8, 'lgb_num_leaves': 90, 'lgb_min_data_in_leaf': 840, 'lgb_num_iter': 5} because of the following error: The value None could not be cast to float..\n",
      "[W 2024-09-28 15:23:25,568] Trial 34 failed with value None.\n"
     ]
    },
    {
     "name": "stdout",
     "output_type": "stream",
     "text": [
      "              precision    recall  f1-score   support\n",
      "\n",
      "           0       0.98      0.88      0.93      7413\n",
      "           1       0.34      0.81      0.48       587\n",
      "\n",
      "    accuracy                           0.87      8000\n",
      "   macro avg       0.66      0.84      0.70      8000\n",
      "weighted avg       0.94      0.87      0.89      8000\n",
      "\n",
      "[[6497  916]\n",
      " [ 114  473]]\n"
     ]
    },
    {
     "name": "stderr",
     "output_type": "stream",
     "text": [
      "[W 2024-09-28 15:23:33,663] Trial 35 failed with parameters: {'lgb_max_depth': 6, 'lgb_num_leaves': 90, 'lgb_min_data_in_leaf': 104, 'lgb_num_iter': 10} because of the following error: The value None could not be cast to float..\n",
      "[W 2024-09-28 15:23:33,664] Trial 35 failed with value None.\n"
     ]
    },
    {
     "name": "stdout",
     "output_type": "stream",
     "text": [
      "              precision    recall  f1-score   support\n",
      "\n",
      "           0       0.98      0.89      0.94      7413\n",
      "           1       0.37      0.80      0.51       587\n",
      "\n",
      "    accuracy                           0.89      8000\n",
      "   macro avg       0.68      0.85      0.72      8000\n",
      "weighted avg       0.94      0.89      0.90      8000\n",
      "\n",
      "[[6624  789]\n",
      " [ 119  468]]\n"
     ]
    },
    {
     "name": "stderr",
     "output_type": "stream",
     "text": [
      "[W 2024-09-28 15:23:41,530] Trial 36 failed with parameters: {'lgb_max_depth': 5, 'lgb_num_leaves': 55, 'lgb_min_data_in_leaf': 3729, 'lgb_num_iter': 5} because of the following error: The value None could not be cast to float..\n",
      "[W 2024-09-28 15:23:41,532] Trial 36 failed with value None.\n"
     ]
    },
    {
     "name": "stdout",
     "output_type": "stream",
     "text": [
      "              precision    recall  f1-score   support\n",
      "\n",
      "           0       0.98      0.80      0.88      7413\n",
      "           1       0.24      0.81      0.37       587\n",
      "\n",
      "    accuracy                           0.80      8000\n",
      "   macro avg       0.61      0.81      0.63      8000\n",
      "weighted avg       0.93      0.80      0.84      8000\n",
      "\n",
      "[[5922 1491]\n",
      " [ 110  477]]\n"
     ]
    },
    {
     "name": "stderr",
     "output_type": "stream",
     "text": [
      "[W 2024-09-28 15:23:49,975] Trial 37 failed with parameters: {'lgb_max_depth': 6, 'lgb_num_leaves': 20, 'lgb_min_data_in_leaf': 187, 'lgb_num_iter': 9} because of the following error: The value None could not be cast to float..\n",
      "[W 2024-09-28 15:23:49,976] Trial 37 failed with value None.\n"
     ]
    },
    {
     "name": "stdout",
     "output_type": "stream",
     "text": [
      "              precision    recall  f1-score   support\n",
      "\n",
      "           0       0.98      0.88      0.93      7413\n",
      "           1       0.36      0.82      0.50       587\n",
      "\n",
      "    accuracy                           0.88      8000\n",
      "   macro avg       0.67      0.85      0.71      8000\n",
      "weighted avg       0.94      0.88      0.90      8000\n",
      "\n",
      "[[6539  874]\n",
      " [ 103  484]]\n"
     ]
    },
    {
     "name": "stderr",
     "output_type": "stream",
     "text": [
      "[W 2024-09-28 15:23:59,231] Trial 38 failed with parameters: {'lgb_max_depth': 7, 'lgb_num_leaves': 38, 'lgb_min_data_in_leaf': 346, 'lgb_num_iter': 2} because of the following error: The value None could not be cast to float..\n",
      "[W 2024-09-28 15:23:59,232] Trial 38 failed with value None.\n"
     ]
    },
    {
     "name": "stdout",
     "output_type": "stream",
     "text": [
      "              precision    recall  f1-score   support\n",
      "\n",
      "           0       0.98      0.88      0.93      7413\n",
      "           1       0.34      0.78      0.48       587\n",
      "\n",
      "    accuracy                           0.88      8000\n",
      "   macro avg       0.66      0.83      0.70      8000\n",
      "weighted avg       0.93      0.88      0.90      8000\n",
      "\n",
      "[[6543  870]\n",
      " [ 129  458]]\n"
     ]
    },
    {
     "name": "stderr",
     "output_type": "stream",
     "text": [
      "[W 2024-09-28 15:24:07,394] Trial 39 failed with parameters: {'lgb_max_depth': 3, 'lgb_num_leaves': 23, 'lgb_min_data_in_leaf': 695, 'lgb_num_iter': 9} because of the following error: The value None could not be cast to float..\n",
      "[W 2024-09-28 15:24:07,396] Trial 39 failed with value None.\n"
     ]
    },
    {
     "name": "stdout",
     "output_type": "stream",
     "text": [
      "              precision    recall  f1-score   support\n",
      "\n",
      "           0       0.98      0.87      0.92      7413\n",
      "           1       0.32      0.78      0.45       587\n",
      "\n",
      "    accuracy                           0.86      8000\n",
      "   macro avg       0.65      0.82      0.68      8000\n",
      "weighted avg       0.93      0.86      0.89      8000\n",
      "\n",
      "[[6419  994]\n",
      " [ 129  458]]\n"
     ]
    }
   ],
   "source": [
    "def objective(trial):\n",
    "    lgb_max_depth = trial.suggest_int('lgb_max_depth', 1, 8)\n",
    "    lgb_num_leaves = trial.suggest_int('lgb_num_leaves', 2,100)\n",
    "    lgb_min_data_in_leaf = trial.suggest_int('lgb_min_data_in_leaf',100,10000,log=True)\n",
    "    lgb_num_iter = trial.suggest_int('lgb_num_iter', 2,10)\n",
    "\n",
    "    regressor_obj = LGBMClassifier(max_depth=lgb_max_depth, num_leaves=lgb_num_leaves, min_data_in_leaf=lgb_min_data_in_leaf, num_iterations=lgb_num_iter, random_state=seed, force_row_wise=True, verbose=-1)\n",
    "    \n",
    "    dummy_df = pd.get_dummies(s.X)\n",
    "    \n",
    "    X_train, X_test, y_train, y_test = train_test_split(dummy_df, s.y, train_size=.80, random_state=seed)\n",
    "    X_train_resample, y_train_resample = SMOTETomek(random_state=seed).fit_resample(X_train, y_train)\n",
    "\n",
    "    regressor_obj.fit(X_train_resample, y_train_resample)\n",
    "    preds = regressor_obj.predict(X_test)\n",
    "    print(classification_report(y_test, preds))\n",
    "    print(confusion_matrix(y_test, preds))\n",
    "\n",
    "study = optuna.create_study(direction='maximize')\n",
    "study.optimize(objective, n_trials=40)"
   ]
  },
  {
   "cell_type": "code",
   "execution_count": 1762,
   "metadata": {},
   "outputs": [
    {
     "name": "stdout",
     "output_type": "stream",
     "text": [
      "              precision    recall  f1-score   support\n",
      "\n",
      "           0       0.98      0.88      0.93      7413\n",
      "           1       0.36      0.82      0.50       587\n",
      "\n",
      "    accuracy                           0.88      8000\n",
      "   macro avg       0.67      0.85      0.71      8000\n",
      "weighted avg       0.94      0.88      0.90      8000\n",
      "\n"
     ]
    },
    {
     "data": {
      "image/png": "[encoded data removed]",
      "text/plain": [
       "<Figure size 800x550 with 2 Axes>"
      ]
     },
     "metadata": {},
     "output_type": "display_data"
    }
   ],
   "source": [
    "\n",
    "lgb_tuned = LGBMClassifier(max_depth=6, num_leaves=20, min_data_in_leaf=187, num_iterations=9, random_state=seed, force_row_wise=True, verbose=-1)\n",
    "lgb_tuned.fit(X_train_resampled_tomek, y_train_resampled_tomek)\n",
    "preds = lgb_tuned.predict(X_test)\n",
    "print(classification_report(y_test, preds))\n",
    "sns.heatmap(data=confusion_matrix(y_test, preds), annot=True, fmt='.2f')\n",
    "plt.title('LGBMClassifier Confusion Matrix')\n",
    "plt.xlabel('Predicted Values')\n",
    "plt.ylabel('Actual Values')\n",
    "plt.show()"
   ]
  },
  {
   "cell_type": "code",
   "execution_count": 1763,
   "metadata": {},
   "outputs": [
    {
     "name": "stdout",
     "output_type": "stream",
     "text": [
      "The total amount of call time during the entirety of the campaign was 2831.38 hours.\n"
     ]
    }
   ],
   "source": [
    "duration_of_calls_in_hours = round(X['duration_in_minutes'].sum()/60, 2)\n",
    "print(f\"The total amount of call time during the entirety of the campaign was {duration_of_calls_in_hours} hours.\")"
   ]
  },
  {
   "cell_type": "code",
   "execution_count": 1764,
   "metadata": {},
   "outputs": [],
   "source": [
    "from sklearn.feature_selection import RFE, RFECV\n",
    "\n",
    "selector = RFE(estimator=lgb_tuned, step=1)\n",
    "selector.fit(X_train_resampled_tomek, y_train_resampled_tomek)\n",
    "ranking = sorted(selector.ranking_)"
   ]
  },
  {
   "cell_type": "code",
   "execution_count": 1765,
   "metadata": {},
   "outputs": [
    {
     "data": {
      "image/png": "[encoded data removed]",
      "text/plain": [
       "<Figure size 1800x1300 with 1 Axes>"
      ]
     },
     "metadata": {},
     "output_type": "display_data"
    }
   ],
   "source": [
    "ranking_df = pd.DataFrame({'columns': X_train_resampled_tomek.columns, 'ranking': ranking})\n",
    "\n",
    "plt.figure(figsize=(18, 13))\n",
    "sns.barplot(data=ranking_df, x='ranking', y='columns')\n",
    "plt.show()"
   ]
  },
  {
   "cell_type": "code",
   "execution_count": 1766,
   "metadata": {},
   "outputs": [
    {
     "name": "stdout",
     "output_type": "stream",
     "text": [
      "20\n"
     ]
    }
   ],
   "source": [
    "top_feature_ranking = int(len([i for i in ranking if i == 1]))\n",
    "print(top_feature_ranking)"
   ]
  },
  {
   "cell_type": "code",
   "execution_count": 1767,
   "metadata": {},
   "outputs": [],
   "source": [
    "cv_selector = RFECV(estimator=lgb_tuned, step=1, min_features_to_select=top_feature_ranking, cv=5)\n",
    "cv_selector.fit(X_train_resampled_tomek, y_train_resampled_tomek)\n",
    "cv_rankings = cv_selector.ranking_\n",
    "cv_rankings = sorted(cv_rankings)"
   ]
  },
  {
   "cell_type": "code",
   "execution_count": 1768,
   "metadata": {},
   "outputs": [
    {
     "data": {
      "image/png": "[encoded data removed]",
      "text/plain": [
       "<Figure size 1800x1300 with 1 Axes>"
      ]
     },
     "metadata": {},
     "output_type": "display_data"
    }
   ],
   "source": [
    "cv_rfe_df = pd.DataFrame({'columns': X_train_resampled_tomek.columns, 'rankings': cv_rankings})\n",
    "\n",
    "plt.figure(figsize=(18, 13))\n",
    "sns.barplot(data=cv_rfe_df, x='rankings', y='columns')\n",
    "plt.show()"
   ]
  },
  {
   "cell_type": "code",
   "execution_count": 1769,
   "metadata": {},
   "outputs": [
    {
     "data": {
      "text/html": [
       "<div>\n",
       "<style scoped>\n",
       "    .dataframe tbody tr th:only-of-type {\n",
       "        vertical-align: middle;\n",
       "    }\n",
       "\n",
       "    .dataframe tbody tr th {\n",
       "        vertical-align: top;\n",
       "    }\n",
       "\n",
       "    .dataframe thead th {\n",
       "        text-align: right;\n",
       "    }\n",
       "</style>\n",
       "<table border=\"1\" class=\"dataframe\">\n",
       "  <thead>\n",
       "    <tr style=\"text-align: right;\">\n",
       "      <th></th>\n",
       "      <th>columns</th>\n",
       "      <th>rfe_rankings</th>\n",
       "      <th>cv_rfe_rankings</th>\n",
       "    </tr>\n",
       "  </thead>\n",
       "  <tbody>\n",
       "    <tr>\n",
       "      <th>0</th>\n",
       "      <td>age</td>\n",
       "      <td>1</td>\n",
       "      <td>1</td>\n",
       "    </tr>\n",
       "    <tr>\n",
       "      <th>1</th>\n",
       "      <td>default</td>\n",
       "      <td>1</td>\n",
       "      <td>1</td>\n",
       "    </tr>\n",
       "    <tr>\n",
       "      <th>2</th>\n",
       "      <td>balance</td>\n",
       "      <td>1</td>\n",
       "      <td>1</td>\n",
       "    </tr>\n",
       "    <tr>\n",
       "      <th>3</th>\n",
       "      <td>housing</td>\n",
       "      <td>1</td>\n",
       "      <td>1</td>\n",
       "    </tr>\n",
       "    <tr>\n",
       "      <th>4</th>\n",
       "      <td>loan</td>\n",
       "      <td>1</td>\n",
       "      <td>1</td>\n",
       "    </tr>\n",
       "  </tbody>\n",
       "</table>\n",
       "</div>"
      ],
      "text/plain": [
       "   columns  rfe_rankings  cv_rfe_rankings\n",
       "0      age             1                1\n",
       "1  default             1                1\n",
       "2  balance             1                1\n",
       "3  housing             1                1\n",
       "4     loan             1                1"
      ]
     },
     "execution_count": 1769,
     "metadata": {},
     "output_type": "execute_result"
    }
   ],
   "source": [
    "rankings_df = pd.DataFrame({'columns': X_train_resampled_tomek.columns, 'rfe_rankings': ranking, 'cv_rfe_rankings': cv_rankings})\n",
    "\n",
    "rankings_df.head()"
   ]
  },
  {
   "cell_type": "code",
   "execution_count": 1770,
   "metadata": {},
   "outputs": [],
   "source": [
    "cv_rankings_1 = rankings_df[rankings_df['cv_rfe_rankings']==1]\n",
    "columns_to_train = cv_rankings_1['columns'].tolist()"
   ]
  },
  {
   "cell_type": "code",
   "execution_count": 1771,
   "metadata": {},
   "outputs": [
    {
     "name": "stdout",
     "output_type": "stream",
     "text": [
      "              precision    recall  f1-score   support\n",
      "\n",
      "           0       0.98      0.84      0.91      7413\n",
      "           1       0.28      0.78      0.42       587\n",
      "\n",
      "    accuracy                           0.84      8000\n",
      "   macro avg       0.63      0.81      0.66      8000\n",
      "weighted avg       0.93      0.84      0.87      8000\n",
      "\n"
     ]
    },
    {
     "data": {
      "image/png": "[encoded data removed]",
      "text/plain": [
       "<Figure size 800x550 with 2 Axes>"
      ]
     },
     "metadata": {},
     "output_type": "display_data"
    }
   ],
   "source": [
    "X_train, X_test, y_train, y_test = train_test_split(dummy_new_X[columns_to_train], s.y, train_size=.80, random_state=seed)\n",
    "X_train_resample, y_train_resample = SMOTETomek(random_state=seed).fit_resample(X_train, y_train)\n",
    "\n",
    "lgb_tuned.fit(X_train_resample, y_train_resample)\n",
    "preds = lgb_tuned.predict(X_test)\n",
    "print(classification_report(y_test, preds))\n",
    "\n",
    "sns.heatmap(data=confusion_matrix(y_test, preds), fmt='.2f', annot=True)\n",
    "plt.title('LGBMClassifier Confusion Matrix with extracted features')\n",
    "plt.xlabel('Predicted Values')\n",
    "plt.ylabel('Actual Values')\n",
    "plt.show()"
   ]
  },
  {
   "cell_type": "code",
   "execution_count": 1772,
   "metadata": {},
   "outputs": [
    {
     "data": {
      "text/plain": [
       "['age',\n",
       " 'default',\n",
       " 'balance',\n",
       " 'housing',\n",
       " 'loan',\n",
       " 'day',\n",
       " 'campaign',\n",
       " 'duration_in_minutes',\n",
       " 'job_admin',\n",
       " 'job_blue-collar',\n",
       " 'job_entrepreneur',\n",
       " 'job_housemaid',\n",
       " 'job_management',\n",
       " 'job_retired',\n",
       " 'job_self-employed',\n",
       " 'job_services',\n",
       " 'job_student',\n",
       " 'job_technician',\n",
       " 'job_unemployed',\n",
       " 'job_unknown']"
      ]
     },
     "execution_count": 1772,
     "metadata": {},
     "output_type": "execute_result"
    }
   ],
   "source": [
    "columns_to_train"
   ]
  },
  {
   "attachments": {},
   "cell_type": "markdown",
   "metadata": {},
   "source": [
    "## Conclusion"
   ]
  },
  {
   "attachments": {},
   "cell_type": "markdown",
   "metadata": {},
   "source": [
    "* With certain features extracted the LGBMClassifer classifies more false positives which was the goal from the onset of this section of modeling.\n",
    "* With those false positives we can calculate the call time saved to be close to 60 hours while only losing 130 potential subscribers to the term deposit product. \n",
    "* Using the select columns above the model gains over 250 false positive classifications that can be negated from making calls to while only losing an additional 25 potential customers."
   ]
  },
  {
   "cell_type": "code",
   "execution_count": null,
   "metadata": {},
   "outputs": [],
   "source": []
  }
 ],
 "metadata": {
  "kernelspec": {
   "display_name": ".venv",
   "language": "python",
   "name": "python3"
  },
  "language_info": {
   "codemirror_mode": {
    "name": "ipython",
    "version": 3
   },
   "file_extension": ".py",
   "mimetype": "text/x-python",
   "name": "python",
   "nbconvert_exporter": "python",
   "pygments_lexer": "ipython3",
   "version": "3.9.13"
  },
  "orig_nbformat": 4
 },
 "nbformat": 4,
 "nbformat_minor": 2
}
